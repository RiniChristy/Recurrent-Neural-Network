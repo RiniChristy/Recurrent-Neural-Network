{
 "cells": [
  {
   "cell_type": "code",
   "execution_count": 1,
   "metadata": {},
   "outputs": [],
   "source": [
    "from pandas_datareader import data, wb\n",
    "import pandas as pd\n",
    "import numpy as np\n",
    "import datetime\n",
    "import matplotlib.pyplot as plt\n",
    "%matplotlib inline\n",
    "import seaborn as sns"
   ]
  },
  {
   "cell_type": "code",
   "execution_count": 6,
   "metadata": {},
   "outputs": [
    {
     "data": {
      "text/html": [
       "<div>\n",
       "<style scoped>\n",
       "    .dataframe tbody tr th:only-of-type {\n",
       "        vertical-align: middle;\n",
       "    }\n",
       "\n",
       "    .dataframe tbody tr th {\n",
       "        vertical-align: top;\n",
       "    }\n",
       "\n",
       "    .dataframe thead th {\n",
       "        text-align: right;\n",
       "    }\n",
       "</style>\n",
       "<table border=\"1\" class=\"dataframe\">\n",
       "  <thead>\n",
       "    <tr style=\"text-align: right;\">\n",
       "      <th></th>\n",
       "      <th>High</th>\n",
       "      <th>Low</th>\n",
       "      <th>Open</th>\n",
       "      <th>Close</th>\n",
       "      <th>Volume</th>\n",
       "      <th>Adj Close</th>\n",
       "    </tr>\n",
       "    <tr>\n",
       "      <th>Date</th>\n",
       "      <th></th>\n",
       "      <th></th>\n",
       "      <th></th>\n",
       "      <th></th>\n",
       "      <th></th>\n",
       "      <th></th>\n",
       "    </tr>\n",
       "  </thead>\n",
       "  <tbody>\n",
       "    <tr>\n",
       "      <th>2000-01-03</th>\n",
       "      <td>25.12500</td>\n",
       "      <td>24.00000</td>\n",
       "      <td>25.12500</td>\n",
       "      <td>24.21875</td>\n",
       "      <td>13705800.0</td>\n",
       "      <td>12.253836</td>\n",
       "    </tr>\n",
       "    <tr>\n",
       "      <th>2000-01-04</th>\n",
       "      <td>23.96875</td>\n",
       "      <td>22.46875</td>\n",
       "      <td>23.87500</td>\n",
       "      <td>22.78125</td>\n",
       "      <td>27293400.0</td>\n",
       "      <td>11.526516</td>\n",
       "    </tr>\n",
       "    <tr>\n",
       "      <th>2000-01-05</th>\n",
       "      <td>23.21875</td>\n",
       "      <td>22.25000</td>\n",
       "      <td>22.53125</td>\n",
       "      <td>23.03125</td>\n",
       "      <td>22855600.0</td>\n",
       "      <td>11.653006</td>\n",
       "    </tr>\n",
       "    <tr>\n",
       "      <th>2000-01-06</th>\n",
       "      <td>25.00000</td>\n",
       "      <td>23.37500</td>\n",
       "      <td>23.46875</td>\n",
       "      <td>25.00000</td>\n",
       "      <td>17307000.0</td>\n",
       "      <td>12.649126</td>\n",
       "    </tr>\n",
       "    <tr>\n",
       "      <th>2000-01-07</th>\n",
       "      <td>24.81250</td>\n",
       "      <td>24.00000</td>\n",
       "      <td>24.81250</td>\n",
       "      <td>24.34375</td>\n",
       "      <td>11632800.0</td>\n",
       "      <td>12.317083</td>\n",
       "    </tr>\n",
       "  </tbody>\n",
       "</table>\n",
       "</div>"
      ],
      "text/plain": [
       "                High       Low      Open     Close      Volume  Adj Close\n",
       "Date                                                                     \n",
       "2000-01-03  25.12500  24.00000  25.12500  24.21875  13705800.0  12.253836\n",
       "2000-01-04  23.96875  22.46875  23.87500  22.78125  27293400.0  11.526516\n",
       "2000-01-05  23.21875  22.25000  22.53125  23.03125  22855600.0  11.653006\n",
       "2000-01-06  25.00000  23.37500  23.46875  25.00000  17307000.0  12.649126\n",
       "2000-01-07  24.81250  24.00000  24.81250  24.34375  11632800.0  12.317083"
      ]
     },
     "execution_count": 6,
     "metadata": {},
     "output_type": "execute_result"
    }
   ],
   "source": [
    "BAC = data.DataReader(\"BAC\", data_source=\"yahoo\", start = \"2000-01-01\", end = \"2019-06-01\")\n",
    "BAC.head()"
   ]
  },
  {
   "cell_type": "code",
   "execution_count": 7,
   "metadata": {},
   "outputs": [
    {
     "data": {
      "text/plain": [
       "(4878, 6)"
      ]
     },
     "execution_count": 7,
     "metadata": {},
     "output_type": "execute_result"
    }
   ],
   "source": [
    "BAC.shape"
   ]
  },
  {
   "cell_type": "code",
   "execution_count": 13,
   "metadata": {},
   "outputs": [
    {
     "data": {
      "text/plain": [
       "(4000, 6)"
      ]
     },
     "execution_count": 13,
     "metadata": {},
     "output_type": "execute_result"
    }
   ],
   "source": [
    "BAC_train = BAC.iloc[:4000, :]\n",
    "BAC_train.shape"
   ]
  },
  {
   "cell_type": "code",
   "execution_count": 14,
   "metadata": {},
   "outputs": [
    {
     "data": {
      "text/plain": [
       "(878, 6)"
      ]
     },
     "execution_count": 14,
     "metadata": {},
     "output_type": "execute_result"
    }
   ],
   "source": [
    "BAC_test = BAC.iloc[4000:, :]\n",
    "BAC_test.shape"
   ]
  },
  {
   "cell_type": "code",
   "execution_count": 15,
   "metadata": {},
   "outputs": [
    {
     "data": {
      "text/plain": [
       "array([[25.125     ],\n",
       "       [23.875     ],\n",
       "       [22.53125   ],\n",
       "       ...,\n",
       "       [17.80999947],\n",
       "       [17.62000084],\n",
       "       [17.26000023]])"
      ]
     },
     "execution_count": 15,
     "metadata": {},
     "output_type": "execute_result"
    }
   ],
   "source": [
    "training_set = BAC.iloc[:4000, 2:3].values\n",
    "training_set"
   ]
  },
  {
   "cell_type": "code",
   "execution_count": 16,
   "metadata": {},
   "outputs": [],
   "source": [
    "# Feature Scaling\n",
    "from sklearn.preprocessing import MinMaxScaler\n",
    "sc = MinMaxScaler(feature_range = (0, 1))\n",
    "training_set_scaled = sc.fit_transform(training_set)\n",
    "\n",
    "# Creating a data structure with 60 timesteps and 1 output\n",
    "X_train = []\n",
    "y_train = []\n",
    "for i in range(60, 3999):\n",
    "    X_train.append(training_set_scaled[i-60:i, 0])\n",
    "    y_train.append(training_set_scaled[i, 0])\n",
    "X_train, y_train = np.array(X_train), np.array(y_train)\n",
    "\n",
    "# Reshaping\n",
    "X_train = np.reshape(X_train, (X_train.shape[0], X_train.shape[1], 1))"
   ]
  },
  {
   "cell_type": "code",
   "execution_count": 17,
   "metadata": {},
   "outputs": [
    {
     "name": "stdout",
     "output_type": "stream",
     "text": [
      "Epoch 1/100\n",
      "3939/3939 [==============================] - 44s 11ms/step - loss: 0.0147\n",
      "Epoch 2/100\n",
      "3939/3939 [==============================] - 38s 10ms/step - loss: 0.0040\n",
      "Epoch 3/100\n",
      "3939/3939 [==============================] - 37s 9ms/step - loss: 0.0039\n",
      "Epoch 4/100\n",
      "3939/3939 [==============================] - 37s 9ms/step - loss: 0.0036\n",
      "Epoch 5/100\n",
      "3939/3939 [==============================] - 37s 9ms/step - loss: 0.0031\n",
      "Epoch 6/100\n",
      "3939/3939 [==============================] - 37s 9ms/step - loss: 0.0028\n",
      "Epoch 7/100\n",
      "3939/3939 [==============================] - 37s 9ms/step - loss: 0.0028\n",
      "Epoch 8/100\n",
      "3939/3939 [==============================] - 36s 9ms/step - loss: 0.0025\n",
      "Epoch 9/100\n",
      "3939/3939 [==============================] - 37s 9ms/step - loss: 0.0024\n",
      "Epoch 10/100\n",
      "3939/3939 [==============================] - 37s 9ms/step - loss: 0.0023\n",
      "Epoch 11/100\n",
      "3939/3939 [==============================] - 37s 9ms/step - loss: 0.0022\n",
      "Epoch 12/100\n",
      "3939/3939 [==============================] - 37s 10ms/step - loss: 0.0022\n",
      "Epoch 13/100\n",
      "3939/3939 [==============================] - 38s 10ms/step - loss: 0.0020\n",
      "Epoch 14/100\n",
      "3939/3939 [==============================] - 37s 9ms/step - loss: 0.0020\n",
      "Epoch 15/100\n",
      "3939/3939 [==============================] - 40s 10ms/step - loss: 0.0020\n",
      "Epoch 16/100\n",
      "3939/3939 [==============================] - 36s 9ms/step - loss: 0.0020\n",
      "Epoch 17/100\n",
      "3939/3939 [==============================] - 37s 9ms/step - loss: 0.0019\n",
      "Epoch 18/100\n",
      "3939/3939 [==============================] - 37s 9ms/step - loss: 0.0020\n",
      "Epoch 19/100\n",
      "3939/3939 [==============================] - 35s 9ms/step - loss: 0.0020\n",
      "Epoch 20/100\n",
      "3939/3939 [==============================] - 35s 9ms/step - loss: 0.0016\n",
      "Epoch 21/100\n",
      "3939/3939 [==============================] - 35s 9ms/step - loss: 0.0016\n",
      "Epoch 22/100\n",
      "3939/3939 [==============================] - 35s 9ms/step - loss: 0.0015\n",
      "Epoch 23/100\n",
      "3939/3939 [==============================] - 35s 9ms/step - loss: 0.0015\n",
      "Epoch 24/100\n",
      "3939/3939 [==============================] - 35s 9ms/step - loss: 0.0014\n",
      "Epoch 25/100\n",
      "3939/3939 [==============================] - 35s 9ms/step - loss: 0.0014\n",
      "Epoch 26/100\n",
      "3939/3939 [==============================] - 35s 9ms/step - loss: 0.0013\n",
      "Epoch 27/100\n",
      "3939/3939 [==============================] - 35s 9ms/step - loss: 0.0014\n",
      "Epoch 28/100\n",
      "3939/3939 [==============================] - 35s 9ms/step - loss: 0.0013\n",
      "Epoch 29/100\n",
      "3939/3939 [==============================] - 35s 9ms/step - loss: 0.0013\n",
      "Epoch 30/100\n",
      "3939/3939 [==============================] - 35s 9ms/step - loss: 0.0013\n",
      "Epoch 31/100\n",
      "3939/3939 [==============================] - 35s 9ms/step - loss: 0.0013\n",
      "Epoch 32/100\n",
      "3939/3939 [==============================] - 35s 9ms/step - loss: 0.0012\n",
      "Epoch 33/100\n",
      "3939/3939 [==============================] - 35s 9ms/step - loss: 0.0013\n",
      "Epoch 34/100\n",
      "3939/3939 [==============================] - 35s 9ms/step - loss: 0.0012\n",
      "Epoch 35/100\n",
      "3939/3939 [==============================] - 35s 9ms/step - loss: 0.0011\n",
      "Epoch 36/100\n",
      "3939/3939 [==============================] - 35s 9ms/step - loss: 0.0012\n",
      "Epoch 37/100\n",
      "3939/3939 [==============================] - 35s 9ms/step - loss: 0.0012\n",
      "Epoch 38/100\n",
      "3939/3939 [==============================] - 35s 9ms/step - loss: 0.0012\n",
      "Epoch 39/100\n",
      "3939/3939 [==============================] - 35s 9ms/step - loss: 0.0011\n",
      "Epoch 40/100\n",
      "3939/3939 [==============================] - 35s 9ms/step - loss: 0.0011\n",
      "Epoch 41/100\n",
      "3939/3939 [==============================] - 35s 9ms/step - loss: 0.0010\n",
      "Epoch 42/100\n",
      "3939/3939 [==============================] - 35s 9ms/step - loss: 0.0010\n",
      "Epoch 43/100\n",
      "3939/3939 [==============================] - 35s 9ms/step - loss: 0.0012\n",
      "Epoch 44/100\n",
      "3939/3939 [==============================] - 35s 9ms/step - loss: 0.0011\n",
      "Epoch 45/100\n",
      "3939/3939 [==============================] - 35s 9ms/step - loss: 0.0010\n",
      "Epoch 46/100\n",
      "3939/3939 [==============================] - 35s 9ms/step - loss: 0.0010\n",
      "Epoch 47/100\n",
      "3939/3939 [==============================] - 35s 9ms/step - loss: 0.0010\n",
      "Epoch 48/100\n",
      "3939/3939 [==============================] - 35s 9ms/step - loss: 0.0010\n",
      "Epoch 49/100\n",
      "3939/3939 [==============================] - 35s 9ms/step - loss: 0.0010\n",
      "Epoch 50/100\n",
      "3939/3939 [==============================] - 35s 9ms/step - loss: 0.0011\n",
      "Epoch 51/100\n",
      "3939/3939 [==============================] - 35s 9ms/step - loss: 9.2549e-04\n",
      "Epoch 52/100\n",
      "3939/3939 [==============================] - 35s 9ms/step - loss: 9.6721e-04\n",
      "Epoch 53/100\n",
      "3939/3939 [==============================] - 35s 9ms/step - loss: 9.2157e-04\n",
      "Epoch 54/100\n",
      "3939/3939 [==============================] - 35s 9ms/step - loss: 9.9601e-04\n",
      "Epoch 55/100\n",
      "3939/3939 [==============================] - 35s 9ms/step - loss: 9.0012e-04\n",
      "Epoch 56/100\n",
      "3939/3939 [==============================] - 35s 9ms/step - loss: 0.0010\n",
      "Epoch 57/100\n",
      "3939/3939 [==============================] - 35s 9ms/step - loss: 9.3085e-04\n",
      "Epoch 58/100\n",
      "3939/3939 [==============================] - 36s 9ms/step - loss: 9.2988e-04\n",
      "Epoch 59/100\n",
      "3939/3939 [==============================] - 36s 9ms/step - loss: 8.7374e-04\n",
      "Epoch 60/100\n",
      "3939/3939 [==============================] - 39s 10ms/step - loss: 9.6950e-04\n",
      "Epoch 61/100\n",
      "3939/3939 [==============================] - 38s 10ms/step - loss: 8.9263e-04\n",
      "Epoch 62/100\n",
      "3939/3939 [==============================] - 38s 10ms/step - loss: 8.8594e-04\n",
      "Epoch 63/100\n",
      "3939/3939 [==============================] - 38s 10ms/step - loss: 0.0010\n",
      "Epoch 64/100\n",
      "3939/3939 [==============================] - 37s 9ms/step - loss: 9.1534e-04\n",
      "Epoch 65/100\n",
      "3939/3939 [==============================] - 38s 10ms/step - loss: 8.6573e-04\n",
      "Epoch 66/100\n",
      "3939/3939 [==============================] - 37s 9ms/step - loss: 9.6029e-04\n",
      "Epoch 67/100\n",
      "3939/3939 [==============================] - 38s 10ms/step - loss: 9.2029e-04\n",
      "Epoch 68/100\n",
      "3939/3939 [==============================] - 37s 10ms/step - loss: 8.9237e-04\n",
      "Epoch 69/100\n",
      "3939/3939 [==============================] - 37s 10ms/step - loss: 8.3472e-04\n",
      "Epoch 70/100\n",
      "3939/3939 [==============================] - 37s 9ms/step - loss: 9.0372e-04\n",
      "Epoch 71/100\n",
      "3939/3939 [==============================] - 37s 9ms/step - loss: 8.2482e-04\n",
      "Epoch 72/100\n",
      "3939/3939 [==============================] - 37s 10ms/step - loss: 9.6123e-04\n",
      "Epoch 73/100\n",
      "3939/3939 [==============================] - 37s 9ms/step - loss: 9.2824e-04\n",
      "Epoch 74/100\n",
      "3939/3939 [==============================] - 37s 9ms/step - loss: 9.4866e-04\n",
      "Epoch 75/100\n",
      "3939/3939 [==============================] - 37s 9ms/step - loss: 9.6135e-04\n",
      "Epoch 76/100\n",
      "3939/3939 [==============================] - 37s 9ms/step - loss: 8.3275e-04\n",
      "Epoch 77/100\n",
      "3939/3939 [==============================] - 38s 10ms/step - loss: 9.0203e-04\n",
      "Epoch 78/100\n",
      "3939/3939 [==============================] - 37s 10ms/step - loss: 9.1122e-04\n",
      "Epoch 79/100\n",
      "3939/3939 [==============================] - 36s 9ms/step - loss: 8.6142e-04\n",
      "Epoch 80/100\n",
      "3939/3939 [==============================] - 36s 9ms/step - loss: 9.6693e-04\n",
      "Epoch 81/100\n",
      "3939/3939 [==============================] - 36s 9ms/step - loss: 8.3647e-04\n",
      "Epoch 82/100\n",
      "3939/3939 [==============================] - 36s 9ms/step - loss: 0.0010\n",
      "Epoch 83/100\n",
      "3939/3939 [==============================] - 38s 10ms/step - loss: 8.4935e-04\n",
      "Epoch 84/100\n",
      "3939/3939 [==============================] - 37s 9ms/step - loss: 8.7041e-04\n",
      "Epoch 85/100\n",
      "3939/3939 [==============================] - 37s 9ms/step - loss: 9.2107e-04\n",
      "Epoch 86/100\n",
      "3939/3939 [==============================] - 37s 9ms/step - loss: 8.1517e-04\n",
      "Epoch 87/100\n",
      "3939/3939 [==============================] - 37s 9ms/step - loss: 9.0367e-04\n",
      "Epoch 88/100\n",
      "3939/3939 [==============================] - 37s 9ms/step - loss: 8.5721e-04\n",
      "Epoch 89/100\n",
      "3939/3939 [==============================] - 37s 9ms/step - loss: 8.4389e-04\n",
      "Epoch 90/100\n",
      "3939/3939 [==============================] - 36s 9ms/step - loss: 8.2779e-04\n",
      "Epoch 91/100\n",
      "3939/3939 [==============================] - 37s 9ms/step - loss: 7.9245e-04\n",
      "Epoch 92/100\n",
      "3939/3939 [==============================] - 46s 12ms/step - loss: 8.3272e-04\n",
      "Epoch 93/100\n",
      "3939/3939 [==============================] - 70s 18ms/step - loss: 8.3597e-04\n",
      "Epoch 94/100\n"
     ]
    },
    {
     "name": "stdout",
     "output_type": "stream",
     "text": [
      "3939/3939 [==============================] - 67s 17ms/step - loss: 7.7418e-04\n",
      "Epoch 95/100\n",
      "3939/3939 [==============================] - 60s 15ms/step - loss: 8.1890e-04\n",
      "Epoch 96/100\n",
      "3939/3939 [==============================] - 38s 10ms/step - loss: 8.2734e-04\n",
      "Epoch 97/100\n",
      "3939/3939 [==============================] - 37s 10ms/step - loss: 8.8086e-04\n",
      "Epoch 98/100\n",
      "3939/3939 [==============================] - 38s 10ms/step - loss: 8.4279e-04\n",
      "Epoch 99/100\n",
      "3939/3939 [==============================] - 38s 10ms/step - loss: 8.6098e-04\n",
      "Epoch 100/100\n",
      "3939/3939 [==============================] - 38s 10ms/step - loss: 8.7095e-04\n"
     ]
    },
    {
     "data": {
      "text/plain": [
       "<keras.callbacks.History at 0x21c35db3dd8>"
      ]
     },
     "execution_count": 17,
     "metadata": {},
     "output_type": "execute_result"
    }
   ],
   "source": [
    "# Part 2 - Building the RNN\n",
    "\n",
    "# Importing the Keras libraries and packages\n",
    "from keras.models import Sequential\n",
    "from keras.layers import Dense\n",
    "from keras.layers import LSTM\n",
    "from keras.layers import Dropout\n",
    "\n",
    "# Initialising the RNN\n",
    "regressor = Sequential()\n",
    "\n",
    "# Adding the first LSTM layer and some Dropout regularisation\n",
    "regressor.add(LSTM(units = 50, return_sequences = True, input_shape = (X_train.shape[1], 1)))\n",
    "regressor.add(Dropout(0.2))\n",
    "\n",
    "# Adding a second LSTM layer and some Dropout regularisation\n",
    "regressor.add(LSTM(units = 50, return_sequences = True))\n",
    "regressor.add(Dropout(0.2))\n",
    "\n",
    "# Adding a third LSTM layer and some Dropout regularisation\n",
    "regressor.add(LSTM(units = 50, return_sequences = True))\n",
    "regressor.add(Dropout(0.2))\n",
    "\n",
    "# Adding a fourth LSTM layer and some Dropout regularisation\n",
    "regressor.add(LSTM(units = 50))\n",
    "regressor.add(Dropout(0.2))\n",
    "\n",
    "# Adding the output layer\n",
    "regressor.add(Dense(units = 1))\n",
    "\n",
    "# Compiling the RNN\n",
    "regressor.compile(optimizer = 'adam', loss = 'mean_squared_error')\n",
    "\n",
    "# Fitting the RNN to the Training set\n",
    "regressor.fit(X_train, y_train, epochs = 100, batch_size = 32)"
   ]
  },
  {
   "cell_type": "code",
   "execution_count": 18,
   "metadata": {},
   "outputs": [],
   "source": [
    "# Part 3 - Making the predictions and visualising the results\n",
    "\n",
    "# Getting the real recent stock prices until 2019\n",
    "real_stock_price = BAC_test.iloc[:, 2:3].values"
   ]
  },
  {
   "cell_type": "code",
   "execution_count": 26,
   "metadata": {},
   "outputs": [],
   "source": [
    "# Getting the predicted stock prices until 2019\n",
    "BAC_total = pd.concat((BAC_train['Close'], BAC_test['Close']), axis = 0)\n",
    "inputs = BAC_total[len(BAC_total) - len(BAC_test) - 60:].values\n",
    "inputs = inputs.reshape(-1,1)\n",
    "inputs = sc.transform(inputs)\n",
    "X_test = []\n",
    "for i in range(60, 938):\n",
    "    X_test.append(inputs[i-60:i, 0])\n",
    "X_test = np.array(X_test)\n",
    "X_test = np.reshape(X_test, (X_test.shape[0], X_test.shape[1], 1))\n",
    "predicted_stock_price = regressor.predict(X_test)\n",
    "predicted_stock_price = sc.inverse_transform(predicted_stock_price)"
   ]
  },
  {
   "cell_type": "code",
   "execution_count": 27,
   "metadata": {},
   "outputs": [
    {
     "data": {
      "image/png": "[encoded data removed]",
      "text/plain": [
       "<Figure size 432x288 with 1 Axes>"
      ]
     },
     "metadata": {
      "needs_background": "light"
     },
     "output_type": "display_data"
    }
   ],
   "source": [
    "# Visualising the results\n",
    "plt.plot(real_stock_price, color = 'red', label = 'Real Bank of America Stock Price')\n",
    "plt.plot(predicted_stock_price, color = 'blue', label = 'Predicted Bank of America Stock Price')\n",
    "plt.title('Bank of America Stock Price prediction')\n",
    "plt.xlabel('Date')\n",
    "plt.ylabel('Bank of America Stock Price')\n",
    "plt.legend()\n",
    "plt.show()"
   ]
  },
  {
   "cell_type": "code",
   "execution_count": 28,
   "metadata": {},
   "outputs": [
    {
     "data": {
      "text/plain": [
       "0.30791155273344384"
      ]
     },
     "execution_count": 28,
     "metadata": {},
     "output_type": "execute_result"
    }
   ],
   "source": [
    "#Evaluating the RNN\n",
    "import math\n",
    "from sklearn.metrics import mean_squared_error\n",
    "rmse = math.sqrt(mean_squared_error(real_stock_price, predicted_stock_price))\n",
    "rmse"
   ]
  },
  {
   "cell_type": "code",
   "execution_count": 29,
   "metadata": {},
   "outputs": [
    {
     "data": {
      "image/png": "[encoded data removed]",
      "text/plain": [
       "<Figure size 432x288 with 1 Axes>"
      ]
     },
     "metadata": {
      "needs_background": "light"
     },
     "output_type": "display_data"
    }
   ],
   "source": [
    "# Visualising the results\n",
    " \n",
    "shift_pred= predicted_stock_price[:-1]\n",
    "shift_pred = np.append(0, np.reshape(shift_pred, len(shift_pred)))\n",
    "shift_real = real_stock_price[:-1]\n",
    "shift_real = np.append(0, np.reshape(shift_real, len(shift_real)))\n",
    " \n",
    "dif_pred = np.add(np.reshape(predicted_stock_price, len(predicted_stock_price)), - shift_pred)[1:]\n",
    "dif_real = np.add(np.reshape(real_stock_price, len(real_stock_price)), - shift_real)[1:]\n",
    " \n",
    "fig, ax = plt.subplots()\n",
    "ind = np.arange(dif_real.size)\n",
    "real_bar = ax.bar(ind-0.15, dif_real, width=0.3, color = 'red', label = 'Real Difference')\n",
    "pred_bar = ax.bar(ind+0.15, dif_pred, width=0.3, color = 'blue', label = 'Predicted Difference')\n",
    "ax.set_title('Bank of America Stock Price Prediction')\n",
    "ax.set_xlabel('Date')\n",
    "ax.set_ylabel('Bank of America Stock Price')\n",
    "ax.legend()\n",
    "plt.show()"
   ]
  }
 ],
 "metadata": {
  "kernelspec": {
   "display_name": "Python 3",
   "language": "python",
   "name": "python3"
  },
  "language_info": {
   "codemirror_mode": {
    "name": "ipython",
    "version": 3
   },
   "file_extension": ".py",
   "mimetype": "text/x-python",
   "name": "python",
   "nbconvert_exporter": "python",
   "pygments_lexer": "ipython3",
   "version": "3.7.3"
  }
 },
 "nbformat": 4,
 "nbformat_minor": 2
}
