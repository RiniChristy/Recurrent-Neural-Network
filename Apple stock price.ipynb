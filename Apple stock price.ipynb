{
 "cells": [
  {
   "cell_type": "code",
   "execution_count": 1,
   "metadata": {},
   "outputs": [],
   "source": [
    "from pandas_datareader import data, wb\n",
    "import pandas as pd\n",
    "import numpy as np\n",
    "import datetime\n",
    "import matplotlib.pyplot as plt\n",
    "%matplotlib inline\n",
    "import seaborn as sns"
   ]
  },
  {
   "cell_type": "code",
   "execution_count": 2,
   "metadata": {},
   "outputs": [
    {
     "data": {
      "text/html": [
       "<div>\n",
       "<style scoped>\n",
       "    .dataframe tbody tr th:only-of-type {\n",
       "        vertical-align: middle;\n",
       "    }\n",
       "\n",
       "    .dataframe tbody tr th {\n",
       "        vertical-align: top;\n",
       "    }\n",
       "\n",
       "    .dataframe thead th {\n",
       "        text-align: right;\n",
       "    }\n",
       "</style>\n",
       "<table border=\"1\" class=\"dataframe\">\n",
       "  <thead>\n",
       "    <tr style=\"text-align: right;\">\n",
       "      <th></th>\n",
       "      <th>High</th>\n",
       "      <th>Low</th>\n",
       "      <th>Open</th>\n",
       "      <th>Close</th>\n",
       "      <th>Volume</th>\n",
       "      <th>Adj Close</th>\n",
       "    </tr>\n",
       "    <tr>\n",
       "      <th>Date</th>\n",
       "      <th></th>\n",
       "      <th></th>\n",
       "      <th></th>\n",
       "      <th></th>\n",
       "      <th></th>\n",
       "      <th></th>\n",
       "    </tr>\n",
       "  </thead>\n",
       "  <tbody>\n",
       "    <tr>\n",
       "      <th>1980-12-12</th>\n",
       "      <td>0.515625</td>\n",
       "      <td>0.513393</td>\n",
       "      <td>0.513393</td>\n",
       "      <td>0.513393</td>\n",
       "      <td>117258400.0</td>\n",
       "      <td>0.022919</td>\n",
       "    </tr>\n",
       "    <tr>\n",
       "      <th>1980-12-15</th>\n",
       "      <td>0.488839</td>\n",
       "      <td>0.486607</td>\n",
       "      <td>0.488839</td>\n",
       "      <td>0.486607</td>\n",
       "      <td>43971200.0</td>\n",
       "      <td>0.021723</td>\n",
       "    </tr>\n",
       "    <tr>\n",
       "      <th>1980-12-16</th>\n",
       "      <td>0.453125</td>\n",
       "      <td>0.450893</td>\n",
       "      <td>0.453125</td>\n",
       "      <td>0.450893</td>\n",
       "      <td>26432000.0</td>\n",
       "      <td>0.020129</td>\n",
       "    </tr>\n",
       "    <tr>\n",
       "      <th>1980-12-17</th>\n",
       "      <td>0.464286</td>\n",
       "      <td>0.462054</td>\n",
       "      <td>0.462054</td>\n",
       "      <td>0.462054</td>\n",
       "      <td>21610400.0</td>\n",
       "      <td>0.020627</td>\n",
       "    </tr>\n",
       "    <tr>\n",
       "      <th>1980-12-18</th>\n",
       "      <td>0.477679</td>\n",
       "      <td>0.475446</td>\n",
       "      <td>0.475446</td>\n",
       "      <td>0.475446</td>\n",
       "      <td>18362400.0</td>\n",
       "      <td>0.021225</td>\n",
       "    </tr>\n",
       "  </tbody>\n",
       "</table>\n",
       "</div>"
      ],
      "text/plain": [
       "                High       Low      Open     Close       Volume  Adj Close\n",
       "Date                                                                      \n",
       "1980-12-12  0.515625  0.513393  0.513393  0.513393  117258400.0   0.022919\n",
       "1980-12-15  0.488839  0.486607  0.488839  0.486607   43971200.0   0.021723\n",
       "1980-12-16  0.453125  0.450893  0.453125  0.450893   26432000.0   0.020129\n",
       "1980-12-17  0.464286  0.462054  0.462054  0.462054   21610400.0   0.020627\n",
       "1980-12-18  0.477679  0.475446  0.475446  0.475446   18362400.0   0.021225"
      ]
     },
     "execution_count": 2,
     "metadata": {},
     "output_type": "execute_result"
    }
   ],
   "source": [
    "Apple = data.DataReader(\"AAPL\", data_source=\"yahoo\", start = \"1980-12-01\", end = \"2019-06-01\")\n",
    "Apple.head()"
   ]
  },
  {
   "cell_type": "code",
   "execution_count": 3,
   "metadata": {},
   "outputs": [
    {
     "data": {
      "text/plain": [
       "(9694, 6)"
      ]
     },
     "execution_count": 3,
     "metadata": {},
     "output_type": "execute_result"
    }
   ],
   "source": [
    "Apple.shape"
   ]
  },
  {
   "cell_type": "code",
   "execution_count": 4,
   "metadata": {},
   "outputs": [
    {
     "data": {
      "text/plain": [
       "(9500, 6)"
      ]
     },
     "execution_count": 4,
     "metadata": {},
     "output_type": "execute_result"
    }
   ],
   "source": [
    "Apple_train = Apple.iloc[:9500, :]\n",
    "Apple_train.shape"
   ]
  },
  {
   "cell_type": "code",
   "execution_count": 5,
   "metadata": {},
   "outputs": [
    {
     "data": {
      "text/plain": [
       "(194, 6)"
      ]
     },
     "execution_count": 5,
     "metadata": {},
     "output_type": "execute_result"
    }
   ],
   "source": [
    "Apple_test = Apple.iloc[9500:, :]\n",
    "Apple_test.shape"
   ]
  },
  {
   "cell_type": "code",
   "execution_count": 6,
   "metadata": {},
   "outputs": [
    {
     "data": {
      "text/plain": [
       "array([[  0.51339287],\n",
       "       [  0.4888393 ],\n",
       "       [  0.453125  ],\n",
       "       ...,\n",
       "       [207.69999695],\n",
       "       [210.16000366],\n",
       "       [209.22000122]])"
      ]
     },
     "execution_count": 6,
     "metadata": {},
     "output_type": "execute_result"
    }
   ],
   "source": [
    "training_set = Apple.iloc[:9500, 2:3].values\n",
    "training_set"
   ]
  },
  {
   "cell_type": "code",
   "execution_count": 7,
   "metadata": {},
   "outputs": [],
   "source": [
    "# Feature Scaling\n",
    "from sklearn.preprocessing import MinMaxScaler\n",
    "sc = MinMaxScaler(feature_range = (0, 1))\n",
    "training_set_scaled = sc.fit_transform(training_set)\n",
    "\n",
    "# Creating a data structure with 60 timesteps and 1 output\n",
    "X_train = []\n",
    "y_train = []\n",
    "for i in range(60, 9499):\n",
    "    X_train.append(training_set_scaled[i-60:i, 0])\n",
    "    y_train.append(training_set_scaled[i, 0])\n",
    "X_train, y_train = np.array(X_train), np.array(y_train)\n",
    "\n",
    "# Reshaping\n",
    "X_train = np.reshape(X_train, (X_train.shape[0], X_train.shape[1], 1))"
   ]
  },
  {
   "cell_type": "code",
   "execution_count": 8,
   "metadata": {},
   "outputs": [
    {
     "name": "stderr",
     "output_type": "stream",
     "text": [
      "Using TensorFlow backend.\n"
     ]
    },
    {
     "name": "stdout",
     "output_type": "stream",
     "text": [
      "WARNING:tensorflow:From C:\\Users\\Christy\\Anaconda3\\lib\\site-packages\\tensorflow\\python\\framework\\op_def_library.py:263: colocate_with (from tensorflow.python.framework.ops) is deprecated and will be removed in a future version.\n",
      "Instructions for updating:\n",
      "Colocations handled automatically by placer.\n",
      "WARNING:tensorflow:From C:\\Users\\Christy\\Anaconda3\\lib\\site-packages\\keras\\backend\\tensorflow_backend.py:3445: calling dropout (from tensorflow.python.ops.nn_ops) with keep_prob is deprecated and will be removed in a future version.\n",
      "Instructions for updating:\n",
      "Please use `rate` instead of `keep_prob`. Rate should be set to `rate = 1 - keep_prob`.\n",
      "WARNING:tensorflow:From C:\\Users\\Christy\\Anaconda3\\lib\\site-packages\\tensorflow\\python\\ops\\math_ops.py:3066: to_int32 (from tensorflow.python.ops.math_ops) is deprecated and will be removed in a future version.\n",
      "Instructions for updating:\n",
      "Use tf.cast instead.\n",
      "Epoch 1/100\n",
      "9439/9439 [==============================] - 95s 10ms/step - loss: 0.0022\n",
      "Epoch 2/100\n",
      "9439/9439 [==============================] - 92s 10ms/step - loss: 8.7949e-04\n",
      "Epoch 3/100\n",
      "9439/9439 [==============================] - 88s 9ms/step - loss: 7.8291e-04\n",
      "Epoch 4/100\n",
      "9439/9439 [==============================] - 85s 9ms/step - loss: 7.1253e-04\n",
      "Epoch 5/100\n",
      "9439/9439 [==============================] - 83s 9ms/step - loss: 5.9029e-04\n",
      "Epoch 6/100\n",
      "9439/9439 [==============================] - 83s 9ms/step - loss: 6.0388e-04\n",
      "Epoch 7/100\n",
      "9439/9439 [==============================] - 83s 9ms/step - loss: 5.6849e-04\n",
      "Epoch 8/100\n",
      "9439/9439 [==============================] - 108s 11ms/step - loss: 5.1027e-04\n",
      "Epoch 9/100\n",
      "9439/9439 [==============================] - 89s 9ms/step - loss: 5.1332e-04\n",
      "Epoch 10/100\n",
      "9439/9439 [==============================] - 83s 9ms/step - loss: 5.2309e-04\n",
      "Epoch 11/100\n",
      "9439/9439 [==============================] - 84s 9ms/step - loss: 5.4824e-04\n",
      "Epoch 12/100\n",
      "9439/9439 [==============================] - 85s 9ms/step - loss: 4.8651e-04\n",
      "Epoch 13/100\n",
      "9439/9439 [==============================] - 83s 9ms/step - loss: 5.2518e-04\n",
      "Epoch 14/100\n",
      "9439/9439 [==============================] - 83s 9ms/step - loss: 4.9247e-04\n",
      "Epoch 15/100\n",
      "9439/9439 [==============================] - 84s 9ms/step - loss: 5.1352e-04\n",
      "Epoch 16/100\n",
      "9439/9439 [==============================] - 84s 9ms/step - loss: 5.0276e-04\n",
      "Epoch 17/100\n",
      "9439/9439 [==============================] - 84s 9ms/step - loss: 4.2651e-04\n",
      "Epoch 18/100\n",
      "9439/9439 [==============================] - 113s 12ms/step - loss: 4.2984e-04\n",
      "Epoch 19/100\n",
      "9439/9439 [==============================] - 86s 9ms/step - loss: 4.4560e-04\n",
      "Epoch 20/100\n",
      "9439/9439 [==============================] - 87s 9ms/step - loss: 4.8446e-04\n",
      "Epoch 21/100\n",
      "9439/9439 [==============================] - 85s 9ms/step - loss: 4.8383e-04\n",
      "Epoch 22/100\n",
      "9439/9439 [==============================] - 84s 9ms/step - loss: 4.7176e-04\n",
      "Epoch 23/100\n",
      "9439/9439 [==============================] - 85s 9ms/step - loss: 4.3384e-04\n",
      "Epoch 24/100\n",
      "9439/9439 [==============================] - 89s 9ms/step - loss: 4.2807e-04\n",
      "Epoch 25/100\n",
      "9439/9439 [==============================] - 87s 9ms/step - loss: 4.6129e-04\n",
      "Epoch 26/100\n",
      "9439/9439 [==============================] - 87s 9ms/step - loss: 4.0741e-04\n",
      "Epoch 27/100\n",
      "9439/9439 [==============================] - 83s 9ms/step - loss: 4.2092e-04\n",
      "Epoch 28/100\n",
      "9439/9439 [==============================] - 83s 9ms/step - loss: 4.3476e-04\n",
      "Epoch 29/100\n",
      "9439/9439 [==============================] - 83s 9ms/step - loss: 4.1171e-04\n",
      "Epoch 30/100\n",
      "9439/9439 [==============================] - 83s 9ms/step - loss: 3.9580e-04\n",
      "Epoch 31/100\n",
      "9439/9439 [==============================] - 83s 9ms/step - loss: 4.2686e-04\n",
      "Epoch 32/100\n",
      "9439/9439 [==============================] - 82s 9ms/step - loss: 3.8551e-04\n",
      "Epoch 33/100\n",
      "9439/9439 [==============================] - 85s 9ms/step - loss: 4.3348e-04\n",
      "Epoch 34/100\n",
      "9439/9439 [==============================] - 92s 10ms/step - loss: 3.9644e-04\n",
      "Epoch 35/100\n",
      "9439/9439 [==============================] - 91s 10ms/step - loss: 3.9870e-04\n",
      "Epoch 36/100\n",
      "9439/9439 [==============================] - 88s 9ms/step - loss: 4.2851e-04\n",
      "Epoch 37/100\n",
      "9439/9439 [==============================] - 86s 9ms/step - loss: 4.0193e-04\n",
      "Epoch 38/100\n",
      "9439/9439 [==============================] - 86s 9ms/step - loss: 4.0631e-04\n",
      "Epoch 39/100\n",
      "9439/9439 [==============================] - 86s 9ms/step - loss: 4.2772e-04\n",
      "Epoch 40/100\n",
      "9439/9439 [==============================] - 87s 9ms/step - loss: 3.6992e-04\n",
      "Epoch 41/100\n",
      "9439/9439 [==============================] - 86s 9ms/step - loss: 4.2365e-04\n",
      "Epoch 42/100\n",
      "9439/9439 [==============================] - 86s 9ms/step - loss: 3.9371e-04\n",
      "Epoch 43/100\n",
      "9439/9439 [==============================] - 86s 9ms/step - loss: 3.8296e-04\n",
      "Epoch 44/100\n",
      "9439/9439 [==============================] - 86s 9ms/step - loss: 4.3916e-04\n",
      "Epoch 45/100\n",
      "9439/9439 [==============================] - 92s 10ms/step - loss: 4.0503e-04\n",
      "Epoch 46/100\n",
      "9439/9439 [==============================] - 84s 9ms/step - loss: 3.9498e-04\n",
      "Epoch 47/100\n",
      "9439/9439 [==============================] - 82s 9ms/step - loss: 3.7559e-04\n",
      "Epoch 48/100\n",
      "9439/9439 [==============================] - 83s 9ms/step - loss: 3.9518e-04\n",
      "Epoch 49/100\n",
      "9439/9439 [==============================] - 86s 9ms/step - loss: 3.7309e-04\n",
      "Epoch 50/100\n",
      "9439/9439 [==============================] - 83s 9ms/step - loss: 3.8941e-04\n",
      "Epoch 51/100\n",
      "9439/9439 [==============================] - 84s 9ms/step - loss: 3.7453e-04\n",
      "Epoch 52/100\n",
      "9439/9439 [==============================] - 84s 9ms/step - loss: 3.9836e-04\n",
      "Epoch 53/100\n",
      "9439/9439 [==============================] - 84s 9ms/step - loss: 3.6945e-04\n",
      "Epoch 54/100\n",
      "9439/9439 [==============================] - 84s 9ms/step - loss: 3.5698e-04\n",
      "Epoch 55/100\n",
      "9439/9439 [==============================] - 84s 9ms/step - loss: 3.9595e-04\n",
      "Epoch 56/100\n",
      "9439/9439 [==============================] - 83s 9ms/step - loss: 3.5945e-04\n",
      "Epoch 57/100\n",
      "9439/9439 [==============================] - 84s 9ms/step - loss: 3.7875e-04\n",
      "Epoch 58/100\n",
      "9439/9439 [==============================] - 83s 9ms/step - loss: 3.8387e-04\n",
      "Epoch 59/100\n",
      "9439/9439 [==============================] - 83s 9ms/step - loss: 3.7323e-04\n",
      "Epoch 60/100\n",
      "9439/9439 [==============================] - 83s 9ms/step - loss: 3.5493e-04\n",
      "Epoch 61/100\n",
      "9439/9439 [==============================] - 85s 9ms/step - loss: 3.5119e-04\n",
      "Epoch 62/100\n",
      "9439/9439 [==============================] - 87s 9ms/step - loss: 3.6921e-04\n",
      "Epoch 63/100\n",
      "9439/9439 [==============================] - 83s 9ms/step - loss: 3.7114e-04\n",
      "Epoch 64/100\n",
      "9439/9439 [==============================] - 83s 9ms/step - loss: 3.9369e-04\n",
      "Epoch 65/100\n",
      "9439/9439 [==============================] - 83s 9ms/step - loss: 3.2989e-04\n",
      "Epoch 66/100\n",
      "9439/9439 [==============================] - 83s 9ms/step - loss: 3.7425e-04\n",
      "Epoch 67/100\n",
      "9439/9439 [==============================] - 83s 9ms/step - loss: 3.4766e-04\n",
      "Epoch 68/100\n",
      "9439/9439 [==============================] - 83s 9ms/step - loss: 3.4746e-04\n",
      "Epoch 69/100\n",
      "9439/9439 [==============================] - 83s 9ms/step - loss: 3.4704e-04\n",
      "Epoch 70/100\n",
      "9439/9439 [==============================] - 82s 9ms/step - loss: 3.3871e-04\n",
      "Epoch 71/100\n",
      "9439/9439 [==============================] - 82s 9ms/step - loss: 3.6055e-04\n",
      "Epoch 72/100\n",
      "9439/9439 [==============================] - 84s 9ms/step - loss: 3.2826e-04\n",
      "Epoch 73/100\n",
      "9439/9439 [==============================] - 85s 9ms/step - loss: 3.4669e-04\n",
      "Epoch 74/100\n",
      "9439/9439 [==============================] - 88s 9ms/step - loss: 3.5539e-04\n",
      "Epoch 75/100\n",
      "9439/9439 [==============================] - 87s 9ms/step - loss: 3.7304e-04\n",
      "Epoch 76/100\n",
      "9439/9439 [==============================] - 84s 9ms/step - loss: 3.5584e-04\n",
      "Epoch 77/100\n",
      "9439/9439 [==============================] - 84s 9ms/step - loss: 3.3776e-04\n",
      "Epoch 78/100\n",
      "9439/9439 [==============================] - 86s 9ms/step - loss: 3.3810e-04\n",
      "Epoch 79/100\n",
      "9439/9439 [==============================] - 87s 9ms/step - loss: 3.2367e-04\n",
      "Epoch 80/100\n",
      "9439/9439 [==============================] - 91s 10ms/step - loss: 3.4094e-04\n",
      "Epoch 81/100\n",
      "9439/9439 [==============================] - 86s 9ms/step - loss: 3.6197e-04\n"
     ]
    },
    {
     "name": "stdout",
     "output_type": "stream",
     "text": [
      "Epoch 82/100\n",
      "9439/9439 [==============================] - 87s 9ms/step - loss: 3.2505e-04\n",
      "Epoch 83/100\n",
      "9439/9439 [==============================] - 85s 9ms/step - loss: 3.1081e-04\n",
      "Epoch 84/100\n",
      "9439/9439 [==============================] - 85s 9ms/step - loss: 3.9863e-04\n",
      "Epoch 85/100\n",
      "9439/9439 [==============================] - 83s 9ms/step - loss: 3.4648e-04\n",
      "Epoch 86/100\n",
      "9439/9439 [==============================] - 83s 9ms/step - loss: 3.3164e-04\n",
      "Epoch 87/100\n",
      "9439/9439 [==============================] - 83s 9ms/step - loss: 3.5362e-04\n",
      "Epoch 88/100\n",
      "9439/9439 [==============================] - 83s 9ms/step - loss: 3.3656e-04\n",
      "Epoch 89/100\n",
      "9439/9439 [==============================] - 84s 9ms/step - loss: 3.4628e-04\n",
      "Epoch 90/100\n",
      "9439/9439 [==============================] - 82s 9ms/step - loss: 3.3166e-04\n",
      "Epoch 91/100\n",
      "9439/9439 [==============================] - 81s 9ms/step - loss: 3.7828e-04\n",
      "Epoch 92/100\n",
      "9439/9439 [==============================] - 82s 9ms/step - loss: 3.6052e-04\n",
      "Epoch 93/100\n",
      "9439/9439 [==============================] - 81s 9ms/step - loss: 3.8239e-04\n",
      "Epoch 94/100\n",
      "9439/9439 [==============================] - 82s 9ms/step - loss: 3.4673e-04\n",
      "Epoch 95/100\n",
      "9439/9439 [==============================] - 82s 9ms/step - loss: 3.4161e-04\n",
      "Epoch 96/100\n",
      "9439/9439 [==============================] - 82s 9ms/step - loss: 3.4759e-04\n",
      "Epoch 97/100\n",
      "9439/9439 [==============================] - 81s 9ms/step - loss: 3.6384e-04\n",
      "Epoch 98/100\n",
      "9439/9439 [==============================] - 85s 9ms/step - loss: 3.3690e-04\n",
      "Epoch 99/100\n",
      "9439/9439 [==============================] - 84s 9ms/step - loss: 3.5561e-04\n",
      "Epoch 100/100\n",
      "9439/9439 [==============================] - 86s 9ms/step - loss: 3.3208e-04\n"
     ]
    },
    {
     "data": {
      "text/plain": [
       "<keras.callbacks.History at 0x1f170fa4b38>"
      ]
     },
     "execution_count": 8,
     "metadata": {},
     "output_type": "execute_result"
    }
   ],
   "source": [
    "# Part 2 - Building the RNN\n",
    "\n",
    "# Importing the Keras libraries and packages\n",
    "from keras.models import Sequential\n",
    "from keras.layers import Dense\n",
    "from keras.layers import LSTM\n",
    "from keras.layers import Dropout\n",
    "\n",
    "# Initialising the RNN\n",
    "regressor = Sequential()\n",
    "\n",
    "# Adding the first LSTM layer and some Dropout regularisation\n",
    "regressor.add(LSTM(units = 50, return_sequences = True, input_shape = (X_train.shape[1], 1)))\n",
    "regressor.add(Dropout(0.2))\n",
    "\n",
    "# Adding a second LSTM layer and some Dropout regularisation\n",
    "regressor.add(LSTM(units = 50, return_sequences = True))\n",
    "regressor.add(Dropout(0.2))\n",
    "\n",
    "# Adding a third LSTM layer and some Dropout regularisation\n",
    "regressor.add(LSTM(units = 50, return_sequences = True))\n",
    "regressor.add(Dropout(0.2))\n",
    "\n",
    "# Adding a fourth LSTM layer and some Dropout regularisation\n",
    "regressor.add(LSTM(units = 50))\n",
    "regressor.add(Dropout(0.2))\n",
    "\n",
    "# Adding the output layer\n",
    "regressor.add(Dense(units = 1))\n",
    "\n",
    "# Compiling the RNN\n",
    "regressor.compile(optimizer = 'adam', loss = 'mean_squared_error')\n",
    "\n",
    "# Fitting the RNN to the Training set\n",
    "regressor.fit(X_train, y_train, epochs = 100, batch_size = 32)"
   ]
  },
  {
   "cell_type": "code",
   "execution_count": 9,
   "metadata": {},
   "outputs": [],
   "source": [
    "# Part 3 - Making the predictions and visualising the results\n",
    "\n",
    "# Getting the real recent stock price until May 2019\n",
    "real_stock_price = Apple_test.iloc[:, 2:3].values"
   ]
  },
  {
   "cell_type": "code",
   "execution_count": 13,
   "metadata": {},
   "outputs": [],
   "source": [
    "# Getting the predicted stock price until May 2019\n",
    "Apple_total = pd.concat((Apple_train['Close'], Apple_test['Close']), axis = 0)\n",
    "inputs = Apple_total[len(Apple_total) - len(Apple_test) - 60:].values\n",
    "inputs = inputs.reshape(-1,1)\n",
    "inputs = sc.transform(inputs)\n",
    "X_test = []\n",
    "for i in range(60, 254):\n",
    "    X_test.append(inputs[i-60:i, 0])\n",
    "X_test = np.array(X_test)\n",
    "X_test = np.reshape(X_test, (X_test.shape[0], X_test.shape[1], 1))\n",
    "predicted_stock_price = regressor.predict(X_test)\n",
    "predicted_stock_price = sc.inverse_transform(predicted_stock_price)"
   ]
  },
  {
   "cell_type": "code",
   "execution_count": 14,
   "metadata": {},
   "outputs": [
    {
     "data": {
      "image/png": "[encoded data removed]",
      "text/plain": [
       "<Figure size 432x288 with 1 Axes>"
      ]
     },
     "metadata": {
      "needs_background": "light"
     },
     "output_type": "display_data"
    }
   ],
   "source": [
    "# Visualising the results\n",
    "plt.plot(real_stock_price, color = 'red', label = 'Real Apple Stock Price')\n",
    "plt.plot(predicted_stock_price, color = 'blue', label = 'Predicted Apple Stock Price')\n",
    "plt.title('Apple Stock Price prediction')\n",
    "plt.xlabel('Days')\n",
    "plt.ylabel('Apple Stock Price')\n",
    "plt.legend()\n",
    "plt.show()"
   ]
  },
  {
   "cell_type": "code",
   "execution_count": 15,
   "metadata": {},
   "outputs": [
    {
     "data": {
      "text/plain": [
       "7.383700405724006"
      ]
     },
     "execution_count": 15,
     "metadata": {},
     "output_type": "execute_result"
    }
   ],
   "source": [
    "#Evaluating the RNN\n",
    "import math\n",
    "from sklearn.metrics import mean_squared_error\n",
    "rmse = math.sqrt(mean_squared_error(real_stock_price, predicted_stock_price))\n",
    "rmse"
   ]
  },
  {
   "cell_type": "code",
   "execution_count": 16,
   "metadata": {},
   "outputs": [
    {
     "name": "stdout",
     "output_type": "stream",
     "text": [
      "relative error:  [0.08506567]\n"
     ]
    }
   ],
   "source": [
    "min_val=min(real_stock_price)\n",
    "max_val=max(real_stock_price)\n",
    "print (\"relative error: \", rmse/(max_val-min_val))"
   ]
  },
  {
   "cell_type": "code",
   "execution_count": 17,
   "metadata": {},
   "outputs": [
    {
     "data": {
      "image/png": "[encoded data removed]",
      "text/plain": [
       "<Figure size 432x288 with 1 Axes>"
      ]
     },
     "metadata": {
      "needs_background": "light"
     },
     "output_type": "display_data"
    }
   ],
   "source": [
    "# Visualising the results\n",
    " \n",
    "shift_pred= predicted_stock_price[:-1]\n",
    "shift_pred = np.append(0, np.reshape(shift_pred, len(shift_pred)))\n",
    "shift_real = real_stock_price[:-1]\n",
    "shift_real = np.append(0, np.reshape(shift_real, len(shift_real)))\n",
    " \n",
    "dif_pred = np.add(np.reshape(predicted_stock_price, len(predicted_stock_price)), - shift_pred)[1:]\n",
    "dif_real = np.add(np.reshape(real_stock_price, len(real_stock_price)), - shift_real)[1:]\n",
    " \n",
    "fig, ax = plt.subplots()\n",
    "ind = np.arange(dif_real.size)\n",
    "real_bar = ax.bar(ind-0.15, dif_real, width=0.3, color = 'red', label = 'Real Difference')\n",
    "pred_bar = ax.bar(ind+0.15, dif_pred, width=0.3, color = 'blue', label = 'Predicted Difference')\n",
    "ax.set_title('Apple Stock Price Prediction')\n",
    "ax.set_xlabel('Days')\n",
    "ax.set_ylabel('Apple Stock Price')\n",
    "ax.legend()\n",
    "plt.show()"
   ]
  }
 ],
 "metadata": {
  "kernelspec": {
   "display_name": "Python 3",
   "language": "python",
   "name": "python3"
  },
  "language_info": {
   "codemirror_mode": {
    "name": "ipython",
    "version": 3
   },
   "file_extension": ".py",
   "mimetype": "text/x-python",
   "name": "python",
   "nbconvert_exporter": "python",
   "pygments_lexer": "ipython3",
   "version": "3.7.3"
  }
 },
 "nbformat": 4,
 "nbformat_minor": 2
}
