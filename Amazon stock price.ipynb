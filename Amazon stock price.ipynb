{
 "cells": [
  {
   "cell_type": "code",
   "execution_count": 1,
   "metadata": {},
   "outputs": [],
   "source": [
    "from pandas_datareader import data, wb\n",
    "import pandas as pd\n",
    "import numpy as np\n",
    "import datetime\n",
    "import matplotlib.pyplot as plt\n",
    "%matplotlib inline\n",
    "import seaborn as sns"
   ]
  },
  {
   "cell_type": "code",
   "execution_count": 2,
   "metadata": {},
   "outputs": [
    {
     "data": {
      "text/html": [
       "<div>\n",
       "<style scoped>\n",
       "    .dataframe tbody tr th:only-of-type {\n",
       "        vertical-align: middle;\n",
       "    }\n",
       "\n",
       "    .dataframe tbody tr th {\n",
       "        vertical-align: top;\n",
       "    }\n",
       "\n",
       "    .dataframe thead th {\n",
       "        text-align: right;\n",
       "    }\n",
       "</style>\n",
       "<table border=\"1\" class=\"dataframe\">\n",
       "  <thead>\n",
       "    <tr style=\"text-align: right;\">\n",
       "      <th></th>\n",
       "      <th>High</th>\n",
       "      <th>Low</th>\n",
       "      <th>Open</th>\n",
       "      <th>Close</th>\n",
       "      <th>Volume</th>\n",
       "      <th>Adj Close</th>\n",
       "    </tr>\n",
       "    <tr>\n",
       "      <th>Date</th>\n",
       "      <th></th>\n",
       "      <th></th>\n",
       "      <th></th>\n",
       "      <th></th>\n",
       "      <th></th>\n",
       "      <th></th>\n",
       "    </tr>\n",
       "  </thead>\n",
       "  <tbody>\n",
       "    <tr>\n",
       "      <th>1997-05-15</th>\n",
       "      <td>2.500000</td>\n",
       "      <td>1.927083</td>\n",
       "      <td>2.437500</td>\n",
       "      <td>1.958333</td>\n",
       "      <td>72156000.0</td>\n",
       "      <td>1.958333</td>\n",
       "    </tr>\n",
       "    <tr>\n",
       "      <th>1997-05-16</th>\n",
       "      <td>1.979167</td>\n",
       "      <td>1.708333</td>\n",
       "      <td>1.968750</td>\n",
       "      <td>1.729167</td>\n",
       "      <td>14700000.0</td>\n",
       "      <td>1.729167</td>\n",
       "    </tr>\n",
       "    <tr>\n",
       "      <th>1997-05-19</th>\n",
       "      <td>1.770833</td>\n",
       "      <td>1.625000</td>\n",
       "      <td>1.760417</td>\n",
       "      <td>1.708333</td>\n",
       "      <td>6106800.0</td>\n",
       "      <td>1.708333</td>\n",
       "    </tr>\n",
       "    <tr>\n",
       "      <th>1997-05-20</th>\n",
       "      <td>1.750000</td>\n",
       "      <td>1.635417</td>\n",
       "      <td>1.729167</td>\n",
       "      <td>1.635417</td>\n",
       "      <td>5467200.0</td>\n",
       "      <td>1.635417</td>\n",
       "    </tr>\n",
       "    <tr>\n",
       "      <th>1997-05-21</th>\n",
       "      <td>1.645833</td>\n",
       "      <td>1.375000</td>\n",
       "      <td>1.635417</td>\n",
       "      <td>1.427083</td>\n",
       "      <td>18853200.0</td>\n",
       "      <td>1.427083</td>\n",
       "    </tr>\n",
       "  </tbody>\n",
       "</table>\n",
       "</div>"
      ],
      "text/plain": [
       "                High       Low      Open     Close      Volume  Adj Close\n",
       "Date                                                                     \n",
       "1997-05-15  2.500000  1.927083  2.437500  1.958333  72156000.0   1.958333\n",
       "1997-05-16  1.979167  1.708333  1.968750  1.729167  14700000.0   1.729167\n",
       "1997-05-19  1.770833  1.625000  1.760417  1.708333   6106800.0   1.708333\n",
       "1997-05-20  1.750000  1.635417  1.729167  1.635417   5467200.0   1.635417\n",
       "1997-05-21  1.645833  1.375000  1.635417  1.427083  18853200.0   1.427083"
      ]
     },
     "execution_count": 2,
     "metadata": {},
     "output_type": "execute_result"
    }
   ],
   "source": [
    "Amazon = data.DataReader(\"AMZN\", data_source=\"yahoo\", start = \"1997-05-01\", end = \"2019-06-01\")\n",
    "Amazon.head()"
   ]
  },
  {
   "cell_type": "code",
   "execution_count": 3,
   "metadata": {},
   "outputs": [
    {
     "data": {
      "text/html": [
       "<div>\n",
       "<style scoped>\n",
       "    .dataframe tbody tr th:only-of-type {\n",
       "        vertical-align: middle;\n",
       "    }\n",
       "\n",
       "    .dataframe tbody tr th {\n",
       "        vertical-align: top;\n",
       "    }\n",
       "\n",
       "    .dataframe thead th {\n",
       "        text-align: right;\n",
       "    }\n",
       "</style>\n",
       "<table border=\"1\" class=\"dataframe\">\n",
       "  <thead>\n",
       "    <tr style=\"text-align: right;\">\n",
       "      <th></th>\n",
       "      <th>High</th>\n",
       "      <th>Low</th>\n",
       "      <th>Open</th>\n",
       "      <th>Close</th>\n",
       "      <th>Volume</th>\n",
       "      <th>Adj Close</th>\n",
       "    </tr>\n",
       "    <tr>\n",
       "      <th>Date</th>\n",
       "      <th></th>\n",
       "      <th></th>\n",
       "      <th></th>\n",
       "      <th></th>\n",
       "      <th></th>\n",
       "      <th></th>\n",
       "    </tr>\n",
       "  </thead>\n",
       "  <tbody>\n",
       "    <tr>\n",
       "      <th>2019-05-20</th>\n",
       "      <td>1867.780029</td>\n",
       "      <td>1835.540039</td>\n",
       "      <td>1852.689941</td>\n",
       "      <td>1858.969971</td>\n",
       "      <td>3798200.0</td>\n",
       "      <td>1858.969971</td>\n",
       "    </tr>\n",
       "    <tr>\n",
       "      <th>2019-05-21</th>\n",
       "      <td>1879.000000</td>\n",
       "      <td>1846.000000</td>\n",
       "      <td>1874.790039</td>\n",
       "      <td>1857.520020</td>\n",
       "      <td>4005100.0</td>\n",
       "      <td>1857.520020</td>\n",
       "    </tr>\n",
       "    <tr>\n",
       "      <th>2019-05-22</th>\n",
       "      <td>1871.489990</td>\n",
       "      <td>1851.000000</td>\n",
       "      <td>1851.780029</td>\n",
       "      <td>1859.680054</td>\n",
       "      <td>2936600.0</td>\n",
       "      <td>1859.680054</td>\n",
       "    </tr>\n",
       "    <tr>\n",
       "      <th>2019-05-23</th>\n",
       "      <td>1844.000000</td>\n",
       "      <td>1804.199951</td>\n",
       "      <td>1836.589966</td>\n",
       "      <td>1815.479980</td>\n",
       "      <td>4424300.0</td>\n",
       "      <td>1815.479980</td>\n",
       "    </tr>\n",
       "    <tr>\n",
       "      <th>2019-05-24</th>\n",
       "      <td>1841.760010</td>\n",
       "      <td>1817.849976</td>\n",
       "      <td>1835.890015</td>\n",
       "      <td>1823.280029</td>\n",
       "      <td>3366700.0</td>\n",
       "      <td>1823.280029</td>\n",
       "    </tr>\n",
       "  </tbody>\n",
       "</table>\n",
       "</div>"
      ],
      "text/plain": [
       "                   High          Low         Open        Close     Volume  \\\n",
       "Date                                                                        \n",
       "2019-05-20  1867.780029  1835.540039  1852.689941  1858.969971  3798200.0   \n",
       "2019-05-21  1879.000000  1846.000000  1874.790039  1857.520020  4005100.0   \n",
       "2019-05-22  1871.489990  1851.000000  1851.780029  1859.680054  2936600.0   \n",
       "2019-05-23  1844.000000  1804.199951  1836.589966  1815.479980  4424300.0   \n",
       "2019-05-24  1841.760010  1817.849976  1835.890015  1823.280029  3366700.0   \n",
       "\n",
       "              Adj Close  \n",
       "Date                     \n",
       "2019-05-20  1858.969971  \n",
       "2019-05-21  1857.520020  \n",
       "2019-05-22  1859.680054  \n",
       "2019-05-23  1815.479980  \n",
       "2019-05-24  1823.280029  "
      ]
     },
     "execution_count": 3,
     "metadata": {},
     "output_type": "execute_result"
    }
   ],
   "source": [
    "Amazon.tail()"
   ]
  },
  {
   "cell_type": "code",
   "execution_count": 4,
   "metadata": {},
   "outputs": [
    {
     "data": {
      "text/plain": [
       "(5543, 6)"
      ]
     },
     "execution_count": 4,
     "metadata": {},
     "output_type": "execute_result"
    }
   ],
   "source": [
    "Amazon.shape"
   ]
  },
  {
   "cell_type": "code",
   "execution_count": 5,
   "metadata": {},
   "outputs": [
    {
     "data": {
      "text/plain": [
       "(5400, 6)"
      ]
     },
     "execution_count": 5,
     "metadata": {},
     "output_type": "execute_result"
    }
   ],
   "source": [
    "Amazon_train = Amazon.iloc[:5400, :]\n",
    "Amazon_train.shape"
   ]
  },
  {
   "cell_type": "code",
   "execution_count": 6,
   "metadata": {},
   "outputs": [
    {
     "data": {
      "text/plain": [
       "(143, 6)"
      ]
     },
     "execution_count": 6,
     "metadata": {},
     "output_type": "execute_result"
    }
   ],
   "source": [
    "Amazon_test = Amazon.iloc[5400:, :]\n",
    "Amazon_test.shape"
   ]
  },
  {
   "cell_type": "code",
   "execution_count": 7,
   "metadata": {},
   "outputs": [
    {
     "data": {
      "text/plain": [
       "array([[2.43750000e+00],\n",
       "       [1.96875000e+00],\n",
       "       [1.76041663e+00],\n",
       "       ...,\n",
       "       [1.77369995e+03],\n",
       "       [1.70333997e+03],\n",
       "       [1.64958997e+03]])"
      ]
     },
     "execution_count": 7,
     "metadata": {},
     "output_type": "execute_result"
    }
   ],
   "source": [
    "training_set = Amazon.iloc[:5400, 2:3].values\n",
    "training_set"
   ]
  },
  {
   "cell_type": "code",
   "execution_count": 8,
   "metadata": {},
   "outputs": [],
   "source": [
    "# Feature Scaling\n",
    "from sklearn.preprocessing import MinMaxScaler\n",
    "sc = MinMaxScaler(feature_range = (0, 1))\n",
    "training_set_scaled = sc.fit_transform(training_set)\n",
    "\n",
    "# Creating a data structure with 60 timesteps and 1 output\n",
    "X_train = []\n",
    "y_train = []\n",
    "for i in range(60, 5399):\n",
    "    X_train.append(training_set_scaled[i-60:i, 0])\n",
    "    y_train.append(training_set_scaled[i, 0])\n",
    "X_train, y_train = np.array(X_train), np.array(y_train)\n",
    "\n",
    "# Reshaping\n",
    "X_train = np.reshape(X_train, (X_train.shape[0], X_train.shape[1], 1))"
   ]
  },
  {
   "cell_type": "code",
   "execution_count": 9,
   "metadata": {},
   "outputs": [
    {
     "name": "stderr",
     "output_type": "stream",
     "text": [
      "Using TensorFlow backend.\n"
     ]
    },
    {
     "name": "stdout",
     "output_type": "stream",
     "text": [
      "WARNING:tensorflow:From C:\\Users\\Christy\\Anaconda3\\lib\\site-packages\\tensorflow\\python\\framework\\op_def_library.py:263: colocate_with (from tensorflow.python.framework.ops) is deprecated and will be removed in a future version.\n",
      "Instructions for updating:\n",
      "Colocations handled automatically by placer.\n",
      "WARNING:tensorflow:From C:\\Users\\Christy\\Anaconda3\\lib\\site-packages\\keras\\backend\\tensorflow_backend.py:3445: calling dropout (from tensorflow.python.ops.nn_ops) with keep_prob is deprecated and will be removed in a future version.\n",
      "Instructions for updating:\n",
      "Please use `rate` instead of `keep_prob`. Rate should be set to `rate = 1 - keep_prob`.\n",
      "WARNING:tensorflow:From C:\\Users\\Christy\\Anaconda3\\lib\\site-packages\\tensorflow\\python\\ops\\math_ops.py:3066: to_int32 (from tensorflow.python.ops.math_ops) is deprecated and will be removed in a future version.\n",
      "Instructions for updating:\n",
      "Use tf.cast instead.\n",
      "Epoch 1/50\n",
      "5339/5339 [==============================] - 96s 18ms/step - loss: 0.0038\n",
      "Epoch 2/50\n",
      "5339/5339 [==============================] - 85s 16ms/step - loss: 7.0795e-04\n",
      "Epoch 3/50\n",
      "5339/5339 [==============================] - 82s 15ms/step - loss: 7.1536e-04\n",
      "Epoch 4/50\n",
      "5339/5339 [==============================] - 82s 15ms/step - loss: 5.6853e-04\n",
      "Epoch 5/50\n",
      "5339/5339 [==============================] - 80s 15ms/step - loss: 5.9119e-04\n",
      "Epoch 6/50\n",
      "5339/5339 [==============================] - 80s 15ms/step - loss: 6.5078e-04\n",
      "Epoch 7/50\n",
      "5339/5339 [==============================] - 80s 15ms/step - loss: 5.3652e-04\n",
      "Epoch 8/50\n",
      "5339/5339 [==============================] - 81s 15ms/step - loss: 5.0622e-04\n",
      "Epoch 9/50\n",
      "5339/5339 [==============================] - 80s 15ms/step - loss: 5.3862e-04\n",
      "Epoch 10/50\n",
      "5339/5339 [==============================] - 80s 15ms/step - loss: 4.5686e-04\n",
      "Epoch 11/50\n",
      "5339/5339 [==============================] - 80s 15ms/step - loss: 5.9477e-04\n",
      "Epoch 12/50\n",
      "5339/5339 [==============================] - 80s 15ms/step - loss: 5.3075e-04\n",
      "Epoch 13/50\n",
      "5339/5339 [==============================] - 80s 15ms/step - loss: 4.3393e-04\n",
      "Epoch 14/50\n",
      "5339/5339 [==============================] - 80s 15ms/step - loss: 5.4446e-04\n",
      "Epoch 15/50\n",
      "5339/5339 [==============================] - 79s 15ms/step - loss: 5.5010e-04\n",
      "Epoch 16/50\n",
      "5339/5339 [==============================] - 80s 15ms/step - loss: 4.2204e-04\n",
      "Epoch 17/50\n",
      "5339/5339 [==============================] - 79s 15ms/step - loss: 4.7243e-04\n",
      "Epoch 18/50\n",
      "5339/5339 [==============================] - 80s 15ms/step - loss: 4.9724e-04\n",
      "Epoch 19/50\n",
      "5339/5339 [==============================] - 80s 15ms/step - loss: 5.6920e-04\n",
      "Epoch 20/50\n",
      "5339/5339 [==============================] - 80s 15ms/step - loss: 4.3016e-04\n",
      "Epoch 21/50\n",
      "5339/5339 [==============================] - 80s 15ms/step - loss: 3.9664e-04\n",
      "Epoch 22/50\n",
      "5339/5339 [==============================] - 80s 15ms/step - loss: 5.0064e-04\n",
      "Epoch 23/50\n",
      "5339/5339 [==============================] - 79s 15ms/step - loss: 4.3490e-04\n",
      "Epoch 24/50\n",
      "5339/5339 [==============================] - 80s 15ms/step - loss: 4.1905e-04\n",
      "Epoch 25/50\n",
      "5339/5339 [==============================] - 80s 15ms/step - loss: 3.8900e-04\n",
      "Epoch 26/50\n",
      "5339/5339 [==============================] - 79s 15ms/step - loss: 3.9481e-04\n",
      "Epoch 27/50\n",
      "5339/5339 [==============================] - 80s 15ms/step - loss: 4.6500e-04\n",
      "Epoch 28/50\n",
      "5339/5339 [==============================] - 80s 15ms/step - loss: 4.7131e-04\n",
      "Epoch 29/50\n",
      "5339/5339 [==============================] - 79s 15ms/step - loss: 3.8554e-04\n",
      "Epoch 30/50\n",
      "5339/5339 [==============================] - 79s 15ms/step - loss: 3.8821e-04\n",
      "Epoch 31/50\n",
      "5339/5339 [==============================] - 80s 15ms/step - loss: 3.6643e-04\n",
      "Epoch 32/50\n",
      "5339/5339 [==============================] - 80s 15ms/step - loss: 3.8763e-04\n",
      "Epoch 33/50\n",
      "5339/5339 [==============================] - 80s 15ms/step - loss: 3.7875e-04\n",
      "Epoch 34/50\n",
      "5339/5339 [==============================] - 80s 15ms/step - loss: 3.7471e-04\n",
      "Epoch 35/50\n",
      "5339/5339 [==============================] - 80s 15ms/step - loss: 4.3497e-04\n",
      "Epoch 36/50\n",
      "5339/5339 [==============================] - 81s 15ms/step - loss: 4.3046e-04\n",
      "Epoch 37/50\n",
      "5339/5339 [==============================] - 80s 15ms/step - loss: 3.8366e-04\n",
      "Epoch 38/50\n",
      "5339/5339 [==============================] - 80s 15ms/step - loss: 4.1089e-04\n",
      "Epoch 39/50\n",
      "5339/5339 [==============================] - 80s 15ms/step - loss: 3.8447e-04\n",
      "Epoch 40/50\n",
      "5339/5339 [==============================] - 80s 15ms/step - loss: 3.4105e-04\n",
      "Epoch 41/50\n",
      "5339/5339 [==============================] - 80s 15ms/step - loss: 4.0449e-04\n",
      "Epoch 42/50\n",
      "5339/5339 [==============================] - 80s 15ms/step - loss: 3.6732e-04\n",
      "Epoch 43/50\n",
      "5339/5339 [==============================] - 80s 15ms/step - loss: 4.0652e-04\n",
      "Epoch 44/50\n",
      "5339/5339 [==============================] - 80s 15ms/step - loss: 3.3833e-04\n",
      "Epoch 45/50\n",
      "5339/5339 [==============================] - 80s 15ms/step - loss: 3.0625e-04\n",
      "Epoch 46/50\n",
      "5339/5339 [==============================] - 80s 15ms/step - loss: 4.0981e-04\n",
      "Epoch 47/50\n",
      "5339/5339 [==============================] - 80s 15ms/step - loss: 3.8284e-04\n",
      "Epoch 48/50\n",
      "5339/5339 [==============================] - 79s 15ms/step - loss: 3.7454e-04\n",
      "Epoch 49/50\n",
      "5339/5339 [==============================] - 80s 15ms/step - loss: 3.9359e-04\n",
      "Epoch 50/50\n",
      "5339/5339 [==============================] - 80s 15ms/step - loss: 3.7441e-04\n"
     ]
    }
   ],
   "source": [
    "# Part 2 - Building the RNN\n",
    "\n",
    "# Importing the Keras libraries and packages\n",
    "from keras.models import Sequential\n",
    "from keras.layers import Dense\n",
    "from keras.layers import LSTM\n",
    "from keras.layers import Dropout\n",
    "from keras.callbacks import EarlyStopping, ReduceLROnPlateau, ModelCheckpoint, TensorBoard\n",
    "\n",
    "# Initialising the RNN\n",
    "regressor = Sequential()\n",
    "\n",
    "# Adding the first LSTM layer and some Dropout regularisation\n",
    "regressor.add(LSTM(units = 50, return_sequences = True, input_shape = (X_train.shape[1], 1)))\n",
    "regressor.add(Dropout(0.2))\n",
    "\n",
    "# Adding a second LSTM layer and some Dropout regularisation\n",
    "regressor.add(LSTM(units = 50, return_sequences = True))\n",
    "regressor.add(Dropout(0.2))\n",
    "\n",
    "# Adding a third LSTM layer and some Dropout regularisation\n",
    "regressor.add(LSTM(units = 50, return_sequences = True))\n",
    "regressor.add(Dropout(0.2))\n",
    "\n",
    "# Adding a fourth LSTM layer and some Dropout regularisation\n",
    "regressor.add(LSTM(units = 50))\n",
    "regressor.add(Dropout(0.2))\n",
    "\n",
    "# Adding the output layer\n",
    "regressor.add(Dense(units = 1))\n",
    "\n",
    "# Compiling the RNN\n",
    "regressor.compile(optimizer = 'adam', loss = 'mean_squared_error')\n",
    "\n",
    "\n",
    "# Fitting the RNN to the Training set \n",
    "history = regressor.fit(X_train, y_train, shuffle=True, epochs = 50, batch_size = 32)"
   ]
  },
  {
   "cell_type": "code",
   "execution_count": 10,
   "metadata": {},
   "outputs": [],
   "source": [
    "# Part 3 - Making the predictions and visualising the results\n",
    "\n",
    "# Getting the real recent stock price until May 2019\n",
    "real_stock_price = Amazon_test.iloc[:, 2:3].values"
   ]
  },
  {
   "cell_type": "code",
   "execution_count": 11,
   "metadata": {},
   "outputs": [],
   "source": [
    "# Getting the predicted stock price until May 2019\n",
    "Amazon_total = pd.concat((Amazon_train['Close'], Amazon_test['Close']), axis = 0)\n",
    "inputs = Amazon_total[len(Amazon_total) - len(Amazon_test) - 60:].values\n",
    "inputs = inputs.reshape(-1,1)\n",
    "inputs = sc.transform(inputs)\n",
    "X_test = []\n",
    "for i in range(60, 203):\n",
    "    X_test.append(inputs[i-60:i, 0])\n",
    "X_test = np.array(X_test)\n",
    "X_test = np.reshape(X_test, (X_test.shape[0], X_test.shape[1], 1))\n",
    "predicted_stock_price = regressor.predict(X_test)\n",
    "predicted_stock_price = sc.inverse_transform(predicted_stock_price)"
   ]
  },
  {
   "cell_type": "code",
   "execution_count": 12,
   "metadata": {},
   "outputs": [
    {
     "data": {
      "image/png": "[encoded data removed]",
      "text/plain": [
       "<Figure size 432x288 with 1 Axes>"
      ]
     },
     "metadata": {
      "needs_background": "light"
     },
     "output_type": "display_data"
    }
   ],
   "source": [
    "# Visualising the results\n",
    "plt.plot(real_stock_price, color = 'red', label = 'Real Amazon Stock Price')\n",
    "plt.plot(predicted_stock_price, color = 'blue', label = 'Predicted Amazon Stock Price')\n",
    "plt.title('Amazon Stock Price prediction')\n",
    "plt.xlabel('Days')\n",
    "plt.ylabel('Amazon Stock Price')\n",
    "plt.legend()\n",
    "plt.show()"
   ]
  },
  {
   "cell_type": "code",
   "execution_count": 13,
   "metadata": {},
   "outputs": [
    {
     "data": {
      "text/plain": [
       "75.31616040084785"
      ]
     },
     "execution_count": 13,
     "metadata": {},
     "output_type": "execute_result"
    }
   ],
   "source": [
    "#Evaluating the RNN\n",
    "import math\n",
    "from sklearn.metrics import mean_squared_error\n",
    "rmse = math.sqrt(mean_squared_error(real_stock_price, predicted_stock_price))\n",
    "rmse"
   ]
  },
  {
   "cell_type": "code",
   "execution_count": 14,
   "metadata": {},
   "outputs": [
    {
     "name": "stdout",
     "output_type": "stream",
     "text": [
      "relative error:  [0.12490242]\n"
     ]
    }
   ],
   "source": [
    "min_val=min(real_stock_price)\n",
    "max_val=max(real_stock_price)\n",
    "print (\"relative error: \", rmse/(max_val-min_val))"
   ]
  },
  {
   "cell_type": "code",
   "execution_count": 15,
   "metadata": {},
   "outputs": [
    {
     "data": {
      "image/png": "[encoded data removed]",
      "text/plain": [
       "<Figure size 432x288 with 1 Axes>"
      ]
     },
     "metadata": {
      "needs_background": "light"
     },
     "output_type": "display_data"
    }
   ],
   "source": [
    "# Visualising the results\n",
    " \n",
    "shift_pred= predicted_stock_price[:-1]\n",
    "shift_pred = np.append(0, np.reshape(shift_pred, len(shift_pred)))\n",
    "shift_real = real_stock_price[:-1]\n",
    "shift_real = np.append(0, np.reshape(shift_real, len(shift_real)))\n",
    " \n",
    "dif_pred = np.add(np.reshape(predicted_stock_price, len(predicted_stock_price)), - shift_pred)[1:]\n",
    "dif_real = np.add(np.reshape(real_stock_price, len(real_stock_price)), - shift_real)[1:]\n",
    " \n",
    "fig, ax = plt.subplots()\n",
    "ind = np.arange(dif_real.size)\n",
    "real_bar = ax.bar(ind-0.15, dif_real, width=0.3, color = 'red', label = 'Real Difference')\n",
    "pred_bar = ax.bar(ind+0.15, dif_pred, width=0.3, color = 'blue', label = 'Predicted Difference')\n",
    "ax.set_title('Amazon Stock Price Prediction')\n",
    "ax.set_xlabel('Days')\n",
    "ax.set_ylabel('Amazon Stock Price')\n",
    "ax.legend()\n",
    "plt.show()"
   ]
  }
 ],
 "metadata": {
  "kernelspec": {
   "display_name": "Python 3",
   "language": "python",
   "name": "python3"
  },
  "language_info": {
   "codemirror_mode": {
    "name": "ipython",
    "version": 3
   },
   "file_extension": ".py",
   "mimetype": "text/x-python",
   "name": "python",
   "nbconvert_exporter": "python",
   "pygments_lexer": "ipython3",
   "version": "3.7.3"
  }
 },
 "nbformat": 4,
 "nbformat_minor": 2
}
