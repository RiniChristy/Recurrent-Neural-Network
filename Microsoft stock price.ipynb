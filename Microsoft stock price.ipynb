{
 "cells": [
  {
   "cell_type": "code",
   "execution_count": 1,
   "metadata": {},
   "outputs": [],
   "source": [
    "from pandas_datareader import data, wb\n",
    "import pandas as pd\n",
    "import numpy as np\n",
    "import datetime\n",
    "import matplotlib.pyplot as plt\n",
    "%matplotlib inline\n",
    "import seaborn as sns"
   ]
  },
  {
   "cell_type": "code",
   "execution_count": 2,
   "metadata": {},
   "outputs": [
    {
     "data": {
      "text/html": [
       "<div>\n",
       "<style scoped>\n",
       "    .dataframe tbody tr th:only-of-type {\n",
       "        vertical-align: middle;\n",
       "    }\n",
       "\n",
       "    .dataframe tbody tr th {\n",
       "        vertical-align: top;\n",
       "    }\n",
       "\n",
       "    .dataframe thead th {\n",
       "        text-align: right;\n",
       "    }\n",
       "</style>\n",
       "<table border=\"1\" class=\"dataframe\">\n",
       "  <thead>\n",
       "    <tr style=\"text-align: right;\">\n",
       "      <th></th>\n",
       "      <th>High</th>\n",
       "      <th>Low</th>\n",
       "      <th>Open</th>\n",
       "      <th>Close</th>\n",
       "      <th>Volume</th>\n",
       "      <th>Adj Close</th>\n",
       "    </tr>\n",
       "    <tr>\n",
       "      <th>Date</th>\n",
       "      <th></th>\n",
       "      <th></th>\n",
       "      <th></th>\n",
       "      <th></th>\n",
       "      <th></th>\n",
       "      <th></th>\n",
       "    </tr>\n",
       "  </thead>\n",
       "  <tbody>\n",
       "    <tr>\n",
       "      <th>1986-03-13</th>\n",
       "      <td>0.101562</td>\n",
       "      <td>0.088542</td>\n",
       "      <td>0.088542</td>\n",
       "      <td>0.097222</td>\n",
       "      <td>1.031789e+09</td>\n",
       "      <td>0.069996</td>\n",
       "    </tr>\n",
       "    <tr>\n",
       "      <th>1986-03-14</th>\n",
       "      <td>0.102431</td>\n",
       "      <td>0.097222</td>\n",
       "      <td>0.097222</td>\n",
       "      <td>0.100694</td>\n",
       "      <td>3.081600e+08</td>\n",
       "      <td>0.072496</td>\n",
       "    </tr>\n",
       "    <tr>\n",
       "      <th>1986-03-17</th>\n",
       "      <td>0.103299</td>\n",
       "      <td>0.100694</td>\n",
       "      <td>0.100694</td>\n",
       "      <td>0.102431</td>\n",
       "      <td>1.331712e+08</td>\n",
       "      <td>0.073746</td>\n",
       "    </tr>\n",
       "    <tr>\n",
       "      <th>1986-03-18</th>\n",
       "      <td>0.103299</td>\n",
       "      <td>0.098958</td>\n",
       "      <td>0.102431</td>\n",
       "      <td>0.099826</td>\n",
       "      <td>6.776640e+07</td>\n",
       "      <td>0.071871</td>\n",
       "    </tr>\n",
       "    <tr>\n",
       "      <th>1986-03-19</th>\n",
       "      <td>0.100694</td>\n",
       "      <td>0.097222</td>\n",
       "      <td>0.099826</td>\n",
       "      <td>0.098090</td>\n",
       "      <td>4.789440e+07</td>\n",
       "      <td>0.070621</td>\n",
       "    </tr>\n",
       "  </tbody>\n",
       "</table>\n",
       "</div>"
      ],
      "text/plain": [
       "                High       Low      Open     Close        Volume  Adj Close\n",
       "Date                                                                       \n",
       "1986-03-13  0.101562  0.088542  0.088542  0.097222  1.031789e+09   0.069996\n",
       "1986-03-14  0.102431  0.097222  0.097222  0.100694  3.081600e+08   0.072496\n",
       "1986-03-17  0.103299  0.100694  0.100694  0.102431  1.331712e+08   0.073746\n",
       "1986-03-18  0.103299  0.098958  0.102431  0.099826  6.776640e+07   0.071871\n",
       "1986-03-19  0.100694  0.097222  0.099826  0.098090  4.789440e+07   0.070621"
      ]
     },
     "execution_count": 2,
     "metadata": {},
     "output_type": "execute_result"
    }
   ],
   "source": [
    "Microsoft = data.DataReader(\"MSFT\", data_source=\"yahoo\", start = \"1986-03-01\", end = \"2019-06-01\")\n",
    "Microsoft.head()"
   ]
  },
  {
   "cell_type": "code",
   "execution_count": 3,
   "metadata": {},
   "outputs": [
    {
     "data": {
      "text/plain": [
       "(8369, 6)"
      ]
     },
     "execution_count": 3,
     "metadata": {},
     "output_type": "execute_result"
    }
   ],
   "source": [
    "Microsoft.shape"
   ]
  },
  {
   "cell_type": "code",
   "execution_count": 4,
   "metadata": {},
   "outputs": [
    {
     "data": {
      "text/plain": [
       "(8100, 6)"
      ]
     },
     "execution_count": 4,
     "metadata": {},
     "output_type": "execute_result"
    }
   ],
   "source": [
    "Microsoft_train = Microsoft.iloc[:8100, :]\n",
    "Microsoft_train.shape"
   ]
  },
  {
   "cell_type": "code",
   "execution_count": 5,
   "metadata": {},
   "outputs": [
    {
     "data": {
      "text/plain": [
       "(269, 6)"
      ]
     },
     "execution_count": 5,
     "metadata": {},
     "output_type": "execute_result"
    }
   ],
   "source": [
    "Microsoft_test = Microsoft.iloc[8100:, :]\n",
    "Microsoft_test.shape"
   ]
  },
  {
   "cell_type": "code",
   "execution_count": 6,
   "metadata": {},
   "outputs": [
    {
     "data": {
      "text/plain": [
       "array([[8.85416642e-02],\n",
       "       [9.72222239e-02],\n",
       "       [1.00694448e-01],\n",
       "       ...,\n",
       "       [9.35500031e+01],\n",
       "       [9.75999985e+01],\n",
       "       [9.63300018e+01]])"
      ]
     },
     "execution_count": 6,
     "metadata": {},
     "output_type": "execute_result"
    }
   ],
   "source": [
    "training_set = Microsoft.iloc[:8100, 2:3].values\n",
    "training_set"
   ]
  },
  {
   "cell_type": "code",
   "execution_count": 7,
   "metadata": {},
   "outputs": [],
   "source": [
    "# Feature Scaling\n",
    "from sklearn.preprocessing import MinMaxScaler\n",
    "sc = MinMaxScaler(feature_range = (0, 1))\n",
    "training_set_scaled = sc.fit_transform(training_set)\n",
    "\n",
    "# Creating a data structure with 60 timesteps and 1 output\n",
    "X_train = []\n",
    "y_train = []\n",
    "for i in range(60, 8099):\n",
    "    X_train.append(training_set_scaled[i-60:i, 0])\n",
    "    y_train.append(training_set_scaled[i, 0])\n",
    "X_train, y_train = np.array(X_train), np.array(y_train)\n",
    "\n",
    "# Reshaping\n",
    "X_train = np.reshape(X_train, (X_train.shape[0], X_train.shape[1], 1))"
   ]
  },
  {
   "cell_type": "code",
   "execution_count": 8,
   "metadata": {},
   "outputs": [
    {
     "name": "stderr",
     "output_type": "stream",
     "text": [
      "Using TensorFlow backend.\n"
     ]
    },
    {
     "name": "stdout",
     "output_type": "stream",
     "text": [
      "WARNING:tensorflow:From C:\\Users\\Christy\\Anaconda3\\lib\\site-packages\\tensorflow\\python\\framework\\op_def_library.py:263: colocate_with (from tensorflow.python.framework.ops) is deprecated and will be removed in a future version.\n",
      "Instructions for updating:\n",
      "Colocations handled automatically by placer.\n",
      "WARNING:tensorflow:From C:\\Users\\Christy\\Anaconda3\\lib\\site-packages\\keras\\backend\\tensorflow_backend.py:3445: calling dropout (from tensorflow.python.ops.nn_ops) with keep_prob is deprecated and will be removed in a future version.\n",
      "Instructions for updating:\n",
      "Please use `rate` instead of `keep_prob`. Rate should be set to `rate = 1 - keep_prob`.\n",
      "WARNING:tensorflow:From C:\\Users\\Christy\\Anaconda3\\lib\\site-packages\\tensorflow\\python\\ops\\math_ops.py:3066: to_int32 (from tensorflow.python.ops.math_ops) is deprecated and will be removed in a future version.\n",
      "Instructions for updating:\n",
      "Use tf.cast instead.\n",
      "Epoch 1/50\n",
      "8039/8039 [==============================] - 89s 11ms/step - loss: 0.0037\n",
      "Epoch 2/50\n",
      "8039/8039 [==============================] - 79s 10ms/step - loss: 0.0012\n",
      "Epoch 3/50\n",
      "8039/8039 [==============================] - 75s 9ms/step - loss: 8.6770e-04\n",
      "Epoch 4/50\n",
      "8039/8039 [==============================] - 73s 9ms/step - loss: 8.9566e-04\n",
      "Epoch 5/50\n",
      "8039/8039 [==============================] - 73s 9ms/step - loss: 7.9029e-04\n",
      "Epoch 6/50\n",
      "8039/8039 [==============================] - 78s 10ms/step - loss: 7.5759e-04\n",
      "Epoch 7/50\n",
      "8039/8039 [==============================] - 79s 10ms/step - loss: 6.2262e-04\n",
      "Epoch 8/50\n",
      "8039/8039 [==============================] - 77s 10ms/step - loss: 6.7337e-04\n",
      "Epoch 9/50\n",
      "8039/8039 [==============================] - 77s 10ms/step - loss: 5.9756e-04\n",
      "Epoch 10/50\n",
      "8039/8039 [==============================] - 76s 9ms/step - loss: 5.9976e-04\n",
      "Epoch 11/50\n",
      "8039/8039 [==============================] - 77s 10ms/step - loss: 6.0717e-04\n",
      "Epoch 12/50\n",
      "8039/8039 [==============================] - 77s 10ms/step - loss: 5.7882e-04\n",
      "Epoch 13/50\n",
      "8039/8039 [==============================] - 76s 9ms/step - loss: 5.2298e-04\n",
      "Epoch 14/50\n",
      "8039/8039 [==============================] - 77s 10ms/step - loss: 5.2972e-04\n",
      "Epoch 15/50\n",
      "8039/8039 [==============================] - 76s 9ms/step - loss: 5.3825e-04\n",
      "Epoch 16/50\n",
      "8039/8039 [==============================] - 77s 10ms/step - loss: 5.7612e-04\n",
      "Epoch 17/50\n",
      "8039/8039 [==============================] - 77s 10ms/step - loss: 5.2539e-04\n",
      "Epoch 18/50\n",
      "8039/8039 [==============================] - 77s 10ms/step - loss: 5.3586e-04\n",
      "Epoch 19/50\n",
      "8039/8039 [==============================] - 76s 10ms/step - loss: 4.7309e-04\n",
      "Epoch 20/50\n",
      "8039/8039 [==============================] - 76s 9ms/step - loss: 4.6926e-04\n",
      "Epoch 21/50\n",
      "8039/8039 [==============================] - 80s 10ms/step - loss: 4.6798e-04\n",
      "Epoch 22/50\n",
      "8039/8039 [==============================] - 75s 9ms/step - loss: 4.4812e-04\n",
      "Epoch 23/50\n",
      "8039/8039 [==============================] - 76s 9ms/step - loss: 5.0467e-04\n",
      "Epoch 24/50\n",
      "8039/8039 [==============================] - 75s 9ms/step - loss: 4.5612e-04\n",
      "Epoch 25/50\n",
      "8039/8039 [==============================] - 77s 10ms/step - loss: 4.8249e-04\n",
      "Epoch 26/50\n",
      "8039/8039 [==============================] - 80s 10ms/step - loss: 5.0596e-04\n",
      "Epoch 27/50\n",
      "8039/8039 [==============================] - 81s 10ms/step - loss: 4.7044e-04\n",
      "Epoch 28/50\n",
      "8039/8039 [==============================] - 81s 10ms/step - loss: 4.9355e-04\n",
      "Epoch 29/50\n",
      "8039/8039 [==============================] - 78s 10ms/step - loss: 4.1841e-04\n",
      "Epoch 30/50\n",
      "8039/8039 [==============================] - 80s 10ms/step - loss: 4.5005e-04\n",
      "Epoch 31/50\n",
      "8039/8039 [==============================] - 79s 10ms/step - loss: 4.9561e-04\n",
      "Epoch 32/50\n",
      "8039/8039 [==============================] - 76s 9ms/step - loss: 4.4065e-04\n",
      "Epoch 33/50\n",
      "8039/8039 [==============================] - 75s 9ms/step - loss: 4.3392e-04\n",
      "Epoch 34/50\n",
      "8039/8039 [==============================] - 81s 10ms/step - loss: 4.7045e-04\n",
      "Epoch 35/50\n",
      "8039/8039 [==============================] - 76s 9ms/step - loss: 5.2297e-04\n",
      "Epoch 36/50\n",
      "8039/8039 [==============================] - 78s 10ms/step - loss: 4.3139e-04\n",
      "Epoch 37/50\n",
      "8039/8039 [==============================] - 77s 10ms/step - loss: 3.9452e-04\n",
      "Epoch 38/50\n",
      "8039/8039 [==============================] - 80s 10ms/step - loss: 4.2486e-04\n",
      "Epoch 39/50\n",
      "8039/8039 [==============================] - 73s 9ms/step - loss: 4.1066e-04\n",
      "Epoch 40/50\n",
      "8039/8039 [==============================] - 75s 9ms/step - loss: 4.4764e-04\n",
      "Epoch 41/50\n",
      "8039/8039 [==============================] - 75s 9ms/step - loss: 4.0807e-04\n",
      "Epoch 42/50\n",
      "8039/8039 [==============================] - 72s 9ms/step - loss: 4.4856e-04\n",
      "Epoch 43/50\n",
      "8039/8039 [==============================] - 74s 9ms/step - loss: 4.7078e-04\n",
      "Epoch 44/50\n",
      "8039/8039 [==============================] - 72s 9ms/step - loss: 4.0451e-04\n",
      "Epoch 45/50\n",
      "8039/8039 [==============================] - 72s 9ms/step - loss: 4.2135e-04\n",
      "Epoch 46/50\n",
      "8039/8039 [==============================] - 74s 9ms/step - loss: 4.1328e-04\n",
      "Epoch 47/50\n",
      "8039/8039 [==============================] - 73s 9ms/step - loss: 4.2681e-04\n",
      "Epoch 48/50\n",
      "8039/8039 [==============================] - 77s 10ms/step - loss: 4.2144e-04\n",
      "Epoch 49/50\n",
      "8039/8039 [==============================] - 76s 9ms/step - loss: 4.1458e-04\n",
      "Epoch 50/50\n",
      "8039/8039 [==============================] - 73s 9ms/step - loss: 3.6867e-04\n"
     ]
    },
    {
     "data": {
      "text/plain": [
       "<keras.callbacks.History at 0x29e50a78668>"
      ]
     },
     "execution_count": 8,
     "metadata": {},
     "output_type": "execute_result"
    }
   ],
   "source": [
    "# Part 2 - Building the RNN\n",
    "\n",
    "# Importing the Keras libraries and packages\n",
    "from keras.models import Sequential\n",
    "from keras.layers import Dense\n",
    "from keras.layers import LSTM\n",
    "from keras.layers import Dropout\n",
    "\n",
    "# Initialising the RNN\n",
    "regressor = Sequential()\n",
    "\n",
    "# Adding the first LSTM layer and some Dropout regularisation\n",
    "regressor.add(LSTM(units = 50, return_sequences = True, input_shape = (X_train.shape[1], 1)))\n",
    "regressor.add(Dropout(0.2))\n",
    "\n",
    "# Adding a second LSTM layer and some Dropout regularisation\n",
    "regressor.add(LSTM(units = 50, return_sequences = True))\n",
    "regressor.add(Dropout(0.2))\n",
    "\n",
    "# Adding a third LSTM layer and some Dropout regularisation\n",
    "regressor.add(LSTM(units = 50, return_sequences = True))\n",
    "regressor.add(Dropout(0.2))\n",
    "\n",
    "# Adding a fourth LSTM layer and some Dropout regularisation\n",
    "regressor.add(LSTM(units = 50))\n",
    "regressor.add(Dropout(0.2))\n",
    "\n",
    "# Adding the output layer\n",
    "regressor.add(Dense(units = 1))\n",
    "\n",
    "# Compiling the RNN\n",
    "regressor.compile(optimizer = 'adam', loss = 'mean_squared_error')\n",
    "\n",
    "# Fitting the RNN to the Training set\n",
    "regressor.fit(X_train, y_train, epochs = 50, batch_size = 32)"
   ]
  },
  {
   "cell_type": "code",
   "execution_count": 9,
   "metadata": {},
   "outputs": [],
   "source": [
    "# Part 3 - Making the predictions and visualising the results\n",
    "\n",
    "# Getting the real recent stock price until May 2019\n",
    "real_stock_price = Microsoft_test.iloc[:, 2:3].values"
   ]
  },
  {
   "cell_type": "code",
   "execution_count": 10,
   "metadata": {},
   "outputs": [],
   "source": [
    "# Getting the predicted stock price until May 2019\n",
    "Microsoft_total = pd.concat((Microsoft_train['Close'], Microsoft_test['Close']), axis = 0)\n",
    "inputs = Microsoft_total[len(Microsoft_total) - len(Microsoft_test) - 60:].values\n",
    "inputs = inputs.reshape(-1,1)\n",
    "inputs = sc.transform(inputs)\n",
    "X_test = []\n",
    "for i in range(60, 329):\n",
    "    X_test.append(inputs[i-60:i, 0])\n",
    "X_test = np.array(X_test)\n",
    "X_test = np.reshape(X_test, (X_test.shape[0], X_test.shape[1], 1))\n",
    "predicted_stock_price = regressor.predict(X_test)\n",
    "predicted_stock_price = sc.inverse_transform(predicted_stock_price)"
   ]
  },
  {
   "cell_type": "code",
   "execution_count": 11,
   "metadata": {},
   "outputs": [
    {
     "data": {
      "image/png": "[encoded data removed]",
      "text/plain": [
       "<Figure size 432x288 with 1 Axes>"
      ]
     },
     "metadata": {
      "needs_background": "light"
     },
     "output_type": "display_data"
    }
   ],
   "source": [
    "# Visualising the results\n",
    "plt.plot(real_stock_price, color = 'red', label = 'Real Microsoft Stock Price')\n",
    "plt.plot(predicted_stock_price, color = 'blue', label = 'Predicted Microsoft Stock Price')\n",
    "plt.title('Microsoft Stock Price prediction')\n",
    "plt.xlabel('Days')\n",
    "plt.ylabel('Microsoft Stock Price')\n",
    "plt.legend()\n",
    "plt.show()"
   ]
  },
  {
   "cell_type": "code",
   "execution_count": 12,
   "metadata": {},
   "outputs": [
    {
     "data": {
      "text/plain": [
       "10.150324969847377"
      ]
     },
     "execution_count": 12,
     "metadata": {},
     "output_type": "execute_result"
    }
   ],
   "source": [
    "#Evaluating the RNN\n",
    "import math\n",
    "from sklearn.metrics import mean_squared_error\n",
    "rmse = math.sqrt(mean_squared_error(real_stock_price, predicted_stock_price))\n",
    "rmse"
   ]
  },
  {
   "cell_type": "code",
   "execution_count": 13,
   "metadata": {},
   "outputs": [
    {
     "data": {
      "image/png": "[encoded data removed]",
      "text/plain": [
       "<Figure size 432x288 with 1 Axes>"
      ]
     },
     "metadata": {
      "needs_background": "light"
     },
     "output_type": "display_data"
    }
   ],
   "source": [
    "# Visualising the results\n",
    " \n",
    "shift_pred= predicted_stock_price[:-1]\n",
    "shift_pred = np.append(0, np.reshape(shift_pred, len(shift_pred)))\n",
    "shift_real = real_stock_price[:-1]\n",
    "shift_real = np.append(0, np.reshape(shift_real, len(shift_real)))\n",
    " \n",
    "dif_pred = np.add(np.reshape(predicted_stock_price, len(predicted_stock_price)), - shift_pred)[1:]\n",
    "dif_real = np.add(np.reshape(real_stock_price, len(real_stock_price)), - shift_real)[1:]\n",
    " \n",
    "fig, ax = plt.subplots()\n",
    "ind = np.arange(dif_real.size)\n",
    "real_bar = ax.bar(ind-0.15, dif_real, width=0.3, color = 'red', label = 'Real Difference')\n",
    "pred_bar = ax.bar(ind+0.15, dif_pred, width=0.3, color = 'blue', label = 'Predicted Difference')\n",
    "ax.set_title('Microsoft Stock Price Prediction')\n",
    "ax.set_xlabel('Days')\n",
    "ax.set_ylabel('Microsoft Stock Price')\n",
    "ax.legend()\n",
    "plt.show()"
   ]
  }
 ],
 "metadata": {
  "kernelspec": {
   "display_name": "Python 3",
   "language": "python",
   "name": "python3"
  },
  "language_info": {
   "codemirror_mode": {
    "name": "ipython",
    "version": 3
   },
   "file_extension": ".py",
   "mimetype": "text/x-python",
   "name": "python",
   "nbconvert_exporter": "python",
   "pygments_lexer": "ipython3",
   "version": "3.7.3"
  }
 },
 "nbformat": 4,
 "nbformat_minor": 2
}
