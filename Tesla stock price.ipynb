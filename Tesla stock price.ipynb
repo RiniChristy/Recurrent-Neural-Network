{
 "cells": [
  {
   "cell_type": "code",
   "execution_count": 1,
   "metadata": {},
   "outputs": [],
   "source": [
    "from pandas_datareader import data, wb\n",
    "import pandas as pd\n",
    "import numpy as np\n",
    "import datetime\n",
    "import matplotlib.pyplot as plt\n",
    "%matplotlib inline\n",
    "import seaborn as sns"
   ]
  },
  {
   "cell_type": "code",
   "execution_count": 2,
   "metadata": {},
   "outputs": [
    {
     "data": {
      "text/html": [
       "<div>\n",
       "<style scoped>\n",
       "    .dataframe tbody tr th:only-of-type {\n",
       "        vertical-align: middle;\n",
       "    }\n",
       "\n",
       "    .dataframe tbody tr th {\n",
       "        vertical-align: top;\n",
       "    }\n",
       "\n",
       "    .dataframe thead th {\n",
       "        text-align: right;\n",
       "    }\n",
       "</style>\n",
       "<table border=\"1\" class=\"dataframe\">\n",
       "  <thead>\n",
       "    <tr style=\"text-align: right;\">\n",
       "      <th></th>\n",
       "      <th>High</th>\n",
       "      <th>Low</th>\n",
       "      <th>Open</th>\n",
       "      <th>Close</th>\n",
       "      <th>Volume</th>\n",
       "      <th>Adj Close</th>\n",
       "    </tr>\n",
       "    <tr>\n",
       "      <th>Date</th>\n",
       "      <th></th>\n",
       "      <th></th>\n",
       "      <th></th>\n",
       "      <th></th>\n",
       "      <th></th>\n",
       "      <th></th>\n",
       "    </tr>\n",
       "  </thead>\n",
       "  <tbody>\n",
       "    <tr>\n",
       "      <th>2010-06-29</th>\n",
       "      <td>25.00</td>\n",
       "      <td>17.540001</td>\n",
       "      <td>19.000000</td>\n",
       "      <td>23.889999</td>\n",
       "      <td>18766300</td>\n",
       "      <td>23.889999</td>\n",
       "    </tr>\n",
       "    <tr>\n",
       "      <th>2010-06-30</th>\n",
       "      <td>30.42</td>\n",
       "      <td>23.299999</td>\n",
       "      <td>25.790001</td>\n",
       "      <td>23.830000</td>\n",
       "      <td>17187100</td>\n",
       "      <td>23.830000</td>\n",
       "    </tr>\n",
       "    <tr>\n",
       "      <th>2010-07-01</th>\n",
       "      <td>25.92</td>\n",
       "      <td>20.270000</td>\n",
       "      <td>25.000000</td>\n",
       "      <td>21.959999</td>\n",
       "      <td>8218800</td>\n",
       "      <td>21.959999</td>\n",
       "    </tr>\n",
       "    <tr>\n",
       "      <th>2010-07-02</th>\n",
       "      <td>23.10</td>\n",
       "      <td>18.709999</td>\n",
       "      <td>23.000000</td>\n",
       "      <td>19.200001</td>\n",
       "      <td>5139800</td>\n",
       "      <td>19.200001</td>\n",
       "    </tr>\n",
       "    <tr>\n",
       "      <th>2010-07-06</th>\n",
       "      <td>20.00</td>\n",
       "      <td>15.830000</td>\n",
       "      <td>20.000000</td>\n",
       "      <td>16.110001</td>\n",
       "      <td>6866900</td>\n",
       "      <td>16.110001</td>\n",
       "    </tr>\n",
       "  </tbody>\n",
       "</table>\n",
       "</div>"
      ],
      "text/plain": [
       "             High        Low       Open      Close    Volume  Adj Close\n",
       "Date                                                                   \n",
       "2010-06-29  25.00  17.540001  19.000000  23.889999  18766300  23.889999\n",
       "2010-06-30  30.42  23.299999  25.790001  23.830000  17187100  23.830000\n",
       "2010-07-01  25.92  20.270000  25.000000  21.959999   8218800  21.959999\n",
       "2010-07-02  23.10  18.709999  23.000000  19.200001   5139800  19.200001\n",
       "2010-07-06  20.00  15.830000  20.000000  16.110001   6866900  16.110001"
      ]
     },
     "execution_count": 2,
     "metadata": {},
     "output_type": "execute_result"
    }
   ],
   "source": [
    "Tesla = data.DataReader(\"TSLA\", data_source=\"yahoo\", start = \"2010-06-28\", end = \"2019-06-01\")\n",
    "Tesla.head()"
   ]
  },
  {
   "cell_type": "code",
   "execution_count": 15,
   "metadata": {},
   "outputs": [
    {
     "data": {
      "text/html": [
       "<div>\n",
       "<style scoped>\n",
       "    .dataframe tbody tr th:only-of-type {\n",
       "        vertical-align: middle;\n",
       "    }\n",
       "\n",
       "    .dataframe tbody tr th {\n",
       "        vertical-align: top;\n",
       "    }\n",
       "\n",
       "    .dataframe thead th {\n",
       "        text-align: right;\n",
       "    }\n",
       "</style>\n",
       "<table border=\"1\" class=\"dataframe\">\n",
       "  <thead>\n",
       "    <tr style=\"text-align: right;\">\n",
       "      <th></th>\n",
       "      <th>High</th>\n",
       "      <th>Low</th>\n",
       "      <th>Open</th>\n",
       "      <th>Close</th>\n",
       "      <th>Volume</th>\n",
       "      <th>Adj Close</th>\n",
       "    </tr>\n",
       "    <tr>\n",
       "      <th>Date</th>\n",
       "      <th></th>\n",
       "      <th></th>\n",
       "      <th></th>\n",
       "      <th></th>\n",
       "      <th></th>\n",
       "      <th></th>\n",
       "    </tr>\n",
       "  </thead>\n",
       "  <tbody>\n",
       "    <tr>\n",
       "      <th>2019-05-20</th>\n",
       "      <td>206.000000</td>\n",
       "      <td>195.250000</td>\n",
       "      <td>202.800003</td>\n",
       "      <td>205.360001</td>\n",
       "      <td>20526200</td>\n",
       "      <td>205.360001</td>\n",
       "    </tr>\n",
       "    <tr>\n",
       "      <th>2019-05-21</th>\n",
       "      <td>207.399994</td>\n",
       "      <td>196.039993</td>\n",
       "      <td>197.759995</td>\n",
       "      <td>205.080002</td>\n",
       "      <td>18003900</td>\n",
       "      <td>205.080002</td>\n",
       "    </tr>\n",
       "    <tr>\n",
       "      <th>2019-05-22</th>\n",
       "      <td>203.940002</td>\n",
       "      <td>191.779999</td>\n",
       "      <td>199.100006</td>\n",
       "      <td>192.729996</td>\n",
       "      <td>18685200</td>\n",
       "      <td>192.729996</td>\n",
       "    </tr>\n",
       "    <tr>\n",
       "      <th>2019-05-23</th>\n",
       "      <td>199.470001</td>\n",
       "      <td>186.220001</td>\n",
       "      <td>194.339996</td>\n",
       "      <td>195.490005</td>\n",
       "      <td>26547100</td>\n",
       "      <td>195.490005</td>\n",
       "    </tr>\n",
       "    <tr>\n",
       "      <th>2019-05-24</th>\n",
       "      <td>199.979996</td>\n",
       "      <td>188.750000</td>\n",
       "      <td>199.830002</td>\n",
       "      <td>190.630005</td>\n",
       "      <td>14119900</td>\n",
       "      <td>190.630005</td>\n",
       "    </tr>\n",
       "  </tbody>\n",
       "</table>\n",
       "</div>"
      ],
      "text/plain": [
       "                  High         Low        Open       Close    Volume  \\\n",
       "Date                                                                   \n",
       "2019-05-20  206.000000  195.250000  202.800003  205.360001  20526200   \n",
       "2019-05-21  207.399994  196.039993  197.759995  205.080002  18003900   \n",
       "2019-05-22  203.940002  191.779999  199.100006  192.729996  18685200   \n",
       "2019-05-23  199.470001  186.220001  194.339996  195.490005  26547100   \n",
       "2019-05-24  199.979996  188.750000  199.830002  190.630005  14119900   \n",
       "\n",
       "             Adj Close  \n",
       "Date                    \n",
       "2019-05-20  205.360001  \n",
       "2019-05-21  205.080002  \n",
       "2019-05-22  192.729996  \n",
       "2019-05-23  195.490005  \n",
       "2019-05-24  190.630005  "
      ]
     },
     "execution_count": 15,
     "metadata": {},
     "output_type": "execute_result"
    }
   ],
   "source": [
    "Tesla.tail()"
   ]
  },
  {
   "cell_type": "code",
   "execution_count": 3,
   "metadata": {},
   "outputs": [
    {
     "data": {
      "text/plain": [
       "(2242, 6)"
      ]
     },
     "execution_count": 3,
     "metadata": {},
     "output_type": "execute_result"
    }
   ],
   "source": [
    "Tesla.shape"
   ]
  },
  {
   "cell_type": "code",
   "execution_count": 4,
   "metadata": {},
   "outputs": [
    {
     "data": {
      "text/plain": [
       "(2100, 6)"
      ]
     },
     "execution_count": 4,
     "metadata": {},
     "output_type": "execute_result"
    }
   ],
   "source": [
    "Tesla_train = Tesla.iloc[:2100, :]\n",
    "Tesla_train.shape"
   ]
  },
  {
   "cell_type": "code",
   "execution_count": 5,
   "metadata": {},
   "outputs": [
    {
     "data": {
      "text/plain": [
       "(142, 6)"
      ]
     },
     "execution_count": 5,
     "metadata": {},
     "output_type": "execute_result"
    }
   ],
   "source": [
    "Tesla_test = Tesla.iloc[2100:, :]\n",
    "Tesla_test.shape"
   ]
  },
  {
   "cell_type": "code",
   "execution_count": 6,
   "metadata": {},
   "outputs": [
    {
     "data": {
      "text/plain": [
       "array([[ 19.        ],\n",
       "       [ 25.79000092],\n",
       "       [ 25.        ],\n",
       "       ...,\n",
       "       [317.22000122],\n",
       "       [308.25      ],\n",
       "       [337.47000122]])"
      ]
     },
     "execution_count": 6,
     "metadata": {},
     "output_type": "execute_result"
    }
   ],
   "source": [
    "training_set = Tesla.iloc[:2100, 2:3].values\n",
    "training_set"
   ]
  },
  {
   "cell_type": "code",
   "execution_count": 7,
   "metadata": {},
   "outputs": [],
   "source": [
    "# Feature Scaling\n",
    "from sklearn.preprocessing import MinMaxScaler\n",
    "sc = MinMaxScaler(feature_range = (0, 1))\n",
    "training_set_scaled = sc.fit_transform(training_set)\n",
    "\n",
    "# Creating a data structure with 60 timesteps and 1 output\n",
    "X_train = []\n",
    "y_train = []\n",
    "for i in range(60, 2099):\n",
    "    X_train.append(training_set_scaled[i-60:i, 0])\n",
    "    y_train.append(training_set_scaled[i, 0])\n",
    "X_train, y_train = np.array(X_train), np.array(y_train)\n",
    "\n",
    "# Reshaping\n",
    "X_train = np.reshape(X_train, (X_train.shape[0], X_train.shape[1], 1))"
   ]
  },
  {
   "cell_type": "code",
   "execution_count": 8,
   "metadata": {},
   "outputs": [
    {
     "name": "stderr",
     "output_type": "stream",
     "text": [
      "Using TensorFlow backend.\n"
     ]
    },
    {
     "name": "stdout",
     "output_type": "stream",
     "text": [
      "WARNING:tensorflow:From C:\\Users\\Christy\\Anaconda3\\lib\\site-packages\\tensorflow\\python\\framework\\op_def_library.py:263: colocate_with (from tensorflow.python.framework.ops) is deprecated and will be removed in a future version.\n",
      "Instructions for updating:\n",
      "Colocations handled automatically by placer.\n",
      "WARNING:tensorflow:From C:\\Users\\Christy\\Anaconda3\\lib\\site-packages\\keras\\backend\\tensorflow_backend.py:3445: calling dropout (from tensorflow.python.ops.nn_ops) with keep_prob is deprecated and will be removed in a future version.\n",
      "Instructions for updating:\n",
      "Please use `rate` instead of `keep_prob`. Rate should be set to `rate = 1 - keep_prob`.\n"
     ]
    },
    {
     "name": "stderr",
     "output_type": "stream",
     "text": [
      "C:\\Users\\Christy\\Anaconda3\\lib\\site-packages\\dask\\config.py:168: YAMLLoadWarning: calling yaml.load() without Loader=... is deprecated, as the default Loader is unsafe. Please read https://msg.pyyaml.org/load for full details.\n",
      "  data = yaml.load(f.read()) or {}\n"
     ]
    },
    {
     "name": "stdout",
     "output_type": "stream",
     "text": [
      "WARNING:tensorflow:From C:\\Users\\Christy\\Anaconda3\\lib\\site-packages\\tensorflow\\python\\ops\\math_ops.py:3066: to_int32 (from tensorflow.python.ops.math_ops) is deprecated and will be removed in a future version.\n",
      "Instructions for updating:\n",
      "Use tf.cast instead.\n",
      "Epoch 1/100\n",
      "2039/2039 [==============================] - 24s 12ms/step - loss: 0.0320\n",
      "\n",
      "Epoch 00001: loss improved from inf to 0.03204, saving model to weights.h5\n",
      "Epoch 2/100\n",
      "2039/2039 [==============================] - 19s 9ms/step - loss: 0.0057\n",
      "\n",
      "Epoch 00002: loss improved from 0.03204 to 0.00568, saving model to weights.h5\n",
      "Epoch 3/100\n",
      "2039/2039 [==============================] - 19s 9ms/step - loss: 0.0050\n",
      "\n",
      "Epoch 00003: loss improved from 0.00568 to 0.00504, saving model to weights.h5\n",
      "Epoch 4/100\n",
      "2039/2039 [==============================] - 19s 9ms/step - loss: 0.0047\n",
      "\n",
      "Epoch 00004: loss improved from 0.00504 to 0.00472, saving model to weights.h5\n",
      "Epoch 5/100\n",
      "2039/2039 [==============================] - 19s 9ms/step - loss: 0.0044\n",
      "\n",
      "Epoch 00005: loss improved from 0.00472 to 0.00441, saving model to weights.h5\n",
      "Epoch 6/100\n",
      "2039/2039 [==============================] - 19s 9ms/step - loss: 0.0041\n",
      "\n",
      "Epoch 00006: loss improved from 0.00441 to 0.00414, saving model to weights.h5\n",
      "Epoch 7/100\n",
      "2039/2039 [==============================] - 19s 9ms/step - loss: 0.0041\n",
      "\n",
      "Epoch 00007: loss improved from 0.00414 to 0.00406, saving model to weights.h5\n",
      "Epoch 8/100\n",
      "2039/2039 [==============================] - 19s 9ms/step - loss: 0.0041\n",
      "\n",
      "Epoch 00008: loss did not improve from 0.00406\n",
      "Epoch 9/100\n",
      "2039/2039 [==============================] - 19s 9ms/step - loss: 0.0038\n",
      "\n",
      "Epoch 00009: loss improved from 0.00406 to 0.00377, saving model to weights.h5\n",
      "Epoch 10/100\n",
      "2039/2039 [==============================] - 20s 10ms/step - loss: 0.0036\n",
      "\n",
      "Epoch 00010: loss improved from 0.00377 to 0.00363, saving model to weights.h5\n",
      "Epoch 11/100\n",
      "2039/2039 [==============================] - 19s 9ms/step - loss: 0.0033\n",
      "\n",
      "Epoch 00011: loss improved from 0.00363 to 0.00333, saving model to weights.h5\n",
      "Epoch 12/100\n",
      "2039/2039 [==============================] - 18s 9ms/step - loss: 0.0034\n",
      "\n",
      "Epoch 00012: loss did not improve from 0.00333\n",
      "Epoch 13/100\n",
      "2039/2039 [==============================] - 19s 9ms/step - loss: 0.0034\n",
      "\n",
      "Epoch 00013: loss did not improve from 0.00333\n",
      "Epoch 14/100\n",
      "2039/2039 [==============================] - 19s 9ms/step - loss: 0.0034\n",
      "\n",
      "Epoch 00014: loss did not improve from 0.00333\n",
      "Epoch 15/100\n",
      "2039/2039 [==============================] - 19s 9ms/step - loss: 0.0034\n",
      "\n",
      "Epoch 00015: loss did not improve from 0.00333\n",
      "Epoch 16/100\n",
      "2039/2039 [==============================] - 19s 9ms/step - loss: 0.0031\n",
      "\n",
      "Epoch 00016: loss improved from 0.00333 to 0.00308, saving model to weights.h5\n",
      "Epoch 17/100\n",
      "2039/2039 [==============================] - 19s 9ms/step - loss: 0.0029\n",
      "\n",
      "Epoch 00017: loss improved from 0.00308 to 0.00286, saving model to weights.h5\n",
      "Epoch 18/100\n",
      "2039/2039 [==============================] - 19s 9ms/step - loss: 0.0027\n",
      "\n",
      "Epoch 00018: loss improved from 0.00286 to 0.00271, saving model to weights.h5\n",
      "Epoch 19/100\n",
      "2039/2039 [==============================] - 18s 9ms/step - loss: 0.0028\n",
      "\n",
      "Epoch 00019: loss did not improve from 0.00271\n",
      "Epoch 20/100\n",
      "2039/2039 [==============================] - 19s 9ms/step - loss: 0.0029\n",
      "\n",
      "Epoch 00020: loss did not improve from 0.00271\n",
      "Epoch 21/100\n",
      "2039/2039 [==============================] - 19s 9ms/step - loss: 0.0025\n",
      "\n",
      "Epoch 00021: loss improved from 0.00271 to 0.00254, saving model to weights.h5\n",
      "Epoch 22/100\n",
      "2039/2039 [==============================] - 18s 9ms/step - loss: 0.0025\n",
      "\n",
      "Epoch 00022: loss did not improve from 0.00254\n",
      "Epoch 23/100\n",
      "2039/2039 [==============================] - 18s 9ms/step - loss: 0.0025\n",
      "\n",
      "Epoch 00023: loss did not improve from 0.00254\n",
      "Epoch 24/100\n",
      "2039/2039 [==============================] - 18s 9ms/step - loss: 0.0024\n",
      "\n",
      "Epoch 00024: loss improved from 0.00254 to 0.00242, saving model to weights.h5\n",
      "Epoch 25/100\n",
      "2039/2039 [==============================] - 18s 9ms/step - loss: 0.0024\n",
      "\n",
      "Epoch 00025: loss did not improve from 0.00242\n",
      "Epoch 26/100\n",
      "2039/2039 [==============================] - 18s 9ms/step - loss: 0.0026\n",
      "\n",
      "Epoch 00026: loss did not improve from 0.00242\n",
      "Epoch 27/100\n",
      "2039/2039 [==============================] - 18s 9ms/step - loss: 0.0023\n",
      "\n",
      "Epoch 00027: loss improved from 0.00242 to 0.00234, saving model to weights.h5\n",
      "Epoch 28/100\n",
      "2039/2039 [==============================] - 18s 9ms/step - loss: 0.0022\n",
      "\n",
      "Epoch 00028: loss improved from 0.00234 to 0.00222, saving model to weights.h5\n",
      "Epoch 29/100\n",
      "2039/2039 [==============================] - 18s 9ms/step - loss: 0.0023\n",
      "\n",
      "Epoch 00029: loss did not improve from 0.00222\n",
      "Epoch 30/100\n",
      "2039/2039 [==============================] - 18s 9ms/step - loss: 0.0021\n",
      "\n",
      "Epoch 00030: loss improved from 0.00222 to 0.00206, saving model to weights.h5\n",
      "Epoch 31/100\n",
      "2039/2039 [==============================] - 18s 9ms/step - loss: 0.0024\n",
      "\n",
      "Epoch 00031: loss did not improve from 0.00206\n",
      "Epoch 32/100\n",
      "2039/2039 [==============================] - 18s 9ms/step - loss: 0.0020\n",
      "\n",
      "Epoch 00032: loss improved from 0.00206 to 0.00203, saving model to weights.h5\n",
      "Epoch 33/100\n",
      "2039/2039 [==============================] - 21s 10ms/step - loss: 0.0021\n",
      "\n",
      "Epoch 00033: loss did not improve from 0.00203\n",
      "Epoch 34/100\n",
      "2039/2039 [==============================] - 18s 9ms/step - loss: 0.0020\n",
      "\n",
      "Epoch 00034: loss improved from 0.00203 to 0.00201, saving model to weights.h5\n",
      "Epoch 35/100\n",
      "2039/2039 [==============================] - 18s 9ms/step - loss: 0.0021\n",
      "\n",
      "Epoch 00035: ReduceLROnPlateau reducing learning rate to 0.0005000000237487257.\n",
      "\n",
      "Epoch 00035: loss did not improve from 0.00201\n",
      "Epoch 36/100\n",
      "2039/2039 [==============================] - 20s 10ms/step - loss: 0.0019\n",
      "\n",
      "Epoch 00036: loss improved from 0.00201 to 0.00186, saving model to weights.h5\n",
      "Epoch 37/100\n",
      "2039/2039 [==============================] - 20s 10ms/step - loss: 0.0018\n",
      "\n",
      "Epoch 00037: loss improved from 0.00186 to 0.00182, saving model to weights.h5\n",
      "Epoch 38/100\n",
      "2039/2039 [==============================] - 19s 9ms/step - loss: 0.0020\n",
      "\n",
      "Epoch 00038: loss did not improve from 0.00182\n",
      "Epoch 39/100\n",
      "2039/2039 [==============================] - 20s 10ms/step - loss: 0.0017\n",
      "\n",
      "Epoch 00039: loss improved from 0.00182 to 0.00172, saving model to weights.h5\n",
      "Epoch 40/100\n",
      "2039/2039 [==============================] - 18s 9ms/step - loss: 0.0017\n",
      "\n",
      "Epoch 00040: loss did not improve from 0.00172\n",
      "Epoch 41/100\n",
      "2039/2039 [==============================] - 18s 9ms/step - loss: 0.0018\n",
      "\n",
      "Epoch 00041: loss did not improve from 0.00172\n",
      "Epoch 42/100\n",
      "2039/2039 [==============================] - 18s 9ms/step - loss: 0.0017\n",
      "\n",
      "Epoch 00042: loss improved from 0.00172 to 0.00169, saving model to weights.h5\n",
      "Epoch 43/100\n",
      "2039/2039 [==============================] - 19s 9ms/step - loss: 0.0017\n",
      "\n",
      "Epoch 00043: loss improved from 0.00169 to 0.00168, saving model to weights.h5\n",
      "Epoch 44/100\n",
      "2039/2039 [==============================] - 18s 9ms/step - loss: 0.0016\n",
      "\n",
      "Epoch 00044: ReduceLROnPlateau reducing learning rate to 0.0002500000118743628.\n",
      "\n",
      "Epoch 00044: loss improved from 0.00168 to 0.00163, saving model to weights.h5\n",
      "Epoch 45/100\n",
      "2039/2039 [==============================] - 19s 9ms/step - loss: 0.0017\n",
      "\n",
      "Epoch 00045: loss did not improve from 0.00163\n",
      "Epoch 46/100\n",
      "2039/2039 [==============================] - 21s 10ms/step - loss: 0.0017\n",
      "\n",
      "Epoch 00046: loss did not improve from 0.00163\n",
      "Epoch 47/100\n",
      "2039/2039 [==============================] - 19s 9ms/step - loss: 0.0017\n",
      "\n",
      "Epoch 00047: loss did not improve from 0.00163\n",
      "Epoch 48/100\n",
      "2039/2039 [==============================] - 19s 9ms/step - loss: 0.0017\n",
      "\n",
      "Epoch 00048: loss did not improve from 0.00163\n",
      "Epoch 49/100\n",
      "2039/2039 [==============================] - 18s 9ms/step - loss: 0.0016\n",
      "\n",
      "Epoch 00049: loss improved from 0.00163 to 0.00161, saving model to weights.h5\n",
      "Epoch 50/100\n",
      "2039/2039 [==============================] - 20s 10ms/step - loss: 0.0017\n",
      "\n",
      "Epoch 00050: loss did not improve from 0.00161\n",
      "Epoch 51/100\n",
      "2039/2039 [==============================] - 20s 10ms/step - loss: 0.0015\n",
      "\n",
      "Epoch 00051: loss improved from 0.00161 to 0.00149, saving model to weights.h5\n",
      "Epoch 52/100\n"
     ]
    },
    {
     "name": "stdout",
     "output_type": "stream",
     "text": [
      "2039/2039 [==============================] - 19s 9ms/step - loss: 0.0017\n",
      "\n",
      "Epoch 00052: loss did not improve from 0.00149\n",
      "Epoch 53/100\n",
      "2039/2039 [==============================] - 19s 9ms/step - loss: 0.0016\n",
      "\n",
      "Epoch 00053: loss did not improve from 0.00149\n",
      "Epoch 54/100\n",
      "2039/2039 [==============================] - 19s 9ms/step - loss: 0.0016\n",
      "\n",
      "Epoch 00054: loss did not improve from 0.00149\n",
      "Epoch 55/100\n",
      "2039/2039 [==============================] - 19s 9ms/step - loss: 0.0016\n",
      "\n",
      "Epoch 00055: loss did not improve from 0.00149\n",
      "Epoch 56/100\n",
      "2039/2039 [==============================] - 19s 9ms/step - loss: 0.0016\n",
      "\n",
      "Epoch 00056: ReduceLROnPlateau reducing learning rate to 0.0001250000059371814.\n",
      "\n",
      "Epoch 00056: loss did not improve from 0.00149\n",
      "Epoch 00056: early stopping\n"
     ]
    }
   ],
   "source": [
    "# Part 2 - Building the RNN\n",
    "\n",
    "# Importing the Keras libraries and packages\n",
    "from keras.models import Sequential\n",
    "from keras.layers import Dense\n",
    "from keras.layers import LSTM\n",
    "from keras.layers import Dropout\n",
    "from keras.callbacks import EarlyStopping, ReduceLROnPlateau, ModelCheckpoint, TensorBoard\n",
    "\n",
    "# Initialising the RNN\n",
    "regressor = Sequential()\n",
    "\n",
    "# Adding the first LSTM layer and some Dropout regularisation\n",
    "regressor.add(LSTM(units = 50, return_sequences = True, input_shape = (X_train.shape[1], 1)))\n",
    "regressor.add(Dropout(0.2))\n",
    "\n",
    "# Adding a second LSTM layer and some Dropout regularisation\n",
    "regressor.add(LSTM(units = 50, return_sequences = True))\n",
    "regressor.add(Dropout(0.2))\n",
    "\n",
    "# Adding a third LSTM layer and some Dropout regularisation\n",
    "regressor.add(LSTM(units = 50, return_sequences = True))\n",
    "regressor.add(Dropout(0.2))\n",
    "\n",
    "# Adding a fourth LSTM layer and some Dropout regularisation\n",
    "regressor.add(LSTM(units = 50))\n",
    "regressor.add(Dropout(0.2))\n",
    "\n",
    "# Adding the output layer\n",
    "regressor.add(Dense(units = 1))\n",
    "\n",
    "# Compiling the RNN\n",
    "regressor.compile(optimizer = 'adam', loss = 'mean_squared_error')\n",
    "\n",
    "\n",
    "# Fitting the RNN to the Training set using Keras Callbacks\n",
    "es = EarlyStopping(monitor='loss', mode='min', min_delta=1e-10, patience=5, verbose=1)\n",
    "rlr = ReduceLROnPlateau(monitor='loss', factor=0.5, patience=5, verbose=1)\n",
    "mcp = ModelCheckpoint(filepath='weights.h5', monitor='loss', verbose=1, save_best_only=True, save_weights_only=True)\n",
    "tb = TensorBoard('logs')\n",
    "history = regressor.fit(X_train, y_train, shuffle=True, epochs = 100, callbacks=[es, rlr,mcp, tb],batch_size = 32)"
   ]
  },
  {
   "cell_type": "code",
   "execution_count": 9,
   "metadata": {},
   "outputs": [],
   "source": [
    "# Part 3 - Making the predictions and visualising the results\n",
    "\n",
    "# Getting the real recent stock price until May 2019\n",
    "real_stock_price = Tesla_test.iloc[:, 2:3].values"
   ]
  },
  {
   "cell_type": "code",
   "execution_count": 10,
   "metadata": {},
   "outputs": [],
   "source": [
    "# Getting the predicted stock price until May 2019\n",
    "Tesla_total = pd.concat((Tesla_train['Close'], Tesla_test['Close']), axis = 0)\n",
    "inputs = Tesla_total[len(Tesla_total) - len(Tesla_test) - 60:].values\n",
    "inputs = inputs.reshape(-1,1)\n",
    "inputs = sc.transform(inputs)\n",
    "X_test = []\n",
    "for i in range(60, 202):\n",
    "    X_test.append(inputs[i-60:i, 0])\n",
    "X_test = np.array(X_test)\n",
    "X_test = np.reshape(X_test, (X_test.shape[0], X_test.shape[1], 1))\n",
    "predicted_stock_price = regressor.predict(X_test)\n",
    "predicted_stock_price = sc.inverse_transform(predicted_stock_price)"
   ]
  },
  {
   "cell_type": "code",
   "execution_count": 11,
   "metadata": {},
   "outputs": [
    {
     "data": {
      "image/png": "[encoded data removed]",
      "text/plain": [
       "<Figure size 432x288 with 1 Axes>"
      ]
     },
     "metadata": {
      "needs_background": "light"
     },
     "output_type": "display_data"
    }
   ],
   "source": [
    "# Visualising the results\n",
    "plt.plot(real_stock_price, color = 'red', label = 'Real Tesla Stock Price')\n",
    "plt.plot(predicted_stock_price, color = 'blue', label = 'Predicted Tesla Stock Price')\n",
    "plt.title('Tesla Stock Price prediction')\n",
    "plt.xlabel('Days')\n",
    "plt.ylabel('Tesla Stock Price')\n",
    "plt.legend()\n",
    "plt.show()"
   ]
  },
  {
   "cell_type": "code",
   "execution_count": 12,
   "metadata": {},
   "outputs": [
    {
     "data": {
      "text/plain": [
       "12.343664092368371"
      ]
     },
     "execution_count": 12,
     "metadata": {},
     "output_type": "execute_result"
    }
   ],
   "source": [
    "#Evaluating the RNN\n",
    "import math\n",
    "from sklearn.metrics import mean_squared_error\n",
    "rmse = math.sqrt(mean_squared_error(real_stock_price, predicted_stock_price))\n",
    "rmse"
   ]
  },
  {
   "cell_type": "code",
   "execution_count": 13,
   "metadata": {},
   "outputs": [
    {
     "name": "stdout",
     "output_type": "stream",
     "text": [
      "relative error:  [0.06832538]\n"
     ]
    }
   ],
   "source": [
    "min_val=min(real_stock_price)\n",
    "max_val=max(real_stock_price)\n",
    "print (\"relative error: \", rmse/(max_val-min_val))"
   ]
  },
  {
   "cell_type": "code",
   "execution_count": 14,
   "metadata": {},
   "outputs": [
    {
     "data": {
      "image/png": "[encoded data removed]",
      "text/plain": [
       "<Figure size 432x288 with 1 Axes>"
      ]
     },
     "metadata": {
      "needs_background": "light"
     },
     "output_type": "display_data"
    }
   ],
   "source": [
    "# Visualising the results\n",
    " \n",
    "shift_pred= predicted_stock_price[:-1]\n",
    "shift_pred = np.append(0, np.reshape(shift_pred, len(shift_pred)))\n",
    "shift_real = real_stock_price[:-1]\n",
    "shift_real = np.append(0, np.reshape(shift_real, len(shift_real)))\n",
    " \n",
    "dif_pred = np.add(np.reshape(predicted_stock_price, len(predicted_stock_price)), - shift_pred)[1:]\n",
    "dif_real = np.add(np.reshape(real_stock_price, len(real_stock_price)), - shift_real)[1:]\n",
    " \n",
    "fig, ax = plt.subplots()\n",
    "ind = np.arange(dif_real.size)\n",
    "real_bar = ax.bar(ind-0.15, dif_real, width=0.3, color = 'red', label = 'Real Difference')\n",
    "pred_bar = ax.bar(ind+0.15, dif_pred, width=0.3, color = 'blue', label = 'Predicted Difference')\n",
    "ax.set_title('Tesla Stock Price Prediction')\n",
    "ax.set_xlabel('Days')\n",
    "ax.set_ylabel('Tesla Stock Price')\n",
    "ax.legend()\n",
    "plt.show()"
   ]
  }
 ],
 "metadata": {
  "kernelspec": {
   "display_name": "Python 3",
   "language": "python",
   "name": "python3"
  },
  "language_info": {
   "codemirror_mode": {
    "name": "ipython",
    "version": 3
   },
   "file_extension": ".py",
   "mimetype": "text/x-python",
   "name": "python",
   "nbconvert_exporter": "python",
   "pygments_lexer": "ipython3",
   "version": "3.7.3"
  }
 },
 "nbformat": 4,
 "nbformat_minor": 2
}
