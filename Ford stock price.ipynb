{
 "cells": [
  {
   "cell_type": "code",
   "execution_count": 1,
   "metadata": {},
   "outputs": [],
   "source": [
    "from pandas_datareader import data, wb\n",
    "import pandas as pd\n",
    "import numpy as np\n",
    "import datetime\n",
    "import matplotlib.pyplot as plt\n",
    "%matplotlib inline\n",
    "import seaborn as sns"
   ]
  },
  {
   "cell_type": "code",
   "execution_count": 2,
   "metadata": {},
   "outputs": [
    {
     "data": {
      "text/html": [
       "<div>\n",
       "<style scoped>\n",
       "    .dataframe tbody tr th:only-of-type {\n",
       "        vertical-align: middle;\n",
       "    }\n",
       "\n",
       "    .dataframe tbody tr th {\n",
       "        vertical-align: top;\n",
       "    }\n",
       "\n",
       "    .dataframe thead th {\n",
       "        text-align: right;\n",
       "    }\n",
       "</style>\n",
       "<table border=\"1\" class=\"dataframe\">\n",
       "  <thead>\n",
       "    <tr style=\"text-align: right;\">\n",
       "      <th></th>\n",
       "      <th>High</th>\n",
       "      <th>Low</th>\n",
       "      <th>Open</th>\n",
       "      <th>Close</th>\n",
       "      <th>Volume</th>\n",
       "      <th>Adj Close</th>\n",
       "    </tr>\n",
       "    <tr>\n",
       "      <th>Date</th>\n",
       "      <th></th>\n",
       "      <th></th>\n",
       "      <th></th>\n",
       "      <th></th>\n",
       "      <th></th>\n",
       "      <th></th>\n",
       "    </tr>\n",
       "  </thead>\n",
       "  <tbody>\n",
       "    <tr>\n",
       "      <th>1972-06-01</th>\n",
       "      <td>2.173495</td>\n",
       "      <td>2.149165</td>\n",
       "      <td>2.149165</td>\n",
       "      <td>2.153220</td>\n",
       "      <td>1089200.0</td>\n",
       "      <td>0.002942</td>\n",
       "    </tr>\n",
       "    <tr>\n",
       "      <th>1972-06-02</th>\n",
       "      <td>2.173495</td>\n",
       "      <td>2.141055</td>\n",
       "      <td>2.153220</td>\n",
       "      <td>2.149165</td>\n",
       "      <td>1173500.0</td>\n",
       "      <td>0.002936</td>\n",
       "    </tr>\n",
       "    <tr>\n",
       "      <th>1972-06-05</th>\n",
       "      <td>2.169440</td>\n",
       "      <td>2.141055</td>\n",
       "      <td>2.149165</td>\n",
       "      <td>2.149165</td>\n",
       "      <td>5208100.0</td>\n",
       "      <td>0.002936</td>\n",
       "    </tr>\n",
       "    <tr>\n",
       "      <th>1972-06-06</th>\n",
       "      <td>2.157275</td>\n",
       "      <td>2.116725</td>\n",
       "      <td>2.149165</td>\n",
       "      <td>2.124835</td>\n",
       "      <td>1421400.0</td>\n",
       "      <td>0.002903</td>\n",
       "    </tr>\n",
       "    <tr>\n",
       "      <th>1972-06-07</th>\n",
       "      <td>2.137000</td>\n",
       "      <td>2.112669</td>\n",
       "      <td>2.124835</td>\n",
       "      <td>2.112669</td>\n",
       "      <td>671800.0</td>\n",
       "      <td>0.002886</td>\n",
       "    </tr>\n",
       "  </tbody>\n",
       "</table>\n",
       "</div>"
      ],
      "text/plain": [
       "                High       Low      Open     Close     Volume  Adj Close\n",
       "Date                                                                    \n",
       "1972-06-01  2.173495  2.149165  2.149165  2.153220  1089200.0   0.002942\n",
       "1972-06-02  2.173495  2.141055  2.153220  2.149165  1173500.0   0.002936\n",
       "1972-06-05  2.169440  2.141055  2.149165  2.149165  5208100.0   0.002936\n",
       "1972-06-06  2.157275  2.116725  2.149165  2.124835  1421400.0   0.002903\n",
       "1972-06-07  2.137000  2.112669  2.124835  2.112669   671800.0   0.002886"
      ]
     },
     "execution_count": 2,
     "metadata": {},
     "output_type": "execute_result"
    }
   ],
   "source": [
    "Ford = data.DataReader(\"F\", data_source=\"yahoo\", start = \"1972-06-01\", end = \"2019-06-01\")\n",
    "Ford.head()"
   ]
  },
  {
   "cell_type": "code",
   "execution_count": 3,
   "metadata": {},
   "outputs": [
    {
     "data": {
      "text/html": [
       "<div>\n",
       "<style scoped>\n",
       "    .dataframe tbody tr th:only-of-type {\n",
       "        vertical-align: middle;\n",
       "    }\n",
       "\n",
       "    .dataframe tbody tr th {\n",
       "        vertical-align: top;\n",
       "    }\n",
       "\n",
       "    .dataframe thead th {\n",
       "        text-align: right;\n",
       "    }\n",
       "</style>\n",
       "<table border=\"1\" class=\"dataframe\">\n",
       "  <thead>\n",
       "    <tr style=\"text-align: right;\">\n",
       "      <th></th>\n",
       "      <th>High</th>\n",
       "      <th>Low</th>\n",
       "      <th>Open</th>\n",
       "      <th>Close</th>\n",
       "      <th>Volume</th>\n",
       "      <th>Adj Close</th>\n",
       "    </tr>\n",
       "    <tr>\n",
       "      <th>Date</th>\n",
       "      <th></th>\n",
       "      <th></th>\n",
       "      <th></th>\n",
       "      <th></th>\n",
       "      <th></th>\n",
       "      <th></th>\n",
       "    </tr>\n",
       "  </thead>\n",
       "  <tbody>\n",
       "    <tr>\n",
       "      <th>2019-05-20</th>\n",
       "      <td>10.30</td>\n",
       "      <td>10.20</td>\n",
       "      <td>10.30</td>\n",
       "      <td>10.28</td>\n",
       "      <td>29535900.0</td>\n",
       "      <td>10.28</td>\n",
       "    </tr>\n",
       "    <tr>\n",
       "      <th>2019-05-21</th>\n",
       "      <td>10.31</td>\n",
       "      <td>10.15</td>\n",
       "      <td>10.31</td>\n",
       "      <td>10.24</td>\n",
       "      <td>30099300.0</td>\n",
       "      <td>10.24</td>\n",
       "    </tr>\n",
       "    <tr>\n",
       "      <th>2019-05-22</th>\n",
       "      <td>10.21</td>\n",
       "      <td>9.93</td>\n",
       "      <td>10.17</td>\n",
       "      <td>9.97</td>\n",
       "      <td>51407200.0</td>\n",
       "      <td>9.97</td>\n",
       "    </tr>\n",
       "    <tr>\n",
       "      <th>2019-05-23</th>\n",
       "      <td>9.85</td>\n",
       "      <td>9.67</td>\n",
       "      <td>9.85</td>\n",
       "      <td>9.85</td>\n",
       "      <td>43153800.0</td>\n",
       "      <td>9.85</td>\n",
       "    </tr>\n",
       "    <tr>\n",
       "      <th>2019-05-24</th>\n",
       "      <td>9.95</td>\n",
       "      <td>9.80</td>\n",
       "      <td>9.92</td>\n",
       "      <td>9.83</td>\n",
       "      <td>22122600.0</td>\n",
       "      <td>9.83</td>\n",
       "    </tr>\n",
       "  </tbody>\n",
       "</table>\n",
       "</div>"
      ],
      "text/plain": [
       "             High    Low   Open  Close      Volume  Adj Close\n",
       "Date                                                         \n",
       "2019-05-20  10.30  10.20  10.30  10.28  29535900.0      10.28\n",
       "2019-05-21  10.31  10.15  10.31  10.24  30099300.0      10.24\n",
       "2019-05-22  10.21   9.93  10.17   9.97  51407200.0       9.97\n",
       "2019-05-23   9.85   9.67   9.85   9.85  43153800.0       9.85\n",
       "2019-05-24   9.95   9.80   9.92   9.83  22122600.0       9.83"
      ]
     },
     "execution_count": 3,
     "metadata": {},
     "output_type": "execute_result"
    }
   ],
   "source": [
    "Ford.tail()"
   ]
  },
  {
   "cell_type": "code",
   "execution_count": 4,
   "metadata": {},
   "outputs": [
    {
     "data": {
      "text/plain": [
       "(11849, 6)"
      ]
     },
     "execution_count": 4,
     "metadata": {},
     "output_type": "execute_result"
    }
   ],
   "source": [
    "Ford.shape"
   ]
  },
  {
   "cell_type": "code",
   "execution_count": 5,
   "metadata": {},
   "outputs": [
    {
     "data": {
      "text/plain": [
       "(11700, 6)"
      ]
     },
     "execution_count": 5,
     "metadata": {},
     "output_type": "execute_result"
    }
   ],
   "source": [
    "Ford_train = Ford.iloc[:11700, :]\n",
    "Ford_train.shape"
   ]
  },
  {
   "cell_type": "code",
   "execution_count": 6,
   "metadata": {},
   "outputs": [
    {
     "data": {
      "text/plain": [
       "(149, 6)"
      ]
     },
     "execution_count": 6,
     "metadata": {},
     "output_type": "execute_result"
    }
   ],
   "source": [
    "Ford_test = Ford.iloc[11700:, :]\n",
    "Ford_test.shape"
   ]
  },
  {
   "cell_type": "code",
   "execution_count": 7,
   "metadata": {},
   "outputs": [
    {
     "data": {
      "text/plain": [
       "array([[2.14916492],\n",
       "       [2.15321994],\n",
       "       [2.14916492],\n",
       "       ...,\n",
       "       [8.86999989],\n",
       "       [8.80000019],\n",
       "       [8.73999977]])"
      ]
     },
     "execution_count": 7,
     "metadata": {},
     "output_type": "execute_result"
    }
   ],
   "source": [
    "training_set = Ford.iloc[:11700, 2:3].values\n",
    "training_set"
   ]
  },
  {
   "cell_type": "code",
   "execution_count": 8,
   "metadata": {},
   "outputs": [],
   "source": [
    "# Feature Scaling\n",
    "from sklearn.preprocessing import MinMaxScaler\n",
    "sc = MinMaxScaler(feature_range = (0, 1))\n",
    "training_set_scaled = sc.fit_transform(training_set)\n",
    "\n",
    "# Creating a data structure with 60 timesteps and 1 output\n",
    "X_train = []\n",
    "y_train = []\n",
    "for i in range(60, 11699):\n",
    "    X_train.append(training_set_scaled[i-60:i, 0])\n",
    "    y_train.append(training_set_scaled[i, 0])\n",
    "X_train, y_train = np.array(X_train), np.array(y_train)\n",
    "\n",
    "# Reshaping\n",
    "X_train = np.reshape(X_train, (X_train.shape[0], X_train.shape[1], 1))"
   ]
  },
  {
   "cell_type": "code",
   "execution_count": 9,
   "metadata": {},
   "outputs": [
    {
     "name": "stderr",
     "output_type": "stream",
     "text": [
      "Using TensorFlow backend.\n"
     ]
    },
    {
     "name": "stdout",
     "output_type": "stream",
     "text": [
      "WARNING:tensorflow:From C:\\Users\\Christy\\Anaconda3\\lib\\site-packages\\tensorflow\\python\\framework\\op_def_library.py:263: colocate_with (from tensorflow.python.framework.ops) is deprecated and will be removed in a future version.\n",
      "Instructions for updating:\n",
      "Colocations handled automatically by placer.\n",
      "WARNING:tensorflow:From C:\\Users\\Christy\\Anaconda3\\lib\\site-packages\\keras\\backend\\tensorflow_backend.py:3445: calling dropout (from tensorflow.python.ops.nn_ops) with keep_prob is deprecated and will be removed in a future version.\n",
      "Instructions for updating:\n",
      "Please use `rate` instead of `keep_prob`. Rate should be set to `rate = 1 - keep_prob`.\n"
     ]
    },
    {
     "name": "stderr",
     "output_type": "stream",
     "text": [
      "C:\\Users\\Christy\\Anaconda3\\lib\\site-packages\\dask\\config.py:168: YAMLLoadWarning: calling yaml.load() without Loader=... is deprecated, as the default Loader is unsafe. Please read https://msg.pyyaml.org/load for full details.\n",
      "  data = yaml.load(f.read()) or {}\n"
     ]
    },
    {
     "name": "stdout",
     "output_type": "stream",
     "text": [
      "WARNING:tensorflow:From C:\\Users\\Christy\\Anaconda3\\lib\\site-packages\\tensorflow\\python\\ops\\math_ops.py:3066: to_int32 (from tensorflow.python.ops.math_ops) is deprecated and will be removed in a future version.\n",
      "Instructions for updating:\n",
      "Use tf.cast instead.\n",
      "Epoch 1/50\n",
      "11639/11639 [==============================] - 183s 16ms/step - loss: 0.0026\n",
      "\n",
      "Epoch 00001: loss improved from inf to 0.00265, saving model to weights.h5\n",
      "Epoch 2/50\n",
      "11639/11639 [==============================] - 171s 15ms/step - loss: 0.0011\n",
      "\n",
      "Epoch 00002: loss improved from 0.00265 to 0.00106, saving model to weights.h5\n",
      "Epoch 3/50\n",
      "11639/11639 [==============================] - 170s 15ms/step - loss: 8.8626e-04\n",
      "\n",
      "Epoch 00003: loss improved from 0.00106 to 0.00089, saving model to weights.h5\n",
      "Epoch 4/50\n",
      "11639/11639 [==============================] - 170s 15ms/step - loss: 8.4683e-04\n",
      "\n",
      "Epoch 00004: loss improved from 0.00089 to 0.00085, saving model to weights.h5\n",
      "Epoch 5/50\n",
      "11639/11639 [==============================] - 169s 14ms/step - loss: 7.2423e-04\n",
      "\n",
      "Epoch 00005: loss improved from 0.00085 to 0.00072, saving model to weights.h5\n",
      "Epoch 6/50\n",
      "11639/11639 [==============================] - 170s 15ms/step - loss: 6.6508e-04\n",
      "\n",
      "Epoch 00006: loss improved from 0.00072 to 0.00067, saving model to weights.h5\n",
      "Epoch 7/50\n",
      "11639/11639 [==============================] - 169s 15ms/step - loss: 6.5765e-04\n",
      "\n",
      "Epoch 00007: loss improved from 0.00067 to 0.00066, saving model to weights.h5\n",
      "Epoch 8/50\n",
      "11639/11639 [==============================] - 169s 14ms/step - loss: 6.1418e-04\n",
      "\n",
      "Epoch 00008: loss improved from 0.00066 to 0.00061, saving model to weights.h5\n",
      "Epoch 9/50\n",
      "11639/11639 [==============================] - 170s 15ms/step - loss: 6.2839e-04\n",
      "\n",
      "Epoch 00009: loss did not improve from 0.00061\n",
      "Epoch 10/50\n",
      "11639/11639 [==============================] - 172s 15ms/step - loss: 5.5509e-04\n",
      "\n",
      "Epoch 00010: loss improved from 0.00061 to 0.00056, saving model to weights.h5\n",
      "Epoch 11/50\n",
      "11639/11639 [==============================] - 189s 16ms/step - loss: 6.1434e-04\n",
      "\n",
      "Epoch 00011: loss did not improve from 0.00056\n",
      "Epoch 12/50\n",
      "11639/11639 [==============================] - 197s 17ms/step - loss: 5.5115e-04\n",
      "\n",
      "Epoch 00012: loss improved from 0.00056 to 0.00055, saving model to weights.h5\n",
      "Epoch 13/50\n",
      "11639/11639 [==============================] - 198s 17ms/step - loss: 5.5616e-04\n",
      "\n",
      "Epoch 00013: ReduceLROnPlateau reducing learning rate to 0.0005000000237487257.\n",
      "\n",
      "Epoch 00013: loss did not improve from 0.00055\n",
      "Epoch 14/50\n",
      "11639/11639 [==============================] - 255s 22ms/step - loss: 4.6938e-04\n",
      "\n",
      "Epoch 00014: loss improved from 0.00055 to 0.00047, saving model to weights.h5\n",
      "Epoch 15/50\n",
      "11639/11639 [==============================] - 264s 23ms/step - loss: 4.6173e-04\n",
      "\n",
      "Epoch 00015: loss improved from 0.00047 to 0.00046, saving model to weights.h5\n",
      "Epoch 16/50\n",
      "11639/11639 [==============================] - 242s 21ms/step - loss: 4.1989e-04\n",
      "\n",
      "Epoch 00016: loss improved from 0.00046 to 0.00042, saving model to weights.h5\n",
      "Epoch 17/50\n",
      "11639/11639 [==============================] - 103s 9ms/step - loss: 4.8115e-04\n",
      "\n",
      "Epoch 00017: loss did not improve from 0.00042\n",
      "Epoch 18/50\n",
      "11639/11639 [==============================] - 107s 9ms/step - loss: 4.8690e-04\n",
      "\n",
      "Epoch 00018: loss did not improve from 0.00042\n",
      "Epoch 19/50\n",
      "11639/11639 [==============================] - 172s 15ms/step - loss: 4.5317e-04\n",
      "\n",
      "Epoch 00019: ReduceLROnPlateau reducing learning rate to 0.0002500000118743628.\n",
      "\n",
      "Epoch 00019: loss did not improve from 0.00042\n",
      "Epoch 20/50\n",
      "11639/11639 [==============================] - 179s 15ms/step - loss: 3.9567e-04\n",
      "\n",
      "Epoch 00020: loss improved from 0.00042 to 0.00040, saving model to weights.h5\n",
      "Epoch 21/50\n",
      "11639/11639 [==============================] - 175s 15ms/step - loss: 3.9377e-04\n",
      "\n",
      "Epoch 00021: loss improved from 0.00040 to 0.00039, saving model to weights.h5\n",
      "Epoch 22/50\n",
      "11639/11639 [==============================] - 175s 15ms/step - loss: 4.2169e-04\n",
      "\n",
      "Epoch 00022: loss did not improve from 0.00039\n",
      "Epoch 23/50\n",
      "11639/11639 [==============================] - 174s 15ms/step - loss: 3.9448e-04\n",
      "\n",
      "Epoch 00023: loss did not improve from 0.00039\n",
      "Epoch 24/50\n",
      "11639/11639 [==============================] - 174s 15ms/step - loss: 4.1339e-04\n",
      "\n",
      "Epoch 00024: ReduceLROnPlateau reducing learning rate to 0.0001250000059371814.\n",
      "\n",
      "Epoch 00024: loss did not improve from 0.00039\n",
      "Epoch 25/50\n",
      "11639/11639 [==============================] - 173s 15ms/step - loss: 3.9162e-04\n",
      "\n",
      "Epoch 00025: loss improved from 0.00039 to 0.00039, saving model to weights.h5\n",
      "Epoch 26/50\n",
      "11639/11639 [==============================] - 173s 15ms/step - loss: 3.8539e-04\n",
      "\n",
      "Epoch 00026: loss improved from 0.00039 to 0.00039, saving model to weights.h5\n",
      "Epoch 27/50\n",
      "11639/11639 [==============================] - 174s 15ms/step - loss: 3.9146e-04\n",
      "\n",
      "Epoch 00027: loss did not improve from 0.00039\n",
      "Epoch 28/50\n",
      "11639/11639 [==============================] - 174s 15ms/step - loss: 3.8562e-04\n",
      "\n",
      "Epoch 00028: loss did not improve from 0.00039\n",
      "Epoch 29/50\n",
      "11639/11639 [==============================] - 174s 15ms/step - loss: 3.8505e-04\n",
      "\n",
      "Epoch 00029: ReduceLROnPlateau reducing learning rate to 6.25000029685907e-05.\n",
      "\n",
      "Epoch 00029: loss improved from 0.00039 to 0.00039, saving model to weights.h5\n",
      "Epoch 30/50\n",
      "11639/11639 [==============================] - 174s 15ms/step - loss: 3.7426e-04\n",
      "\n",
      "Epoch 00030: loss improved from 0.00039 to 0.00037, saving model to weights.h5\n",
      "Epoch 31/50\n",
      "11639/11639 [==============================] - 174s 15ms/step - loss: 3.7240e-04\n",
      "\n",
      "Epoch 00031: loss improved from 0.00037 to 0.00037, saving model to weights.h5\n",
      "Epoch 32/50\n",
      "11639/11639 [==============================] - 174s 15ms/step - loss: 3.7583e-04\n",
      "\n",
      "Epoch 00032: loss did not improve from 0.00037\n",
      "Epoch 33/50\n",
      "11639/11639 [==============================] - 174s 15ms/step - loss: 3.7582e-04\n",
      "\n",
      "Epoch 00033: loss did not improve from 0.00037\n",
      "Epoch 34/50\n",
      "11639/11639 [==============================] - 174s 15ms/step - loss: 3.5963e-04\n",
      "\n",
      "Epoch 00034: loss improved from 0.00037 to 0.00036, saving model to weights.h5\n",
      "Epoch 35/50\n",
      "11639/11639 [==============================] - 176s 15ms/step - loss: 3.7735e-04\n",
      "\n",
      "Epoch 00035: loss did not improve from 0.00036\n",
      "Epoch 36/50\n",
      "11639/11639 [==============================] - 174s 15ms/step - loss: 3.5490e-04\n",
      "\n",
      "Epoch 00036: loss improved from 0.00036 to 0.00035, saving model to weights.h5\n",
      "Epoch 37/50\n",
      "11639/11639 [==============================] - 174s 15ms/step - loss: 3.5482e-04\n",
      "\n",
      "Epoch 00037: loss improved from 0.00035 to 0.00035, saving model to weights.h5\n",
      "Epoch 38/50\n",
      "11639/11639 [==============================] - 174s 15ms/step - loss: 3.7541e-04\n",
      "\n",
      "Epoch 00038: loss did not improve from 0.00035\n",
      "Epoch 39/50\n",
      "11639/11639 [==============================] - 174s 15ms/step - loss: 3.7451e-04\n",
      "\n",
      "Epoch 00039: ReduceLROnPlateau reducing learning rate to 3.125000148429535e-05.\n",
      "\n",
      "Epoch 00039: loss did not improve from 0.00035\n",
      "Epoch 40/50\n",
      "11639/11639 [==============================] - 174s 15ms/step - loss: 3.6817e-04\n",
      "\n",
      "Epoch 00040: loss did not improve from 0.00035\n",
      "Epoch 41/50\n",
      "11639/11639 [==============================] - 173s 15ms/step - loss: 3.5233e-04\n",
      "\n",
      "Epoch 00041: loss improved from 0.00035 to 0.00035, saving model to weights.h5\n",
      "Epoch 42/50\n",
      "11639/11639 [==============================] - 108s 9ms/step - loss: 3.4547e-04\n",
      "\n",
      "Epoch 00042: loss improved from 0.00035 to 0.00035, saving model to weights.h5\n",
      "Epoch 43/50\n",
      "11639/11639 [==============================] - 105s 9ms/step - loss: 3.6458e-04\n",
      "\n",
      "Epoch 00043: loss did not improve from 0.00035\n",
      "Epoch 44/50\n",
      "11639/11639 [==============================] - 104s 9ms/step - loss: 3.3663e-04\n",
      "\n",
      "Epoch 00044: ReduceLROnPlateau reducing learning rate to 1.5625000742147677e-05.\n",
      "\n",
      "Epoch 00044: loss improved from 0.00035 to 0.00034, saving model to weights.h5\n",
      "Epoch 45/50\n",
      "11639/11639 [==============================] - 103s 9ms/step - loss: 3.6928e-04\n",
      "\n",
      "Epoch 00045: loss did not improve from 0.00034\n",
      "Epoch 46/50\n",
      "11639/11639 [==============================] - 103s 9ms/step - loss: 3.5437e-04\n",
      "\n",
      "Epoch 00046: loss did not improve from 0.00034\n",
      "Epoch 47/50\n",
      "11639/11639 [==============================] - 103s 9ms/step - loss: 3.5203e-04\n",
      "\n",
      "Epoch 00047: loss did not improve from 0.00034\n",
      "Epoch 48/50\n"
     ]
    },
    {
     "name": "stdout",
     "output_type": "stream",
     "text": [
      "11639/11639 [==============================] - 103s 9ms/step - loss: 3.5558e-04\n",
      "\n",
      "Epoch 00048: loss did not improve from 0.00034\n",
      "Epoch 49/50\n",
      "11639/11639 [==============================] - 103s 9ms/step - loss: 3.7035e-04\n",
      "\n",
      "Epoch 00049: ReduceLROnPlateau reducing learning rate to 7.812500371073838e-06.\n",
      "\n",
      "Epoch 00049: loss did not improve from 0.00034\n",
      "Epoch 00049: early stopping\n"
     ]
    }
   ],
   "source": [
    "# Part 2 - Building the RNN\n",
    "\n",
    "# Importing the Keras libraries and packages\n",
    "from keras.models import Sequential\n",
    "from keras.layers import Dense\n",
    "from keras.layers import LSTM\n",
    "from keras.layers import Dropout\n",
    "from keras.callbacks import EarlyStopping, ReduceLROnPlateau, ModelCheckpoint, TensorBoard\n",
    "\n",
    "# Initialising the RNN\n",
    "regressor = Sequential()\n",
    "\n",
    "# Adding the first LSTM layer and some Dropout regularisation\n",
    "regressor.add(LSTM(units = 50, return_sequences = True, input_shape = (X_train.shape[1], 1)))\n",
    "regressor.add(Dropout(0.2))\n",
    "\n",
    "# Adding a second LSTM layer and some Dropout regularisation\n",
    "regressor.add(LSTM(units = 50, return_sequences = True))\n",
    "regressor.add(Dropout(0.2))\n",
    "\n",
    "# Adding a third LSTM layer and some Dropout regularisation\n",
    "regressor.add(LSTM(units = 50, return_sequences = True))\n",
    "regressor.add(Dropout(0.2))\n",
    "\n",
    "# Adding a fourth LSTM layer and some Dropout regularisation\n",
    "regressor.add(LSTM(units = 50))\n",
    "regressor.add(Dropout(0.2))\n",
    "\n",
    "# Adding the output layer\n",
    "regressor.add(Dense(units = 1))\n",
    "\n",
    "# Compiling the RNN\n",
    "regressor.compile(optimizer = 'adam', loss = 'mean_squared_error')\n",
    "\n",
    "\n",
    "# Fitting the RNN to the Training set using Keras Callbacks\n",
    "es = EarlyStopping(monitor='loss', mode='min', min_delta=1e-10, patience=5, verbose=1)\n",
    "rlr = ReduceLROnPlateau(monitor='loss', factor=0.5, patience=5, verbose=1)\n",
    "mcp = ModelCheckpoint(filepath='weights.h5', monitor='loss', verbose=1, save_best_only=True, save_weights_only=True)\n",
    "tb = TensorBoard('logs')\n",
    "history = regressor.fit(X_train, y_train, shuffle=True, epochs = 50, callbacks=[es, rlr,mcp, tb],batch_size = 32)"
   ]
  },
  {
   "cell_type": "code",
   "execution_count": 10,
   "metadata": {},
   "outputs": [],
   "source": [
    "# Part 3 - Making the predictions and visualising the results\n",
    "\n",
    "# Getting the real stock price of 2019\n",
    "real_stock_price = Ford_test.iloc[:, 2:3].values"
   ]
  },
  {
   "cell_type": "code",
   "execution_count": 11,
   "metadata": {},
   "outputs": [],
   "source": [
    "# Getting the predicted stock price of 2019\n",
    "Ford_total = pd.concat((Ford_train['Close'], Ford_test['Close']), axis = 0)\n",
    "inputs = Ford_total[len(Ford_total) - len(Ford_test) - 60:].values\n",
    "inputs = inputs.reshape(-1,1)\n",
    "inputs = sc.transform(inputs)\n",
    "X_test = []\n",
    "for i in range(60, 209):\n",
    "    X_test.append(inputs[i-60:i, 0])\n",
    "X_test = np.array(X_test)\n",
    "X_test = np.reshape(X_test, (X_test.shape[0], X_test.shape[1], 1))\n",
    "predicted_stock_price = regressor.predict(X_test)\n",
    "predicted_stock_price = sc.inverse_transform(predicted_stock_price)"
   ]
  },
  {
   "cell_type": "code",
   "execution_count": 12,
   "metadata": {},
   "outputs": [
    {
     "data": {
      "image/png": "[encoded data removed]",
      "text/plain": [
       "<Figure size 432x288 with 1 Axes>"
      ]
     },
     "metadata": {
      "needs_background": "light"
     },
     "output_type": "display_data"
    }
   ],
   "source": [
    "# Visualising the results\n",
    "plt.plot(real_stock_price, color = 'red', label = 'Real Ford Stock Price')\n",
    "plt.plot(predicted_stock_price, color = 'blue', label = 'Predicted Ford Stock Price')\n",
    "plt.title('Ford Stock Price prediction')\n",
    "plt.xlabel('Date')\n",
    "plt.ylabel('Ford Stock Price')\n",
    "plt.legend()\n",
    "plt.show()"
   ]
  },
  {
   "cell_type": "code",
   "execution_count": 13,
   "metadata": {},
   "outputs": [
    {
     "data": {
      "text/plain": [
       "0.2289859325589702"
      ]
     },
     "execution_count": 13,
     "metadata": {},
     "output_type": "execute_result"
    }
   ],
   "source": [
    "#Evaluating the RNN\n",
    "import math\n",
    "from sklearn.metrics import mean_squared_error\n",
    "rmse = math.sqrt(mean_squared_error(real_stock_price, predicted_stock_price))\n",
    "rmse"
   ]
  },
  {
   "cell_type": "code",
   "execution_count": 14,
   "metadata": {},
   "outputs": [
    {
     "name": "stdout",
     "output_type": "stream",
     "text": [
      "relative error:  [0.07762237]\n"
     ]
    }
   ],
   "source": [
    "min_val=min(real_stock_price)\n",
    "max_val=max(real_stock_price)\n",
    "print (\"relative error: \", rmse/(max_val-min_val))"
   ]
  },
  {
   "cell_type": "code",
   "execution_count": 15,
   "metadata": {},
   "outputs": [
    {
     "data": {
      "image/png": "[encoded data removed]",
      "text/plain": [
       "<Figure size 432x288 with 1 Axes>"
      ]
     },
     "metadata": {
      "needs_background": "light"
     },
     "output_type": "display_data"
    }
   ],
   "source": [
    "# Visualising the results\n",
    " \n",
    "shift_pred= predicted_stock_price[:-1]\n",
    "shift_pred = np.append(0, np.reshape(shift_pred, len(shift_pred)))\n",
    "shift_real = real_stock_price[:-1]\n",
    "shift_real = np.append(0, np.reshape(shift_real, len(shift_real)))\n",
    " \n",
    "dif_pred = np.add(np.reshape(predicted_stock_price, len(predicted_stock_price)), - shift_pred)[1:]\n",
    "dif_real = np.add(np.reshape(real_stock_price, len(real_stock_price)), - shift_real)[1:]\n",
    " \n",
    "fig, ax = plt.subplots()\n",
    "ind = np.arange(dif_real.size)\n",
    "real_bar = ax.bar(ind-0.15, dif_real, width=0.3, color = 'red', label = 'Real Difference')\n",
    "pred_bar = ax.bar(ind+0.15, dif_pred, width=0.3, color = 'blue', label = 'Predicted Difference')\n",
    "ax.set_title('Ford Stock Price Prediction')\n",
    "ax.set_xlabel('Date')\n",
    "ax.set_ylabel('Ford Stock Price')\n",
    "ax.legend()\n",
    "plt.show()"
   ]
  }
 ],
 "metadata": {
  "kernelspec": {
   "display_name": "Python 3",
   "language": "python",
   "name": "python3"
  },
  "language_info": {
   "codemirror_mode": {
    "name": "ipython",
    "version": 3
   },
   "file_extension": ".py",
   "mimetype": "text/x-python",
   "name": "python",
   "nbconvert_exporter": "python",
   "pygments_lexer": "ipython3",
   "version": "3.7.3"
  }
 },
 "nbformat": 4,
 "nbformat_minor": 2
}
