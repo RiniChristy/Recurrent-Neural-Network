{
 "cells": [
  {
   "cell_type": "code",
   "execution_count": 1,
   "metadata": {},
   "outputs": [],
   "source": [
    "from pandas_datareader import data, wb\n",
    "import pandas as pd\n",
    "import numpy as np\n",
    "import datetime\n",
    "import matplotlib.pyplot as plt\n",
    "%matplotlib inline\n",
    "import seaborn as sns"
   ]
  },
  {
   "cell_type": "code",
   "execution_count": 2,
   "metadata": {},
   "outputs": [
    {
     "data": {
      "text/html": [
       "<div>\n",
       "<style scoped>\n",
       "    .dataframe tbody tr th:only-of-type {\n",
       "        vertical-align: middle;\n",
       "    }\n",
       "\n",
       "    .dataframe tbody tr th {\n",
       "        vertical-align: top;\n",
       "    }\n",
       "\n",
       "    .dataframe thead th {\n",
       "        text-align: right;\n",
       "    }\n",
       "</style>\n",
       "<table border=\"1\" class=\"dataframe\">\n",
       "  <thead>\n",
       "    <tr style=\"text-align: right;\">\n",
       "      <th></th>\n",
       "      <th>High</th>\n",
       "      <th>Low</th>\n",
       "      <th>Open</th>\n",
       "      <th>Close</th>\n",
       "      <th>Volume</th>\n",
       "      <th>Adj Close</th>\n",
       "    </tr>\n",
       "    <tr>\n",
       "      <th>Date</th>\n",
       "      <th></th>\n",
       "      <th></th>\n",
       "      <th></th>\n",
       "      <th></th>\n",
       "      <th></th>\n",
       "      <th></th>\n",
       "    </tr>\n",
       "  </thead>\n",
       "  <tbody>\n",
       "    <tr>\n",
       "      <th>2004-08-19</th>\n",
       "      <td>51.693783</td>\n",
       "      <td>47.669952</td>\n",
       "      <td>49.676899</td>\n",
       "      <td>49.845802</td>\n",
       "      <td>44994500.0</td>\n",
       "      <td>49.845802</td>\n",
       "    </tr>\n",
       "    <tr>\n",
       "      <th>2004-08-20</th>\n",
       "      <td>54.187561</td>\n",
       "      <td>49.925285</td>\n",
       "      <td>50.178635</td>\n",
       "      <td>53.805050</td>\n",
       "      <td>23005800.0</td>\n",
       "      <td>53.805050</td>\n",
       "    </tr>\n",
       "    <tr>\n",
       "      <th>2004-08-23</th>\n",
       "      <td>56.373344</td>\n",
       "      <td>54.172661</td>\n",
       "      <td>55.017166</td>\n",
       "      <td>54.346527</td>\n",
       "      <td>18393200.0</td>\n",
       "      <td>54.346527</td>\n",
       "    </tr>\n",
       "    <tr>\n",
       "      <th>2004-08-24</th>\n",
       "      <td>55.439419</td>\n",
       "      <td>51.450363</td>\n",
       "      <td>55.260582</td>\n",
       "      <td>52.096165</td>\n",
       "      <td>15361800.0</td>\n",
       "      <td>52.096165</td>\n",
       "    </tr>\n",
       "    <tr>\n",
       "      <th>2004-08-25</th>\n",
       "      <td>53.651051</td>\n",
       "      <td>51.604362</td>\n",
       "      <td>52.140873</td>\n",
       "      <td>52.657513</td>\n",
       "      <td>9257400.0</td>\n",
       "      <td>52.657513</td>\n",
       "    </tr>\n",
       "  </tbody>\n",
       "</table>\n",
       "</div>"
      ],
      "text/plain": [
       "                 High        Low       Open      Close      Volume  Adj Close\n",
       "Date                                                                         \n",
       "2004-08-19  51.693783  47.669952  49.676899  49.845802  44994500.0  49.845802\n",
       "2004-08-20  54.187561  49.925285  50.178635  53.805050  23005800.0  53.805050\n",
       "2004-08-23  56.373344  54.172661  55.017166  54.346527  18393200.0  54.346527\n",
       "2004-08-24  55.439419  51.450363  55.260582  52.096165  15361800.0  52.096165\n",
       "2004-08-25  53.651051  51.604362  52.140873  52.657513   9257400.0  52.657513"
      ]
     },
     "execution_count": 2,
     "metadata": {},
     "output_type": "execute_result"
    }
   ],
   "source": [
    "Google = data.DataReader(\"GOOG\", data_source=\"yahoo\", start = \"2004-08-01\", end = \"2019-06-01\")\n",
    "Google.head()"
   ]
  },
  {
   "cell_type": "code",
   "execution_count": 3,
   "metadata": {},
   "outputs": [
    {
     "data": {
      "text/plain": [
       "(3716, 6)"
      ]
     },
     "execution_count": 3,
     "metadata": {},
     "output_type": "execute_result"
    }
   ],
   "source": [
    "Google.shape"
   ]
  },
  {
   "cell_type": "code",
   "execution_count": 4,
   "metadata": {},
   "outputs": [
    {
     "data": {
      "text/plain": [
       "(3500, 6)"
      ]
     },
     "execution_count": 4,
     "metadata": {},
     "output_type": "execute_result"
    }
   ],
   "source": [
    "Google_train = Google.iloc[:3500, :]\n",
    "Google_train.shape"
   ]
  },
  {
   "cell_type": "code",
   "execution_count": 5,
   "metadata": {},
   "outputs": [
    {
     "data": {
      "text/plain": [
       "(216, 6)"
      ]
     },
     "execution_count": 5,
     "metadata": {},
     "output_type": "execute_result"
    }
   ],
   "source": [
    "Google_test = Google.iloc[3500:, :]\n",
    "Google_test.shape"
   ]
  },
  {
   "cell_type": "code",
   "execution_count": 6,
   "metadata": {},
   "outputs": [
    {
     "data": {
      "text/plain": [
       "array([[  49.67689896],\n",
       "       [  50.17863464],\n",
       "       [  55.01716614],\n",
       "       ...,\n",
       "       [1144.58996582],\n",
       "       [1159.89001465],\n",
       "       [1185.        ]])"
      ]
     },
     "execution_count": 6,
     "metadata": {},
     "output_type": "execute_result"
    }
   ],
   "source": [
    "training_set = Google.iloc[:3500, 2:3].values\n",
    "training_set"
   ]
  },
  {
   "cell_type": "code",
   "execution_count": 7,
   "metadata": {},
   "outputs": [],
   "source": [
    "# Feature Scaling\n",
    "from sklearn.preprocessing import MinMaxScaler\n",
    "sc = MinMaxScaler(feature_range = (0, 1))\n",
    "training_set_scaled = sc.fit_transform(training_set)\n",
    "\n",
    "# Creating a data structure with 60 timesteps and 1 output\n",
    "X_train = []\n",
    "y_train = []\n",
    "for i in range(60, 3499):\n",
    "    X_train.append(training_set_scaled[i-60:i, 0])\n",
    "    y_train.append(training_set_scaled[i, 0])\n",
    "X_train, y_train = np.array(X_train), np.array(y_train)\n",
    "\n",
    "# Reshaping\n",
    "X_train = np.reshape(X_train, (X_train.shape[0], X_train.shape[1], 1))"
   ]
  },
  {
   "cell_type": "code",
   "execution_count": 8,
   "metadata": {},
   "outputs": [
    {
     "name": "stderr",
     "output_type": "stream",
     "text": [
      "Using TensorFlow backend.\n"
     ]
    },
    {
     "name": "stdout",
     "output_type": "stream",
     "text": [
      "WARNING:tensorflow:From C:\\Users\\Christy\\Anaconda3\\lib\\site-packages\\tensorflow\\python\\framework\\op_def_library.py:263: colocate_with (from tensorflow.python.framework.ops) is deprecated and will be removed in a future version.\n",
      "Instructions for updating:\n",
      "Colocations handled automatically by placer.\n",
      "WARNING:tensorflow:From C:\\Users\\Christy\\Anaconda3\\lib\\site-packages\\keras\\backend\\tensorflow_backend.py:3445: calling dropout (from tensorflow.python.ops.nn_ops) with keep_prob is deprecated and will be removed in a future version.\n",
      "Instructions for updating:\n",
      "Please use `rate` instead of `keep_prob`. Rate should be set to `rate = 1 - keep_prob`.\n",
      "WARNING:tensorflow:From C:\\Users\\Christy\\Anaconda3\\lib\\site-packages\\tensorflow\\python\\ops\\math_ops.py:3066: to_int32 (from tensorflow.python.ops.math_ops) is deprecated and will be removed in a future version.\n",
      "Instructions for updating:\n",
      "Use tf.cast instead.\n",
      "Epoch 1/100\n",
      "3439/3439 [==============================] - 129s 38ms/step - loss: 0.0095\n",
      "Epoch 2/100\n",
      "3439/3439 [==============================] - 116s 34ms/step - loss: 0.0024\n",
      "Epoch 3/100\n",
      "3439/3439 [==============================] - 114s 33ms/step - loss: 0.0019\n",
      "Epoch 4/100\n",
      "3439/3439 [==============================] - 115s 33ms/step - loss: 0.0017\n",
      "Epoch 5/100\n",
      "3439/3439 [==============================] - 110s 32ms/step - loss: 0.0016\n",
      "Epoch 6/100\n",
      "3439/3439 [==============================] - 116s 34ms/step - loss: 0.0016\n",
      "Epoch 7/100\n",
      "3439/3439 [==============================] - 111s 32ms/step - loss: 0.0014\n",
      "Epoch 8/100\n",
      "3439/3439 [==============================] - 114s 33ms/step - loss: 0.0014\n",
      "Epoch 9/100\n",
      "3439/3439 [==============================] - 115s 34ms/step - loss: 0.0014\n",
      "Epoch 10/100\n",
      "3439/3439 [==============================] - 112s 33ms/step - loss: 0.0015\n",
      "Epoch 11/100\n",
      "3439/3439 [==============================] - 115s 33ms/step - loss: 0.0012\n",
      "Epoch 12/100\n",
      "3439/3439 [==============================] - 118s 34ms/step - loss: 0.0011\n",
      "Epoch 13/100\n",
      "3439/3439 [==============================] - 115s 34ms/step - loss: 0.0012\n",
      "Epoch 14/100\n",
      "3439/3439 [==============================] - 116s 34ms/step - loss: 0.0010\n",
      "Epoch 15/100\n",
      "3439/3439 [==============================] - 110s 32ms/step - loss: 0.0011\n",
      "Epoch 16/100\n",
      "3439/3439 [==============================] - 110s 32ms/step - loss: 0.0012\n",
      "Epoch 17/100\n",
      "3439/3439 [==============================] - 112s 33ms/step - loss: 0.0012\n",
      "Epoch 18/100\n",
      "3439/3439 [==============================] - 123s 36ms/step - loss: 9.9718e-04\n",
      "Epoch 19/100\n",
      "3439/3439 [==============================] - 116s 34ms/step - loss: 9.5681e-04\n",
      "Epoch 20/100\n",
      "3439/3439 [==============================] - 112s 33ms/step - loss: 9.5937e-04\n",
      "Epoch 21/100\n",
      "3439/3439 [==============================] - 113s 33ms/step - loss: 8.7168e-04\n",
      "Epoch 22/100\n",
      "3439/3439 [==============================] - 121s 35ms/step - loss: 7.9382e-04\n",
      "Epoch 23/100\n",
      "3439/3439 [==============================] - 121s 35ms/step - loss: 0.0011\n",
      "Epoch 24/100\n",
      "3439/3439 [==============================] - 125s 36ms/step - loss: 8.9130e-04\n",
      "Epoch 25/100\n",
      "3439/3439 [==============================] - 134s 39ms/step - loss: 8.2871e-04\n",
      "Epoch 26/100\n",
      "3439/3439 [==============================] - 116s 34ms/step - loss: 8.4752e-04\n",
      "Epoch 27/100\n",
      "3439/3439 [==============================] - 117s 34ms/step - loss: 8.0159e-04\n",
      "Epoch 28/100\n",
      "3439/3439 [==============================] - 127s 37ms/step - loss: 7.7169e-04\n",
      "Epoch 29/100\n",
      "3439/3439 [==============================] - 127s 37ms/step - loss: 8.4970e-04\n",
      "Epoch 30/100\n",
      "3439/3439 [==============================] - 118s 34ms/step - loss: 8.2241e-04\n",
      "Epoch 31/100\n",
      "3439/3439 [==============================] - 114s 33ms/step - loss: 8.7491e-04\n",
      "Epoch 32/100\n",
      "3439/3439 [==============================] - 117s 34ms/step - loss: 7.3853e-04\n",
      "Epoch 33/100\n",
      "3439/3439 [==============================] - 117s 34ms/step - loss: 7.5018e-04\n",
      "Epoch 34/100\n",
      "3439/3439 [==============================] - 116s 34ms/step - loss: 7.1862e-04\n",
      "Epoch 35/100\n",
      "3439/3439 [==============================] - 123s 36ms/step - loss: 6.8698e-04\n",
      "Epoch 36/100\n",
      "3439/3439 [==============================] - 124s 36ms/step - loss: 6.9754e-04\n",
      "Epoch 37/100\n",
      "3439/3439 [==============================] - 119s 34ms/step - loss: 6.4464e-04\n",
      "Epoch 38/100\n",
      "3439/3439 [==============================] - 117s 34ms/step - loss: 7.7397e-04\n",
      "Epoch 39/100\n",
      "3439/3439 [==============================] - 121s 35ms/step - loss: 8.2865e-04\n",
      "Epoch 40/100\n",
      "3439/3439 [==============================] - 118s 34ms/step - loss: 7.2065e-04\n",
      "Epoch 41/100\n",
      "3439/3439 [==============================] - 120s 35ms/step - loss: 8.3686e-04\n",
      "Epoch 42/100\n",
      "3439/3439 [==============================] - 132s 38ms/step - loss: 7.7082e-04\n",
      "Epoch 43/100\n",
      "3439/3439 [==============================] - 141s 41ms/step - loss: 6.6188e-04\n",
      "Epoch 44/100\n",
      "3439/3439 [==============================] - 155s 45ms/step - loss: 8.0991e-04\n",
      "Epoch 45/100\n",
      "3439/3439 [==============================] - 153s 44ms/step - loss: 6.5723e-04\n",
      "Epoch 46/100\n",
      "3439/3439 [==============================] - 154s 45ms/step - loss: 7.0056e-04\n",
      "Epoch 47/100\n",
      "3439/3439 [==============================] - 151s 44ms/step - loss: 5.9562e-04\n",
      "Epoch 48/100\n",
      "3439/3439 [==============================] - 147s 43ms/step - loss: 6.0736e-04\n",
      "Epoch 49/100\n",
      "3439/3439 [==============================] - 159s 46ms/step - loss: 6.3609e-04\n",
      "Epoch 50/100\n",
      "3439/3439 [==============================] - 173s 50ms/step - loss: 7.2875e-04\n",
      "Epoch 51/100\n",
      "3439/3439 [==============================] - 147s 43ms/step - loss: 6.2256e-04\n",
      "Epoch 52/100\n",
      "3439/3439 [==============================] - 142s 41ms/step - loss: 6.8958e-04\n",
      "Epoch 53/100\n",
      "3439/3439 [==============================] - 146s 42ms/step - loss: 6.2507e-04\n",
      "Epoch 54/100\n",
      "3439/3439 [==============================] - 161s 47ms/step - loss: 6.3181e-04\n",
      "Epoch 55/100\n",
      "3439/3439 [==============================] - 153s 44ms/step - loss: 5.9268e-04\n",
      "Epoch 56/100\n",
      "3439/3439 [==============================] - 149s 43ms/step - loss: 6.1315e-04\n",
      "Epoch 57/100\n",
      "3439/3439 [==============================] - 150s 44ms/step - loss: 5.7319e-04\n",
      "Epoch 58/100\n",
      "3439/3439 [==============================] - 159s 46ms/step - loss: 6.3812e-04\n",
      "Epoch 59/100\n",
      "3439/3439 [==============================] - 149s 43ms/step - loss: 6.3189e-04\n",
      "Epoch 60/100\n",
      "3439/3439 [==============================] - 148s 43ms/step - loss: 6.8450e-04\n",
      "Epoch 61/100\n",
      "3439/3439 [==============================] - 151s 44ms/step - loss: 6.1892e-04\n",
      "Epoch 62/100\n",
      "3439/3439 [==============================] - 151s 44ms/step - loss: 5.8570e-04\n",
      "Epoch 63/100\n",
      "3439/3439 [==============================] - 150s 44ms/step - loss: 5.5981e-04\n",
      "Epoch 64/100\n",
      "3439/3439 [==============================] - 148s 43ms/step - loss: 6.5407e-04\n",
      "Epoch 65/100\n",
      "3439/3439 [==============================] - 156s 45ms/step - loss: 5.8892e-04\n",
      "Epoch 66/100\n",
      "3439/3439 [==============================] - 150s 44ms/step - loss: 5.9518e-04\n",
      "Epoch 67/100\n",
      "3439/3439 [==============================] - 149s 43ms/step - loss: 5.5981e-04\n",
      "Epoch 68/100\n",
      "3439/3439 [==============================] - 149s 43ms/step - loss: 6.0549e-04\n",
      "Epoch 69/100\n",
      "3439/3439 [==============================] - 154s 45ms/step - loss: 6.2425e-04\n",
      "Epoch 70/100\n",
      "3439/3439 [==============================] - 149s 43ms/step - loss: 5.6962e-04\n",
      "Epoch 71/100\n",
      "3439/3439 [==============================] - 147s 43ms/step - loss: 6.2923e-04\n",
      "Epoch 72/100\n",
      "3439/3439 [==============================] - 146s 42ms/step - loss: 5.9277e-04\n",
      "Epoch 73/100\n",
      "3439/3439 [==============================] - 141s 41ms/step - loss: 6.7252e-04\n",
      "Epoch 74/100\n",
      "3439/3439 [==============================] - 140s 41ms/step - loss: 5.9627e-04\n",
      "Epoch 75/100\n",
      "3439/3439 [==============================] - 137s 40ms/step - loss: 5.5237e-04\n",
      "Epoch 76/100\n",
      "3439/3439 [==============================] - 145s 42ms/step - loss: 5.9802e-04\n",
      "Epoch 77/100\n",
      "3439/3439 [==============================] - 143s 41ms/step - loss: 5.7086e-04\n",
      "Epoch 78/100\n",
      "3439/3439 [==============================] - 153s 44ms/step - loss: 5.3544e-04\n",
      "Epoch 79/100\n",
      "3439/3439 [==============================] - 145s 42ms/step - loss: 5.4067e-04\n",
      "Epoch 80/100\n",
      "3439/3439 [==============================] - 120s 35ms/step - loss: 6.5388e-04\n",
      "Epoch 81/100\n"
     ]
    },
    {
     "name": "stdout",
     "output_type": "stream",
     "text": [
      "3439/3439 [==============================] - 109s 32ms/step - loss: 6.1856e-04\n",
      "Epoch 82/100\n",
      "3439/3439 [==============================] - 114s 33ms/step - loss: 5.7911e-04\n",
      "Epoch 83/100\n",
      "3439/3439 [==============================] - 112s 33ms/step - loss: 5.3889e-04\n",
      "Epoch 84/100\n",
      "3439/3439 [==============================] - 113s 33ms/step - loss: 5.6696e-04\n",
      "Epoch 85/100\n",
      "3439/3439 [==============================] - 112s 33ms/step - loss: 5.2892e-04\n",
      "Epoch 86/100\n",
      "3439/3439 [==============================] - 112s 33ms/step - loss: 5.5678e-04\n",
      "Epoch 87/100\n",
      "3439/3439 [==============================] - 114s 33ms/step - loss: 5.9895e-04\n",
      "Epoch 88/100\n",
      "3439/3439 [==============================] - 113s 33ms/step - loss: 5.8171e-04\n",
      "Epoch 89/100\n",
      "3439/3439 [==============================] - 112s 33ms/step - loss: 5.8444e-04\n",
      "Epoch 90/100\n",
      "3439/3439 [==============================] - 122s 35ms/step - loss: 5.3037e-04\n",
      "Epoch 91/100\n",
      "3439/3439 [==============================] - 121s 35ms/step - loss: 5.0372e-04\n",
      "Epoch 92/100\n",
      "3439/3439 [==============================] - 119s 35ms/step - loss: 5.8718e-04\n",
      "Epoch 93/100\n",
      "3439/3439 [==============================] - 115s 33ms/step - loss: 5.2454e-04\n",
      "Epoch 94/100\n",
      "3439/3439 [==============================] - 120s 35ms/step - loss: 4.8259e-04\n",
      "Epoch 95/100\n",
      "3439/3439 [==============================] - 115s 33ms/step - loss: 5.4073e-04\n",
      "Epoch 96/100\n",
      "3439/3439 [==============================] - 112s 32ms/step - loss: 5.4441e-04\n",
      "Epoch 97/100\n",
      "3439/3439 [==============================] - 113s 33ms/step - loss: 5.5654e-04\n",
      "Epoch 98/100\n",
      "3439/3439 [==============================] - 115s 33ms/step - loss: 6.1305e-04\n",
      "Epoch 99/100\n",
      "3439/3439 [==============================] - 121s 35ms/step - loss: 4.9292e-04\n",
      "Epoch 100/100\n",
      "3439/3439 [==============================] - 114s 33ms/step - loss: 5.1089e-04\n"
     ]
    },
    {
     "data": {
      "text/plain": [
       "<keras.callbacks.History at 0x1d681969668>"
      ]
     },
     "execution_count": 8,
     "metadata": {},
     "output_type": "execute_result"
    }
   ],
   "source": [
    "# Part 2 - Building the RNN\n",
    "\n",
    "# Importing the Keras libraries and packages\n",
    "from keras.models import Sequential\n",
    "from keras.layers import Dense\n",
    "from keras.layers import LSTM\n",
    "from keras.layers import Dropout\n",
    "\n",
    "# Initialising the RNN\n",
    "regressor = Sequential()\n",
    "\n",
    "# Adding the first LSTM layer and some Dropout regularisation\n",
    "regressor.add(LSTM(units = 50, return_sequences = True, input_shape = (X_train.shape[1], 1)))\n",
    "regressor.add(Dropout(0.2))\n",
    "\n",
    "# Adding a second LSTM layer and some Dropout regularisation\n",
    "regressor.add(LSTM(units = 50, return_sequences = True))\n",
    "regressor.add(Dropout(0.2))\n",
    "\n",
    "# Adding a third LSTM layer and some Dropout regularisation\n",
    "regressor.add(LSTM(units = 50, return_sequences = True))\n",
    "regressor.add(Dropout(0.2))\n",
    "\n",
    "# Adding a fourth LSTM layer and some Dropout regularisation\n",
    "regressor.add(LSTM(units = 50))\n",
    "regressor.add(Dropout(0.2))\n",
    "\n",
    "# Adding the output layer\n",
    "regressor.add(Dense(units = 1))\n",
    "\n",
    "# Compiling the RNN\n",
    "regressor.compile(optimizer = 'adam', loss = 'mean_squared_error')\n",
    "\n",
    "# Fitting the RNN to the Training set\n",
    "regressor.fit(X_train, y_train, epochs = 100, batch_size = 32)"
   ]
  },
  {
   "cell_type": "code",
   "execution_count": 9,
   "metadata": {},
   "outputs": [],
   "source": [
    "# Part 3 - Making the predictions and visualising the results\n",
    "\n",
    "# Getting the real stock price of 2019\n",
    "real_stock_price = Google_test.iloc[:, 2:3].values"
   ]
  },
  {
   "cell_type": "code",
   "execution_count": 11,
   "metadata": {},
   "outputs": [],
   "source": [
    "# Getting the predicted stock price of 2019\n",
    "Google_total = pd.concat((Google_train['Close'], Google_test['Close']), axis = 0)\n",
    "inputs = Google_total[len(Google_total) - len(Google_test) - 60:].values\n",
    "inputs = inputs.reshape(-1,1)\n",
    "inputs = sc.transform(inputs)\n",
    "X_test = []\n",
    "for i in range(60, 276):\n",
    "    X_test.append(inputs[i-60:i, 0])\n",
    "X_test = np.array(X_test)\n",
    "X_test = np.reshape(X_test, (X_test.shape[0], X_test.shape[1], 1))\n",
    "predicted_stock_price = regressor.predict(X_test)\n",
    "predicted_stock_price = sc.inverse_transform(predicted_stock_price)"
   ]
  },
  {
   "cell_type": "code",
   "execution_count": 13,
   "metadata": {},
   "outputs": [
    {
     "data": {
      "image/png": "[encoded data removed]",
      "text/plain": [
       "<Figure size 432x288 with 1 Axes>"
      ]
     },
     "metadata": {
      "needs_background": "light"
     },
     "output_type": "display_data"
    }
   ],
   "source": [
    "# Visualising the results\n",
    "plt.plot(real_stock_price, color = 'red', label = 'Real Google Stock Price')\n",
    "plt.plot(predicted_stock_price, color = 'blue', label = 'Predicted Google Stock Price')\n",
    "plt.title('Google Stock Price prediction')\n",
    "plt.xlabel('Date')\n",
    "plt.ylabel('Google Stock Price')\n",
    "plt.legend()\n",
    "plt.show()"
   ]
  },
  {
   "cell_type": "code",
   "execution_count": 14,
   "metadata": {},
   "outputs": [
    {
     "data": {
      "text/plain": [
       "29.415886871946537"
      ]
     },
     "execution_count": 14,
     "metadata": {},
     "output_type": "execute_result"
    }
   ],
   "source": [
    "#Evaluating the RNN\n",
    "import math\n",
    "from sklearn.metrics import mean_squared_error\n",
    "rmse = math.sqrt(mean_squared_error(real_stock_price, predicted_stock_price))\n",
    "rmse"
   ]
  },
  {
   "cell_type": "code",
   "execution_count": 15,
   "metadata": {},
   "outputs": [
    {
     "data": {
      "image/png": "[encoded data removed]",
      "text/plain": [
       "<Figure size 432x288 with 1 Axes>"
      ]
     },
     "metadata": {
      "needs_background": "light"
     },
     "output_type": "display_data"
    }
   ],
   "source": [
    "# Visualising the results\n",
    " \n",
    "shift_pred= predicted_stock_price[:-1]\n",
    "shift_pred = np.append(0, np.reshape(shift_pred, len(shift_pred)))\n",
    "shift_real = real_stock_price[:-1]\n",
    "shift_real = np.append(0, np.reshape(shift_real, len(shift_real)))\n",
    " \n",
    "dif_pred = np.add(np.reshape(predicted_stock_price, len(predicted_stock_price)), - shift_pred)[1:]\n",
    "dif_real = np.add(np.reshape(real_stock_price, len(real_stock_price)), - shift_real)[1:]\n",
    " \n",
    "fig, ax = plt.subplots()\n",
    "ind = np.arange(dif_real.size)\n",
    "real_bar = ax.bar(ind-0.15, dif_real, width=0.3, color = 'red', label = 'Real Difference')\n",
    "pred_bar = ax.bar(ind+0.15, dif_pred, width=0.3, color = 'blue', label = 'Predicted Difference')\n",
    "ax.set_title('Google Stock Price Prediction')\n",
    "ax.set_xlabel('Date')\n",
    "ax.set_ylabel('Google Stock Price')\n",
    "ax.legend()\n",
    "plt.show()"
   ]
  }
 ],
 "metadata": {
  "kernelspec": {
   "display_name": "Python 3",
   "language": "python",
   "name": "python3"
  },
  "language_info": {
   "codemirror_mode": {
    "name": "ipython",
    "version": 3
   },
   "file_extension": ".py",
   "mimetype": "text/x-python",
   "name": "python",
   "nbconvert_exporter": "python",
   "pygments_lexer": "ipython3",
   "version": "3.7.3"
  }
 },
 "nbformat": 4,
 "nbformat_minor": 2
}
