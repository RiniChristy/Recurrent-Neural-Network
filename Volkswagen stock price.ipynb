{
 "cells": [
  {
   "cell_type": "code",
   "execution_count": 1,
   "metadata": {},
   "outputs": [],
   "source": [
    "from pandas_datareader import data, wb\n",
    "import pandas as pd\n",
    "import numpy as np\n",
    "import datetime\n",
    "import matplotlib.pyplot as plt\n",
    "%matplotlib inline\n",
    "import seaborn as sns"
   ]
  },
  {
   "cell_type": "code",
   "execution_count": 2,
   "metadata": {},
   "outputs": [
    {
     "data": {
      "text/html": [
       "<div>\n",
       "<style scoped>\n",
       "    .dataframe tbody tr th:only-of-type {\n",
       "        vertical-align: middle;\n",
       "    }\n",
       "\n",
       "    .dataframe tbody tr th {\n",
       "        vertical-align: top;\n",
       "    }\n",
       "\n",
       "    .dataframe thead th {\n",
       "        text-align: right;\n",
       "    }\n",
       "</style>\n",
       "<table border=\"1\" class=\"dataframe\">\n",
       "  <thead>\n",
       "    <tr style=\"text-align: right;\">\n",
       "      <th></th>\n",
       "      <th>High</th>\n",
       "      <th>Low</th>\n",
       "      <th>Open</th>\n",
       "      <th>Close</th>\n",
       "      <th>Volume</th>\n",
       "      <th>Adj Close</th>\n",
       "    </tr>\n",
       "    <tr>\n",
       "      <th>Date</th>\n",
       "      <th></th>\n",
       "      <th></th>\n",
       "      <th></th>\n",
       "      <th></th>\n",
       "      <th></th>\n",
       "      <th></th>\n",
       "    </tr>\n",
       "  </thead>\n",
       "  <tbody>\n",
       "    <tr>\n",
       "      <th>1998-07-22</th>\n",
       "      <td>65.053703</td>\n",
       "      <td>63.148201</td>\n",
       "      <td>63.148201</td>\n",
       "      <td>64.596497</td>\n",
       "      <td>56337.0</td>\n",
       "      <td>34.962700</td>\n",
       "    </tr>\n",
       "    <tr>\n",
       "      <th>1998-07-23</th>\n",
       "      <td>65.816101</td>\n",
       "      <td>61.750599</td>\n",
       "      <td>65.308197</td>\n",
       "      <td>61.750599</td>\n",
       "      <td>95571.0</td>\n",
       "      <td>33.422371</td>\n",
       "    </tr>\n",
       "    <tr>\n",
       "      <th>1998-07-24</th>\n",
       "      <td>62.258499</td>\n",
       "      <td>59.869900</td>\n",
       "      <td>60.988201</td>\n",
       "      <td>61.496101</td>\n",
       "      <td>154423.0</td>\n",
       "      <td>33.284630</td>\n",
       "    </tr>\n",
       "    <tr>\n",
       "      <th>1998-07-27</th>\n",
       "      <td>62.005001</td>\n",
       "      <td>59.463299</td>\n",
       "      <td>61.496101</td>\n",
       "      <td>59.717800</td>\n",
       "      <td>62876.0</td>\n",
       "      <td>32.322124</td>\n",
       "    </tr>\n",
       "    <tr>\n",
       "      <th>1998-07-28</th>\n",
       "      <td>61.445400</td>\n",
       "      <td>57.837101</td>\n",
       "      <td>59.209900</td>\n",
       "      <td>58.294399</td>\n",
       "      <td>116195.0</td>\n",
       "      <td>31.551706</td>\n",
       "    </tr>\n",
       "  </tbody>\n",
       "</table>\n",
       "</div>"
      ],
      "text/plain": [
       "                 High        Low       Open      Close    Volume  Adj Close\n",
       "Date                                                                       \n",
       "1998-07-22  65.053703  63.148201  63.148201  64.596497   56337.0  34.962700\n",
       "1998-07-23  65.816101  61.750599  65.308197  61.750599   95571.0  33.422371\n",
       "1998-07-24  62.258499  59.869900  60.988201  61.496101  154423.0  33.284630\n",
       "1998-07-27  62.005001  59.463299  61.496101  59.717800   62876.0  32.322124\n",
       "1998-07-28  61.445400  57.837101  59.209900  58.294399  116195.0  31.551706"
      ]
     },
     "execution_count": 2,
     "metadata": {},
     "output_type": "execute_result"
    }
   ],
   "source": [
    "Volks = data.DataReader(\"VOW3.DE\", data_source=\"yahoo\", start = \"1998-07-01\", end = \"2019-06-01\")\n",
    "Volks.head()"
   ]
  },
  {
   "cell_type": "code",
   "execution_count": 3,
   "metadata": {},
   "outputs": [
    {
     "data": {
      "text/plain": [
       "(5288, 6)"
      ]
     },
     "execution_count": 3,
     "metadata": {},
     "output_type": "execute_result"
    }
   ],
   "source": [
    "Volks.shape"
   ]
  },
  {
   "cell_type": "code",
   "execution_count": 4,
   "metadata": {},
   "outputs": [
    {
     "data": {
      "text/plain": [
       "(4500, 6)"
      ]
     },
     "execution_count": 4,
     "metadata": {},
     "output_type": "execute_result"
    }
   ],
   "source": [
    "Volks_train = Volks.iloc[:4500, :]\n",
    "Volks_train.shape"
   ]
  },
  {
   "cell_type": "code",
   "execution_count": 5,
   "metadata": {},
   "outputs": [
    {
     "data": {
      "text/plain": [
       "(788, 6)"
      ]
     },
     "execution_count": 5,
     "metadata": {},
     "output_type": "execute_result"
    }
   ],
   "source": [
    "Volks_test = Volks.iloc[4500:, :]\n",
    "Volks_test.shape"
   ]
  },
  {
   "cell_type": "code",
   "execution_count": 6,
   "metadata": {},
   "outputs": [
    {
     "data": {
      "text/plain": [
       "array([[ 63.14820099],\n",
       "       [ 65.30819702],\n",
       "       [ 60.98820114],\n",
       "       ...,\n",
       "       [155.47999573],\n",
       "       [155.96000671],\n",
       "       [159.61999512]])"
      ]
     },
     "execution_count": 6,
     "metadata": {},
     "output_type": "execute_result"
    }
   ],
   "source": [
    "training_set = Volks.iloc[:5000, 2:3].values\n",
    "training_set"
   ]
  },
  {
   "cell_type": "code",
   "execution_count": 7,
   "metadata": {},
   "outputs": [],
   "source": [
    "# Feature Scaling\n",
    "from sklearn.preprocessing import MinMaxScaler\n",
    "sc = MinMaxScaler(feature_range = (0, 1))\n",
    "training_set_scaled = sc.fit_transform(training_set)\n",
    "\n",
    "# Creating a data structure with 60 timesteps and 1 output\n",
    "X_train = []\n",
    "y_train = []\n",
    "for i in range(60, 4499):\n",
    "    X_train.append(training_set_scaled[i-60:i, 0])\n",
    "    y_train.append(training_set_scaled[i, 0])\n",
    "X_train, y_train = np.array(X_train), np.array(y_train)\n",
    "\n",
    "# Reshaping\n",
    "X_train = np.reshape(X_train, (X_train.shape[0], X_train.shape[1], 1))"
   ]
  },
  {
   "cell_type": "code",
   "execution_count": 8,
   "metadata": {},
   "outputs": [
    {
     "name": "stderr",
     "output_type": "stream",
     "text": [
      "Using TensorFlow backend.\n"
     ]
    },
    {
     "name": "stdout",
     "output_type": "stream",
     "text": [
      "WARNING:tensorflow:From C:\\Users\\Christy\\Anaconda3\\lib\\site-packages\\tensorflow\\python\\framework\\op_def_library.py:263: colocate_with (from tensorflow.python.framework.ops) is deprecated and will be removed in a future version.\n",
      "Instructions for updating:\n",
      "Colocations handled automatically by placer.\n",
      "WARNING:tensorflow:From C:\\Users\\Christy\\Anaconda3\\lib\\site-packages\\keras\\backend\\tensorflow_backend.py:3445: calling dropout (from tensorflow.python.ops.nn_ops) with keep_prob is deprecated and will be removed in a future version.\n",
      "Instructions for updating:\n",
      "Please use `rate` instead of `keep_prob`. Rate should be set to `rate = 1 - keep_prob`.\n",
      "WARNING:tensorflow:From C:\\Users\\Christy\\Anaconda3\\lib\\site-packages\\tensorflow\\python\\ops\\math_ops.py:3066: to_int32 (from tensorflow.python.ops.math_ops) is deprecated and will be removed in a future version.\n",
      "Instructions for updating:\n",
      "Use tf.cast instead.\n",
      "Epoch 1/100\n",
      "4439/4439 [==============================] - 47s 11ms/step - loss: 0.0079\n",
      "Epoch 2/100\n",
      "4439/4439 [==============================] - 42s 9ms/step - loss: 0.0022\n",
      "Epoch 3/100\n",
      "4439/4439 [==============================] - 42s 9ms/step - loss: 0.0020\n",
      "Epoch 4/100\n",
      "4439/4439 [==============================] - 41s 9ms/step - loss: 0.0017\n",
      "Epoch 5/100\n",
      "4439/4439 [==============================] - 41s 9ms/step - loss: 0.0017\n",
      "Epoch 6/100\n",
      "4439/4439 [==============================] - 40s 9ms/step - loss: 0.0017\n",
      "Epoch 7/100\n",
      "4439/4439 [==============================] - 43s 10ms/step - loss: 0.0014\n",
      "Epoch 8/100\n",
      "4439/4439 [==============================] - 42s 9ms/step - loss: 0.0013\n",
      "Epoch 9/100\n",
      "4439/4439 [==============================] - 42s 9ms/step - loss: 0.0013\n",
      "Epoch 10/100\n",
      "4439/4439 [==============================] - 41s 9ms/step - loss: 0.0013\n",
      "Epoch 11/100\n",
      "4439/4439 [==============================] - 41s 9ms/step - loss: 0.0013\n",
      "Epoch 12/100\n",
      "4439/4439 [==============================] - 45s 10ms/step - loss: 0.0011\n",
      "Epoch 13/100\n",
      "4439/4439 [==============================] - 44s 10ms/step - loss: 0.0012\n",
      "Epoch 14/100\n",
      "4439/4439 [==============================] - 45s 10ms/step - loss: 0.0011\n",
      "Epoch 15/100\n",
      "4439/4439 [==============================] - 42s 9ms/step - loss: 0.0010\n",
      "Epoch 16/100\n",
      "4439/4439 [==============================] - 44s 10ms/step - loss: 0.0011\n",
      "Epoch 17/100\n",
      "4439/4439 [==============================] - 44s 10ms/step - loss: 0.0010\n",
      "Epoch 18/100\n",
      "4439/4439 [==============================] - 43s 10ms/step - loss: 0.0011\n",
      "Epoch 19/100\n",
      "4439/4439 [==============================] - 43s 10ms/step - loss: 9.5333e-04\n",
      "Epoch 20/100\n",
      "4439/4439 [==============================] - 42s 9ms/step - loss: 9.3903e-04\n",
      "Epoch 21/100\n",
      "4439/4439 [==============================] - 41s 9ms/step - loss: 9.0522e-04\n",
      "Epoch 22/100\n",
      "4439/4439 [==============================] - 41s 9ms/step - loss: 9.5599e-04\n",
      "Epoch 23/100\n",
      "4439/4439 [==============================] - 42s 9ms/step - loss: 9.3760e-04\n",
      "Epoch 24/100\n",
      "4439/4439 [==============================] - 41s 9ms/step - loss: 9.4778e-04\n",
      "Epoch 25/100\n",
      "4439/4439 [==============================] - 41s 9ms/step - loss: 8.6115e-04\n",
      "Epoch 26/100\n",
      "4439/4439 [==============================] - 44s 10ms/step - loss: 8.0480e-04\n",
      "Epoch 27/100\n",
      "4439/4439 [==============================] - 63s 14ms/step - loss: 7.4793e-04\n",
      "Epoch 28/100\n",
      "4439/4439 [==============================] - 72s 16ms/step - loss: 8.2512e-04\n",
      "Epoch 29/100\n",
      "4439/4439 [==============================] - 71s 16ms/step - loss: 8.0875e-04\n",
      "Epoch 30/100\n",
      "4439/4439 [==============================] - 70s 16ms/step - loss: 8.1082e-04\n",
      "Epoch 31/100\n",
      "4439/4439 [==============================] - 71s 16ms/step - loss: 7.3433e-04\n",
      "Epoch 32/100\n",
      "4439/4439 [==============================] - 73s 16ms/step - loss: 8.2628e-04\n",
      "Epoch 33/100\n",
      "4439/4439 [==============================] - 70s 16ms/step - loss: 7.9788e-04\n",
      "Epoch 34/100\n",
      "4439/4439 [==============================] - 72s 16ms/step - loss: 7.2516e-04\n",
      "Epoch 35/100\n",
      "4439/4439 [==============================] - 100s 23ms/step - loss: 7.0291e-04\n",
      "Epoch 36/100\n",
      "4439/4439 [==============================] - 109s 25ms/step - loss: 8.3107e-04\n",
      "Epoch 37/100\n",
      "4439/4439 [==============================] - 106s 24ms/step - loss: 7.9157e-04\n",
      "Epoch 38/100\n",
      "4439/4439 [==============================] - 107s 24ms/step - loss: 8.0911e-04\n",
      "Epoch 39/100\n",
      "4439/4439 [==============================] - 145s 33ms/step - loss: 7.3640e-04\n",
      "Epoch 40/100\n",
      "4439/4439 [==============================] - 147s 33ms/step - loss: 7.3518e-04\n",
      "Epoch 41/100\n",
      "4439/4439 [==============================] - 147s 33ms/step - loss: 7.2808e-04\n",
      "Epoch 42/100\n",
      "4439/4439 [==============================] - 145s 33ms/step - loss: 7.0752e-04\n",
      "Epoch 43/100\n",
      "4439/4439 [==============================] - 144s 32ms/step - loss: 7.5877e-04\n",
      "Epoch 44/100\n",
      "4439/4439 [==============================] - 145s 33ms/step - loss: 7.6498e-04\n",
      "Epoch 45/100\n",
      "4439/4439 [==============================] - 144s 32ms/step - loss: 7.0006e-04\n",
      "Epoch 46/100\n",
      "4439/4439 [==============================] - 146s 33ms/step - loss: 6.8184e-04\n",
      "Epoch 47/100\n",
      "4439/4439 [==============================] - 147s 33ms/step - loss: 7.0967e-04\n",
      "Epoch 48/100\n",
      "4439/4439 [==============================] - 150s 34ms/step - loss: 6.2968e-04\n",
      "Epoch 49/100\n",
      "4439/4439 [==============================] - 150s 34ms/step - loss: 6.8370e-04\n",
      "Epoch 50/100\n",
      "4439/4439 [==============================] - 140s 32ms/step - loss: 6.4260e-04\n",
      "Epoch 51/100\n",
      "4439/4439 [==============================] - 141s 32ms/step - loss: 6.4486e-04\n",
      "Epoch 52/100\n",
      "4439/4439 [==============================] - 146s 33ms/step - loss: 6.8865e-04\n",
      "Epoch 53/100\n",
      "4439/4439 [==============================] - 156s 35ms/step - loss: 7.1885e-04\n",
      "Epoch 54/100\n",
      "4439/4439 [==============================] - 143s 32ms/step - loss: 7.1369e-04\n",
      "Epoch 55/100\n",
      "4439/4439 [==============================] - 149s 34ms/step - loss: 6.4826e-04\n",
      "Epoch 56/100\n",
      "4439/4439 [==============================] - 157s 35ms/step - loss: 7.2207e-04\n",
      "Epoch 57/100\n",
      "4439/4439 [==============================] - 151s 34ms/step - loss: 5.9535e-04\n",
      "Epoch 58/100\n",
      "4439/4439 [==============================] - 171s 39ms/step - loss: 6.2969e-04\n",
      "Epoch 59/100\n",
      "4439/4439 [==============================] - 146s 33ms/step - loss: 6.5514e-04\n",
      "Epoch 60/100\n",
      "4439/4439 [==============================] - 156s 35ms/step - loss: 6.5639e-04\n",
      "Epoch 61/100\n",
      "4439/4439 [==============================] - 164s 37ms/step - loss: 6.2582e-04\n",
      "Epoch 62/100\n",
      "4439/4439 [==============================] - 149s 34ms/step - loss: 6.4030e-04\n",
      "Epoch 63/100\n",
      "4439/4439 [==============================] - 147s 33ms/step - loss: 6.3448e-04\n",
      "Epoch 64/100\n",
      "4439/4439 [==============================] - 150s 34ms/step - loss: 6.6877e-04\n",
      "Epoch 65/100\n",
      "4439/4439 [==============================] - 147s 33ms/step - loss: 6.5109e-04\n",
      "Epoch 66/100\n",
      "4439/4439 [==============================] - 157s 35ms/step - loss: 6.5615e-04\n",
      "Epoch 67/100\n",
      "4439/4439 [==============================] - 158s 35ms/step - loss: 6.7374e-04\n",
      "Epoch 68/100\n",
      "4439/4439 [==============================] - 148s 33ms/step - loss: 6.3034e-04\n",
      "Epoch 69/100\n",
      "4439/4439 [==============================] - 153s 34ms/step - loss: 6.2429e-04\n",
      "Epoch 70/100\n",
      "4439/4439 [==============================] - 151s 34ms/step - loss: 6.2574e-04\n",
      "Epoch 71/100\n",
      "4439/4439 [==============================] - 164s 37ms/step - loss: 5.7628e-04\n",
      "Epoch 72/100\n",
      "4439/4439 [==============================] - 180s 41ms/step - loss: 6.1872e-04\n",
      "Epoch 73/100\n",
      "4439/4439 [==============================] - 195s 44ms/step - loss: 6.5950e-04\n",
      "Epoch 74/100\n",
      "4439/4439 [==============================] - 197s 44ms/step - loss: 6.3508e-04\n",
      "Epoch 75/100\n",
      "4439/4439 [==============================] - 195s 44ms/step - loss: 5.9906e-04\n",
      "Epoch 76/100\n",
      "4439/4439 [==============================] - 189s 43ms/step - loss: 6.5098e-04\n",
      "Epoch 77/100\n",
      "4439/4439 [==============================] - 208s 47ms/step - loss: 5.5905e-04\n",
      "Epoch 78/100\n",
      "4439/4439 [==============================] - 206s 46ms/step - loss: 6.3204e-04\n",
      "Epoch 79/100\n",
      "4439/4439 [==============================] - 184s 42ms/step - loss: 5.9118e-04\n",
      "Epoch 80/100\n",
      "4439/4439 [==============================] - 188s 42ms/step - loss: 5.8956e-04\n",
      "Epoch 81/100\n"
     ]
    },
    {
     "name": "stdout",
     "output_type": "stream",
     "text": [
      "4439/4439 [==============================] - 208s 47ms/step - loss: 5.8264e-04\n",
      "Epoch 82/100\n",
      "4439/4439 [==============================] - 190s 43ms/step - loss: 5.9649e-04\n",
      "Epoch 83/100\n",
      "4439/4439 [==============================] - 194s 44ms/step - loss: 6.3622e-04\n",
      "Epoch 84/100\n",
      "4439/4439 [==============================] - 200s 45ms/step - loss: 5.7945e-04\n",
      "Epoch 85/100\n",
      "4439/4439 [==============================] - 189s 43ms/step - loss: 5.7138e-04\n",
      "Epoch 86/100\n",
      "4439/4439 [==============================] - 194s 44ms/step - loss: 5.9150e-04\n",
      "Epoch 87/100\n",
      "4439/4439 [==============================] - 195s 44ms/step - loss: 6.5113e-04\n",
      "Epoch 88/100\n",
      "4439/4439 [==============================] - 189s 43ms/step - loss: 5.5180e-04\n",
      "Epoch 89/100\n",
      "4439/4439 [==============================] - 195s 44ms/step - loss: 6.3446e-04\n",
      "Epoch 90/100\n",
      "4439/4439 [==============================] - 193s 44ms/step - loss: 5.4622e-04\n",
      "Epoch 91/100\n",
      "4439/4439 [==============================] - 192s 43ms/step - loss: 6.1771e-04\n",
      "Epoch 92/100\n",
      "4439/4439 [==============================] - 193s 44ms/step - loss: 6.3535e-04\n",
      "Epoch 93/100\n",
      "4439/4439 [==============================] - 194s 44ms/step - loss: 6.2828e-04\n",
      "Epoch 94/100\n",
      "4439/4439 [==============================] - 192s 43ms/step - loss: 5.3481e-04\n",
      "Epoch 95/100\n",
      "4439/4439 [==============================] - 182s 41ms/step - loss: 5.6277e-04\n",
      "Epoch 96/100\n",
      "4439/4439 [==============================] - 180s 40ms/step - loss: 5.7203e-04\n",
      "Epoch 97/100\n",
      "4439/4439 [==============================] - 176s 40ms/step - loss: 6.0027e-04\n",
      "Epoch 98/100\n",
      "4439/4439 [==============================] - 188s 42ms/step - loss: 5.3458e-04\n",
      "Epoch 99/100\n",
      "4439/4439 [==============================] - 188s 42ms/step - loss: 5.6216e-04\n",
      "Epoch 100/100\n",
      "4439/4439 [==============================] - 188s 42ms/step - loss: 5.9725e-04\n"
     ]
    },
    {
     "data": {
      "text/plain": [
       "<keras.callbacks.History at 0x25bd750a630>"
      ]
     },
     "execution_count": 8,
     "metadata": {},
     "output_type": "execute_result"
    }
   ],
   "source": [
    "# Part 2 - Building the RNN\n",
    "\n",
    "# Importing the Keras libraries and packages\n",
    "from keras.models import Sequential\n",
    "from keras.layers import Dense\n",
    "from keras.layers import LSTM\n",
    "from keras.layers import Dropout\n",
    "\n",
    "# Initialising the RNN\n",
    "regressor = Sequential()\n",
    "\n",
    "# Adding the first LSTM layer and some Dropout regularisation\n",
    "regressor.add(LSTM(units = 50, return_sequences = True, input_shape = (X_train.shape[1], 1)))\n",
    "regressor.add(Dropout(0.2))\n",
    "\n",
    "# Adding a second LSTM layer and some Dropout regularisation\n",
    "regressor.add(LSTM(units = 50, return_sequences = True))\n",
    "regressor.add(Dropout(0.2))\n",
    "\n",
    "# Adding a third LSTM layer and some Dropout regularisation\n",
    "regressor.add(LSTM(units = 50, return_sequences = True))\n",
    "regressor.add(Dropout(0.2))\n",
    "\n",
    "# Adding a fourth LSTM layer and some Dropout regularisation\n",
    "regressor.add(LSTM(units = 50))\n",
    "regressor.add(Dropout(0.2))\n",
    "\n",
    "# Adding the output layer\n",
    "regressor.add(Dense(units = 1))\n",
    "\n",
    "# Compiling the RNN\n",
    "regressor.compile(optimizer = 'adam', loss = 'mean_squared_error')\n",
    "\n",
    "# Fitting the RNN to the Training set\n",
    "regressor.fit(X_train, y_train, epochs = 100, batch_size = 32)"
   ]
  },
  {
   "cell_type": "code",
   "execution_count": 9,
   "metadata": {},
   "outputs": [],
   "source": [
    "# Part 3 - Making the predictions and visualising the results\n",
    "\n",
    "# Getting the real stock price of 2017\n",
    "real_stock_price = Volks_test.iloc[:, 2:3].values"
   ]
  },
  {
   "cell_type": "code",
   "execution_count": 10,
   "metadata": {},
   "outputs": [],
   "source": [
    "# Getting the predicted stock price of 2017\n",
    "Volks_total = pd.concat((Volks_train['Close'], Volks_test['Close']), axis = 0)\n",
    "inputs = Volks_total[len(Volks_total) - len(Volks_test) - 60:].values\n",
    "inputs = inputs.reshape(-1,1)\n",
    "inputs = sc.transform(inputs)\n",
    "X_test = []\n",
    "for i in range(60, 848):\n",
    "    X_test.append(inputs[i-60:i, 0])\n",
    "X_test = np.array(X_test)\n",
    "X_test = np.reshape(X_test, (X_test.shape[0], X_test.shape[1], 1))\n",
    "predicted_stock_price = regressor.predict(X_test)\n",
    "predicted_stock_price = sc.inverse_transform(predicted_stock_price)"
   ]
  },
  {
   "cell_type": "code",
   "execution_count": 14,
   "metadata": {},
   "outputs": [
    {
     "data": {
      "image/png": "[encoded data removed]",
      "text/plain": [
       "<Figure size 432x288 with 1 Axes>"
      ]
     },
     "metadata": {
      "needs_background": "light"
     },
     "output_type": "display_data"
    }
   ],
   "source": [
    "# Visualising the results\n",
    "plt.plot(real_stock_price, color = 'red', label = 'Real Volkswagen Stock Price')\n",
    "plt.plot(predicted_stock_price, color = 'blue', label = 'Predicted Volkswagen Stock Price')\n",
    "plt.title('Volkswagen Stock Price prediction')\n",
    "plt.xlabel('Days')\n",
    "plt.ylabel('Volkswagen Stock Price')\n",
    "plt.legend()\n",
    "plt.show()"
   ]
  },
  {
   "cell_type": "code",
   "execution_count": 15,
   "metadata": {},
   "outputs": [
    {
     "data": {
      "text/plain": [
       "3.465779308698269"
      ]
     },
     "execution_count": 15,
     "metadata": {},
     "output_type": "execute_result"
    }
   ],
   "source": [
    "#Evaluating the RNN\n",
    "import math\n",
    "from sklearn.metrics import mean_squared_error\n",
    "rmse = math.sqrt(mean_squared_error(real_stock_price, predicted_stock_price))\n",
    "rmse"
   ]
  },
  {
   "cell_type": "code",
   "execution_count": 16,
   "metadata": {},
   "outputs": [
    {
     "data": {
      "image/png": "[encoded data removed]",
      "text/plain": [
       "<Figure size 432x288 with 1 Axes>"
      ]
     },
     "metadata": {
      "needs_background": "light"
     },
     "output_type": "display_data"
    }
   ],
   "source": [
    "# Visualising the results\n",
    " \n",
    "shift_pred= predicted_stock_price[:-1]\n",
    "shift_pred = np.append(0, np.reshape(shift_pred, len(shift_pred)))\n",
    "shift_real = real_stock_price[:-1]\n",
    "shift_real = np.append(0, np.reshape(shift_real, len(shift_real)))\n",
    " \n",
    "dif_pred = np.add(np.reshape(predicted_stock_price, len(predicted_stock_price)), - shift_pred)[1:]\n",
    "dif_real = np.add(np.reshape(real_stock_price, len(real_stock_price)), - shift_real)[1:]\n",
    " \n",
    "fig, ax = plt.subplots()\n",
    "ind = np.arange(dif_real.size)\n",
    "real_bar = ax.bar(ind-0.15, dif_real, width=0.3, color = 'red', label = 'Real Difference')\n",
    "pred_bar = ax.bar(ind+0.15, dif_pred, width=0.3, color = 'blue', label = 'Predicted Difference')\n",
    "ax.set_title('Volkswagen Stock Price Prediction')\n",
    "ax.set_xlabel('Days')\n",
    "ax.set_ylabel('Volkswagen Stock Price')\n",
    "ax.legend()\n",
    "plt.show()"
   ]
  }
 ],
 "metadata": {
  "kernelspec": {
   "display_name": "Python 3",
   "language": "python",
   "name": "python3"
  },
  "language_info": {
   "codemirror_mode": {
    "name": "ipython",
    "version": 3
   },
   "file_extension": ".py",
   "mimetype": "text/x-python",
   "name": "python",
   "nbconvert_exporter": "python",
   "pygments_lexer": "ipython3",
   "version": "3.7.3"
  }
 },
 "nbformat": 4,
 "nbformat_minor": 2
}
