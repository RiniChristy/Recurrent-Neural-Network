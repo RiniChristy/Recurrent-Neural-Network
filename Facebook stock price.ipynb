{
 "cells": [
  {
   "cell_type": "code",
   "execution_count": 1,
   "metadata": {},
   "outputs": [],
   "source": [
    "from pandas_datareader import data, wb\n",
    "import pandas as pd\n",
    "import numpy as np\n",
    "import datetime\n",
    "import matplotlib.pyplot as plt\n",
    "%matplotlib inline\n",
    "import seaborn as sns"
   ]
  },
  {
   "cell_type": "code",
   "execution_count": 2,
   "metadata": {},
   "outputs": [
    {
     "data": {
      "text/html": [
       "<div>\n",
       "<style scoped>\n",
       "    .dataframe tbody tr th:only-of-type {\n",
       "        vertical-align: middle;\n",
       "    }\n",
       "\n",
       "    .dataframe tbody tr th {\n",
       "        vertical-align: top;\n",
       "    }\n",
       "\n",
       "    .dataframe thead th {\n",
       "        text-align: right;\n",
       "    }\n",
       "</style>\n",
       "<table border=\"1\" class=\"dataframe\">\n",
       "  <thead>\n",
       "    <tr style=\"text-align: right;\">\n",
       "      <th></th>\n",
       "      <th>High</th>\n",
       "      <th>Low</th>\n",
       "      <th>Open</th>\n",
       "      <th>Close</th>\n",
       "      <th>Volume</th>\n",
       "      <th>Adj Close</th>\n",
       "    </tr>\n",
       "    <tr>\n",
       "      <th>Date</th>\n",
       "      <th></th>\n",
       "      <th></th>\n",
       "      <th></th>\n",
       "      <th></th>\n",
       "      <th></th>\n",
       "      <th></th>\n",
       "    </tr>\n",
       "  </thead>\n",
       "  <tbody>\n",
       "    <tr>\n",
       "      <th>2012-05-18</th>\n",
       "      <td>45.000000</td>\n",
       "      <td>38.000000</td>\n",
       "      <td>42.049999</td>\n",
       "      <td>38.230000</td>\n",
       "      <td>573576400</td>\n",
       "      <td>38.230000</td>\n",
       "    </tr>\n",
       "    <tr>\n",
       "      <th>2012-05-21</th>\n",
       "      <td>36.660000</td>\n",
       "      <td>33.000000</td>\n",
       "      <td>36.529999</td>\n",
       "      <td>34.029999</td>\n",
       "      <td>168192700</td>\n",
       "      <td>34.029999</td>\n",
       "    </tr>\n",
       "    <tr>\n",
       "      <th>2012-05-22</th>\n",
       "      <td>33.590000</td>\n",
       "      <td>30.940001</td>\n",
       "      <td>32.610001</td>\n",
       "      <td>31.000000</td>\n",
       "      <td>101786600</td>\n",
       "      <td>31.000000</td>\n",
       "    </tr>\n",
       "    <tr>\n",
       "      <th>2012-05-23</th>\n",
       "      <td>32.500000</td>\n",
       "      <td>31.360001</td>\n",
       "      <td>31.370001</td>\n",
       "      <td>32.000000</td>\n",
       "      <td>73600000</td>\n",
       "      <td>32.000000</td>\n",
       "    </tr>\n",
       "    <tr>\n",
       "      <th>2012-05-24</th>\n",
       "      <td>33.209999</td>\n",
       "      <td>31.770000</td>\n",
       "      <td>32.950001</td>\n",
       "      <td>33.029999</td>\n",
       "      <td>50237200</td>\n",
       "      <td>33.029999</td>\n",
       "    </tr>\n",
       "  </tbody>\n",
       "</table>\n",
       "</div>"
      ],
      "text/plain": [
       "                 High        Low       Open      Close     Volume  Adj Close\n",
       "Date                                                                        \n",
       "2012-05-18  45.000000  38.000000  42.049999  38.230000  573576400  38.230000\n",
       "2012-05-21  36.660000  33.000000  36.529999  34.029999  168192700  34.029999\n",
       "2012-05-22  33.590000  30.940001  32.610001  31.000000  101786600  31.000000\n",
       "2012-05-23  32.500000  31.360001  31.370001  32.000000   73600000  32.000000\n",
       "2012-05-24  33.209999  31.770000  32.950001  33.029999   50237200  33.029999"
      ]
     },
     "execution_count": 2,
     "metadata": {},
     "output_type": "execute_result"
    }
   ],
   "source": [
    "Facebook = data.DataReader(\"FB\", data_source=\"yahoo\", start = \"2004-05-12\", end = \"2019-06-01\")\n",
    "Facebook.head()"
   ]
  },
  {
   "cell_type": "code",
   "execution_count": 3,
   "metadata": {},
   "outputs": [
    {
     "data": {
      "text/html": [
       "<div>\n",
       "<style scoped>\n",
       "    .dataframe tbody tr th:only-of-type {\n",
       "        vertical-align: middle;\n",
       "    }\n",
       "\n",
       "    .dataframe tbody tr th {\n",
       "        vertical-align: top;\n",
       "    }\n",
       "\n",
       "    .dataframe thead th {\n",
       "        text-align: right;\n",
       "    }\n",
       "</style>\n",
       "<table border=\"1\" class=\"dataframe\">\n",
       "  <thead>\n",
       "    <tr style=\"text-align: right;\">\n",
       "      <th></th>\n",
       "      <th>High</th>\n",
       "      <th>Low</th>\n",
       "      <th>Open</th>\n",
       "      <th>Close</th>\n",
       "      <th>Volume</th>\n",
       "      <th>Adj Close</th>\n",
       "    </tr>\n",
       "    <tr>\n",
       "      <th>Date</th>\n",
       "      <th></th>\n",
       "      <th></th>\n",
       "      <th></th>\n",
       "      <th></th>\n",
       "      <th></th>\n",
       "      <th></th>\n",
       "    </tr>\n",
       "  </thead>\n",
       "  <tbody>\n",
       "    <tr>\n",
       "      <th>2019-05-20</th>\n",
       "      <td>184.229996</td>\n",
       "      <td>181.369995</td>\n",
       "      <td>181.880005</td>\n",
       "      <td>182.720001</td>\n",
       "      <td>10352000</td>\n",
       "      <td>182.720001</td>\n",
       "    </tr>\n",
       "    <tr>\n",
       "      <th>2019-05-21</th>\n",
       "      <td>185.699997</td>\n",
       "      <td>183.889999</td>\n",
       "      <td>184.570007</td>\n",
       "      <td>184.820007</td>\n",
       "      <td>7502800</td>\n",
       "      <td>184.820007</td>\n",
       "    </tr>\n",
       "    <tr>\n",
       "      <th>2019-05-22</th>\n",
       "      <td>186.740005</td>\n",
       "      <td>183.610001</td>\n",
       "      <td>184.729996</td>\n",
       "      <td>185.320007</td>\n",
       "      <td>9213800</td>\n",
       "      <td>185.320007</td>\n",
       "    </tr>\n",
       "    <tr>\n",
       "      <th>2019-05-23</th>\n",
       "      <td>183.899994</td>\n",
       "      <td>179.669998</td>\n",
       "      <td>182.419998</td>\n",
       "      <td>180.869995</td>\n",
       "      <td>12768800</td>\n",
       "      <td>180.869995</td>\n",
       "    </tr>\n",
       "    <tr>\n",
       "      <th>2019-05-24</th>\n",
       "      <td>183.630005</td>\n",
       "      <td>180.830002</td>\n",
       "      <td>182.330002</td>\n",
       "      <td>181.059998</td>\n",
       "      <td>8802300</td>\n",
       "      <td>181.059998</td>\n",
       "    </tr>\n",
       "  </tbody>\n",
       "</table>\n",
       "</div>"
      ],
      "text/plain": [
       "                  High         Low        Open       Close    Volume  \\\n",
       "Date                                                                   \n",
       "2019-05-20  184.229996  181.369995  181.880005  182.720001  10352000   \n",
       "2019-05-21  185.699997  183.889999  184.570007  184.820007   7502800   \n",
       "2019-05-22  186.740005  183.610001  184.729996  185.320007   9213800   \n",
       "2019-05-23  183.899994  179.669998  182.419998  180.869995  12768800   \n",
       "2019-05-24  183.630005  180.830002  182.330002  181.059998   8802300   \n",
       "\n",
       "             Adj Close  \n",
       "Date                    \n",
       "2019-05-20  182.720001  \n",
       "2019-05-21  184.820007  \n",
       "2019-05-22  185.320007  \n",
       "2019-05-23  180.869995  \n",
       "2019-05-24  181.059998  "
      ]
     },
     "execution_count": 3,
     "metadata": {},
     "output_type": "execute_result"
    }
   ],
   "source": [
    "Facebook.tail()"
   ]
  },
  {
   "cell_type": "code",
   "execution_count": 4,
   "metadata": {},
   "outputs": [
    {
     "data": {
      "text/plain": [
       "(1765, 6)"
      ]
     },
     "execution_count": 4,
     "metadata": {},
     "output_type": "execute_result"
    }
   ],
   "source": [
    "Facebook.shape"
   ]
  },
  {
   "cell_type": "code",
   "execution_count": 5,
   "metadata": {},
   "outputs": [
    {
     "data": {
      "text/plain": [
       "(1700, 6)"
      ]
     },
     "execution_count": 5,
     "metadata": {},
     "output_type": "execute_result"
    }
   ],
   "source": [
    "Facebook_train = Facebook.iloc[:1700, :]\n",
    "Facebook_train.shape"
   ]
  },
  {
   "cell_type": "code",
   "execution_count": 6,
   "metadata": {},
   "outputs": [
    {
     "data": {
      "text/plain": [
       "(65, 6)"
      ]
     },
     "execution_count": 6,
     "metadata": {},
     "output_type": "execute_result"
    }
   ],
   "source": [
    "Facebook_test = Facebook.iloc[1700:, :]\n",
    "Facebook_test.shape"
   ]
  },
  {
   "cell_type": "code",
   "execution_count": 7,
   "metadata": {},
   "outputs": [
    {
     "data": {
      "text/plain": [
       "array([[ 42.04999924],\n",
       "       [ 36.52999878],\n",
       "       [ 32.61000061],\n",
       "       ...,\n",
       "       [160.5       ],\n",
       "       [162.25      ],\n",
       "       [161.92999268]])"
      ]
     },
     "execution_count": 7,
     "metadata": {},
     "output_type": "execute_result"
    }
   ],
   "source": [
    "training_set = Facebook.iloc[:1700, 2:3].values\n",
    "training_set"
   ]
  },
  {
   "cell_type": "code",
   "execution_count": 8,
   "metadata": {},
   "outputs": [],
   "source": [
    "# Feature Scaling\n",
    "from sklearn.preprocessing import MinMaxScaler\n",
    "sc = MinMaxScaler(feature_range = (0, 1))\n",
    "training_set_scaled = sc.fit_transform(training_set)\n",
    "\n",
    "# Creating a data structure with 60 timesteps and 1 output\n",
    "X_train = []\n",
    "y_train = []\n",
    "for i in range(60, 1699):\n",
    "    X_train.append(training_set_scaled[i-60:i, 0])\n",
    "    y_train.append(training_set_scaled[i, 0])\n",
    "X_train, y_train = np.array(X_train), np.array(y_train)\n",
    "\n",
    "# Reshaping\n",
    "X_train = np.reshape(X_train, (X_train.shape[0], X_train.shape[1], 1))"
   ]
  },
  {
   "cell_type": "code",
   "execution_count": 9,
   "metadata": {},
   "outputs": [
    {
     "name": "stderr",
     "output_type": "stream",
     "text": [
      "Using TensorFlow backend.\n"
     ]
    },
    {
     "name": "stdout",
     "output_type": "stream",
     "text": [
      "WARNING:tensorflow:From C:\\Users\\Christy\\Anaconda3\\lib\\site-packages\\tensorflow\\python\\framework\\op_def_library.py:263: colocate_with (from tensorflow.python.framework.ops) is deprecated and will be removed in a future version.\n",
      "Instructions for updating:\n",
      "Colocations handled automatically by placer.\n",
      "WARNING:tensorflow:From C:\\Users\\Christy\\Anaconda3\\lib\\site-packages\\keras\\backend\\tensorflow_backend.py:3445: calling dropout (from tensorflow.python.ops.nn_ops) with keep_prob is deprecated and will be removed in a future version.\n",
      "Instructions for updating:\n",
      "Please use `rate` instead of `keep_prob`. Rate should be set to `rate = 1 - keep_prob`.\n"
     ]
    },
    {
     "name": "stderr",
     "output_type": "stream",
     "text": [
      "C:\\Users\\Christy\\Anaconda3\\lib\\site-packages\\dask\\config.py:168: YAMLLoadWarning: calling yaml.load() without Loader=... is deprecated, as the default Loader is unsafe. Please read https://msg.pyyaml.org/load for full details.\n",
      "  data = yaml.load(f.read()) or {}\n"
     ]
    },
    {
     "name": "stdout",
     "output_type": "stream",
     "text": [
      "WARNING:tensorflow:From C:\\Users\\Christy\\Anaconda3\\lib\\site-packages\\tensorflow\\python\\ops\\math_ops.py:3066: to_int32 (from tensorflow.python.ops.math_ops) is deprecated and will be removed in a future version.\n",
      "Instructions for updating:\n",
      "Use tf.cast instead.\n",
      "Epoch 1/100\n",
      "1639/1639 [==============================] - 47s 29ms/step - loss: 0.0265\n",
      "\n",
      "Epoch 00001: loss improved from inf to 0.02652, saving model to weights.h5\n",
      "Epoch 2/100\n",
      "1639/1639 [==============================] - 36s 22ms/step - loss: 0.0037\n",
      "\n",
      "Epoch 00002: loss improved from 0.02652 to 0.00373, saving model to weights.h5\n",
      "Epoch 3/100\n",
      "1639/1639 [==============================] - 37s 23ms/step - loss: 0.0035\n",
      "\n",
      "Epoch 00003: loss improved from 0.00373 to 0.00355, saving model to weights.h5\n",
      "Epoch 4/100\n",
      "1639/1639 [==============================] - 37s 23ms/step - loss: 0.0032\n",
      "\n",
      "Epoch 00004: loss improved from 0.00355 to 0.00321, saving model to weights.h5\n",
      "Epoch 5/100\n",
      "1639/1639 [==============================] - 37s 23ms/step - loss: 0.0029\n",
      "\n",
      "Epoch 00005: loss improved from 0.00321 to 0.00291, saving model to weights.h5\n",
      "Epoch 6/100\n",
      "1639/1639 [==============================] - 37s 23ms/step - loss: 0.0028\n",
      "\n",
      "Epoch 00006: loss improved from 0.00291 to 0.00282, saving model to weights.h5\n",
      "Epoch 7/100\n",
      "1639/1639 [==============================] - 38s 23ms/step - loss: 0.0031\n",
      "\n",
      "Epoch 00007: loss did not improve from 0.00282\n",
      "Epoch 8/100\n",
      "1639/1639 [==============================] - 37s 23ms/step - loss: 0.0028\n",
      "\n",
      "Epoch 00008: loss did not improve from 0.00282\n",
      "Epoch 9/100\n",
      "1639/1639 [==============================] - 37s 23ms/step - loss: 0.0025\n",
      "\n",
      "Epoch 00009: loss improved from 0.00282 to 0.00254, saving model to weights.h5\n",
      "Epoch 10/100\n",
      "1639/1639 [==============================] - 36s 22ms/step - loss: 0.0027\n",
      "\n",
      "Epoch 00010: loss did not improve from 0.00254\n",
      "Epoch 11/100\n",
      "1639/1639 [==============================] - 37s 22ms/step - loss: 0.0025\n",
      "\n",
      "Epoch 00011: loss did not improve from 0.00254\n",
      "Epoch 12/100\n",
      "1639/1639 [==============================] - 36s 22ms/step - loss: 0.0022\n",
      "\n",
      "Epoch 00012: loss improved from 0.00254 to 0.00219, saving model to weights.h5\n",
      "Epoch 13/100\n",
      "1639/1639 [==============================] - 37s 22ms/step - loss: 0.0026\n",
      "\n",
      "Epoch 00013: loss did not improve from 0.00219\n",
      "Epoch 14/100\n",
      "1639/1639 [==============================] - 37s 23ms/step - loss: 0.0023\n",
      "\n",
      "Epoch 00014: loss did not improve from 0.00219\n",
      "Epoch 15/100\n",
      "1639/1639 [==============================] - 37s 23ms/step - loss: 0.0026\n",
      "\n",
      "Epoch 00015: loss did not improve from 0.00219\n",
      "Epoch 16/100\n",
      "1639/1639 [==============================] - 37s 22ms/step - loss: 0.0021\n",
      "\n",
      "Epoch 00016: loss improved from 0.00219 to 0.00214, saving model to weights.h5\n",
      "Epoch 17/100\n",
      "1639/1639 [==============================] - 37s 23ms/step - loss: 0.0023\n",
      "\n",
      "Epoch 00017: ReduceLROnPlateau reducing learning rate to 0.0005000000237487257.\n",
      "\n",
      "Epoch 00017: loss did not improve from 0.00214\n",
      "Epoch 18/100\n",
      "1639/1639 [==============================] - 37s 22ms/step - loss: 0.0022\n",
      "\n",
      "Epoch 00018: loss did not improve from 0.00214\n",
      "Epoch 19/100\n",
      "1639/1639 [==============================] - 37s 23ms/step - loss: 0.0024\n",
      "\n",
      "Epoch 00019: loss did not improve from 0.00214\n",
      "Epoch 20/100\n",
      "1639/1639 [==============================] - 37s 23ms/step - loss: 0.0022\n",
      "\n",
      "Epoch 00020: loss did not improve from 0.00214\n",
      "Epoch 21/100\n",
      "1639/1639 [==============================] - 32s 19ms/step - loss: 0.0021\n",
      "\n",
      "Epoch 00021: loss improved from 0.00214 to 0.00212, saving model to weights.h5\n",
      "Epoch 22/100\n",
      "1639/1639 [==============================] - 25s 15ms/step - loss: 0.0021\n",
      "\n",
      "Epoch 00022: loss improved from 0.00212 to 0.00205, saving model to weights.h5\n",
      "Epoch 23/100\n",
      "1639/1639 [==============================] - 24s 15ms/step - loss: 0.0022\n",
      "\n",
      "Epoch 00023: loss did not improve from 0.00205\n",
      "Epoch 24/100\n",
      "1639/1639 [==============================] - 24s 15ms/step - loss: 0.0020\n",
      "\n",
      "Epoch 00024: loss improved from 0.00205 to 0.00204, saving model to weights.h5\n",
      "Epoch 25/100\n",
      "1639/1639 [==============================] - 25s 15ms/step - loss: 0.0019\n",
      "\n",
      "Epoch 00025: loss improved from 0.00204 to 0.00185, saving model to weights.h5\n",
      "Epoch 26/100\n",
      "1639/1639 [==============================] - 24s 15ms/step - loss: 0.0020\n",
      "\n",
      "Epoch 00026: loss did not improve from 0.00185\n",
      "Epoch 27/100\n",
      "1639/1639 [==============================] - 24s 15ms/step - loss: 0.0018\n",
      "\n",
      "Epoch 00027: loss improved from 0.00185 to 0.00185, saving model to weights.h5\n",
      "Epoch 28/100\n",
      "1639/1639 [==============================] - 24s 15ms/step - loss: 0.0019\n",
      "\n",
      "Epoch 00028: loss did not improve from 0.00185\n",
      "Epoch 29/100\n",
      "1639/1639 [==============================] - 24s 15ms/step - loss: 0.0019\n",
      "\n",
      "Epoch 00029: loss did not improve from 0.00185\n",
      "Epoch 30/100\n",
      "1639/1639 [==============================] - 24s 15ms/step - loss: 0.0018\n",
      "\n",
      "Epoch 00030: ReduceLROnPlateau reducing learning rate to 0.0002500000118743628.\n",
      "\n",
      "Epoch 00030: loss improved from 0.00185 to 0.00179, saving model to weights.h5\n",
      "Epoch 31/100\n",
      "1639/1639 [==============================] - 25s 15ms/step - loss: 0.0018\n",
      "\n",
      "Epoch 00031: loss did not improve from 0.00179\n",
      "Epoch 32/100\n",
      "1639/1639 [==============================] - 24s 15ms/step - loss: 0.0018\n",
      "\n",
      "Epoch 00032: loss did not improve from 0.00179\n",
      "Epoch 33/100\n",
      "1639/1639 [==============================] - 24s 15ms/step - loss: 0.0017\n",
      "\n",
      "Epoch 00033: loss improved from 0.00179 to 0.00168, saving model to weights.h5\n",
      "Epoch 34/100\n",
      "1639/1639 [==============================] - 24s 15ms/step - loss: 0.0018\n",
      "\n",
      "Epoch 00034: loss did not improve from 0.00168\n",
      "Epoch 35/100\n",
      "1639/1639 [==============================] - 24s 15ms/step - loss: 0.0019\n",
      "\n",
      "Epoch 00035: loss did not improve from 0.00168\n",
      "Epoch 36/100\n",
      "1639/1639 [==============================] - 24s 15ms/step - loss: 0.0020\n",
      "\n",
      "Epoch 00036: loss did not improve from 0.00168\n",
      "Epoch 37/100\n",
      "1639/1639 [==============================] - 25s 15ms/step - loss: 0.0017\n",
      "\n",
      "Epoch 00037: loss improved from 0.00168 to 0.00166, saving model to weights.h5\n",
      "Epoch 38/100\n",
      "1639/1639 [==============================] - 24s 15ms/step - loss: 0.0018\n",
      "\n",
      "Epoch 00038: ReduceLROnPlateau reducing learning rate to 0.0001250000059371814.\n",
      "\n",
      "Epoch 00038: loss did not improve from 0.00166\n",
      "Epoch 39/100\n",
      "1639/1639 [==============================] - 25s 15ms/step - loss: 0.0017\n",
      "\n",
      "Epoch 00039: loss did not improve from 0.00166\n",
      "Epoch 40/100\n",
      "1639/1639 [==============================] - 24s 15ms/step - loss: 0.0016\n",
      "\n",
      "Epoch 00040: loss improved from 0.00166 to 0.00161, saving model to weights.h5\n",
      "Epoch 41/100\n",
      "1639/1639 [==============================] - 24s 15ms/step - loss: 0.0017\n",
      "\n",
      "Epoch 00041: loss did not improve from 0.00161\n",
      "Epoch 42/100\n",
      "1639/1639 [==============================] - 26s 16ms/step - loss: 0.0019\n",
      "\n",
      "Epoch 00042: loss did not improve from 0.00161\n",
      "Epoch 43/100\n",
      "1639/1639 [==============================] - 24s 15ms/step - loss: 0.0017\n",
      "\n",
      "Epoch 00043: ReduceLROnPlateau reducing learning rate to 6.25000029685907e-05.\n",
      "\n",
      "Epoch 00043: loss did not improve from 0.00161\n",
      "Epoch 44/100\n",
      "1639/1639 [==============================] - 24s 15ms/step - loss: 0.0015\n",
      "\n",
      "Epoch 00044: loss improved from 0.00161 to 0.00155, saving model to weights.h5\n",
      "Epoch 45/100\n",
      "1639/1639 [==============================] - 24s 15ms/step - loss: 0.0017\n",
      "\n",
      "Epoch 00045: loss did not improve from 0.00155\n",
      "Epoch 46/100\n",
      "1639/1639 [==============================] - 24s 15ms/step - loss: 0.0016\n",
      "\n",
      "Epoch 00046: loss did not improve from 0.00155\n",
      "Epoch 47/100\n",
      "1639/1639 [==============================] - 24s 15ms/step - loss: 0.0017\n",
      "\n",
      "Epoch 00047: loss did not improve from 0.00155\n",
      "Epoch 48/100\n",
      "1639/1639 [==============================] - 24s 15ms/step - loss: 0.0017\n",
      "\n",
      "Epoch 00048: loss did not improve from 0.00155\n",
      "Epoch 49/100\n",
      "1639/1639 [==============================] - 25s 15ms/step - loss: 0.0017\n",
      "\n",
      "Epoch 00049: ReduceLROnPlateau reducing learning rate to 3.125000148429535e-05.\n",
      "\n",
      "Epoch 00049: loss did not improve from 0.00155\n",
      "Epoch 00049: early stopping\n"
     ]
    }
   ],
   "source": [
    "# Part 2 - Building the RNN\n",
    "\n",
    "# Importing the Keras libraries and packages\n",
    "from keras.models import Sequential\n",
    "from keras.layers import Dense\n",
    "from keras.layers import LSTM\n",
    "from keras.layers import Dropout\n",
    "from keras.callbacks import EarlyStopping, ReduceLROnPlateau, ModelCheckpoint, TensorBoard\n",
    "\n",
    "# Initialising the RNN\n",
    "regressor = Sequential()\n",
    "\n",
    "# Adding the first LSTM layer and some Dropout regularisation\n",
    "regressor.add(LSTM(units = 50, return_sequences = True, input_shape = (X_train.shape[1], 1)))\n",
    "regressor.add(Dropout(0.2))\n",
    "\n",
    "# Adding a second LSTM layer and some Dropout regularisation\n",
    "regressor.add(LSTM(units = 50, return_sequences = True))\n",
    "regressor.add(Dropout(0.2))\n",
    "\n",
    "# Adding a third LSTM layer and some Dropout regularisation\n",
    "regressor.add(LSTM(units = 50, return_sequences = True))\n",
    "regressor.add(Dropout(0.2))\n",
    "\n",
    "# Adding a fourth LSTM layer and some Dropout regularisation\n",
    "regressor.add(LSTM(units = 50))\n",
    "regressor.add(Dropout(0.2))\n",
    "\n",
    "# Adding the output layer\n",
    "regressor.add(Dense(units = 1))\n",
    "\n",
    "# Compiling the RNN\n",
    "regressor.compile(optimizer = 'adam', loss = 'mean_squared_error')\n",
    "\n",
    "\n",
    "# Fitting the RNN to the Training set using Keras Callbacks\n",
    "es = EarlyStopping(monitor='loss', mode='min', min_delta=1e-10, patience=5, verbose=1)\n",
    "rlr = ReduceLROnPlateau(monitor='loss', factor=0.5, patience=5, verbose=1)\n",
    "mcp = ModelCheckpoint(filepath='weights.h5', monitor='loss', verbose=1, save_best_only=True, save_weights_only=True)\n",
    "tb = TensorBoard('logs')\n",
    "history = regressor.fit(X_train, y_train, shuffle=True, epochs = 100, callbacks=[es, rlr,mcp, tb],batch_size = 32)"
   ]
  },
  {
   "cell_type": "code",
   "execution_count": 10,
   "metadata": {},
   "outputs": [],
   "source": [
    "# Part 3 - Making the predictions and visualising the results\n",
    "\n",
    "# Getting the real recent stock price until May 2019\n",
    "real_stock_price = Facebook_test.iloc[:, 2:3].values"
   ]
  },
  {
   "cell_type": "code",
   "execution_count": 11,
   "metadata": {},
   "outputs": [],
   "source": [
    "# Getting the predicted stock price until May 2019\n",
    "Facebook_total = pd.concat((Facebook_train['Close'], Facebook_test['Close']), axis = 0)\n",
    "inputs = Facebook_total[len(Facebook_total) - len(Facebook_test) - 60:].values\n",
    "inputs = inputs.reshape(-1,1)\n",
    "inputs = sc.transform(inputs)\n",
    "X_test = []\n",
    "for i in range(60, 125):\n",
    "    X_test.append(inputs[i-60:i, 0])\n",
    "X_test = np.array(X_test)\n",
    "X_test = np.reshape(X_test, (X_test.shape[0], X_test.shape[1], 1))\n",
    "predicted_stock_price = regressor.predict(X_test)\n",
    "predicted_stock_price = sc.inverse_transform(predicted_stock_price)"
   ]
  },
  {
   "cell_type": "code",
   "execution_count": 12,
   "metadata": {},
   "outputs": [
    {
     "data": {
      "image/png": "[encoded data removed]",
      "text/plain": [
       "<Figure size 432x288 with 1 Axes>"
      ]
     },
     "metadata": {
      "needs_background": "light"
     },
     "output_type": "display_data"
    }
   ],
   "source": [
    "# Visualising the results\n",
    "plt.plot(real_stock_price, color = 'red', label = 'Real Facebook Stock Price')\n",
    "plt.plot(predicted_stock_price, color = 'blue', label = 'Predicted Facebook Stock Price')\n",
    "plt.title('Facebook Stock Price prediction')\n",
    "plt.xlabel('Days')\n",
    "plt.ylabel('Facebook Stock Price')\n",
    "plt.legend()\n",
    "plt.show()"
   ]
  },
  {
   "cell_type": "code",
   "execution_count": 13,
   "metadata": {},
   "outputs": [
    {
     "data": {
      "text/plain": [
       "8.146126451297025"
      ]
     },
     "execution_count": 13,
     "metadata": {},
     "output_type": "execute_result"
    }
   ],
   "source": [
    "#Evaluating the RNN\n",
    "import math\n",
    "from sklearn.metrics import mean_squared_error\n",
    "rmse = math.sqrt(mean_squared_error(real_stock_price, predicted_stock_price))\n",
    "rmse"
   ]
  },
  {
   "cell_type": "code",
   "execution_count": 14,
   "metadata": {},
   "outputs": [
    {
     "name": "stdout",
     "output_type": "stream",
     "text": [
      "relative error:  [0.22379472]\n"
     ]
    }
   ],
   "source": [
    "min_val=min(real_stock_price)\n",
    "max_val=max(real_stock_price)\n",
    "print (\"relative error: \", rmse/(max_val-min_val))"
   ]
  },
  {
   "cell_type": "code",
   "execution_count": 15,
   "metadata": {},
   "outputs": [
    {
     "data": {
      "image/png": "[encoded data removed]",
      "text/plain": [
       "<Figure size 432x288 with 1 Axes>"
      ]
     },
     "metadata": {
      "needs_background": "light"
     },
     "output_type": "display_data"
    }
   ],
   "source": [
    "# Visualising the results\n",
    " \n",
    "shift_pred= predicted_stock_price[:-1]\n",
    "shift_pred = np.append(0, np.reshape(shift_pred, len(shift_pred)))\n",
    "shift_real = real_stock_price[:-1]\n",
    "shift_real = np.append(0, np.reshape(shift_real, len(shift_real)))\n",
    " \n",
    "dif_pred = np.add(np.reshape(predicted_stock_price, len(predicted_stock_price)), - shift_pred)[1:]\n",
    "dif_real = np.add(np.reshape(real_stock_price, len(real_stock_price)), - shift_real)[1:]\n",
    " \n",
    "fig, ax = plt.subplots()\n",
    "ind = np.arange(dif_real.size)\n",
    "real_bar = ax.bar(ind-0.15, dif_real, width=0.3, color = 'red', label = 'Real Difference')\n",
    "pred_bar = ax.bar(ind+0.15, dif_pred, width=0.3, color = 'blue', label = 'Predicted Difference')\n",
    "ax.set_title('Facebook Stock Price Prediction')\n",
    "ax.set_xlabel('Days')\n",
    "ax.set_ylabel('Facebook Stock Price')\n",
    "ax.legend()\n",
    "plt.show()"
   ]
  }
 ],
 "metadata": {
  "kernelspec": {
   "display_name": "Python 3",
   "language": "python",
   "name": "python3"
  },
  "language_info": {
   "codemirror_mode": {
    "name": "ipython",
    "version": 3
   },
   "file_extension": ".py",
   "mimetype": "text/x-python",
   "name": "python",
   "nbconvert_exporter": "python",
   "pygments_lexer": "ipython3",
   "version": "3.7.3"
  }
 },
 "nbformat": 4,
 "nbformat_minor": 2
}
