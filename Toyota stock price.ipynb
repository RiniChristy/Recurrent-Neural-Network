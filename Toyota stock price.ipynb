{
 "cells": [
  {
   "cell_type": "code",
   "execution_count": 1,
   "metadata": {},
   "outputs": [],
   "source": [
    "from pandas_datareader import data, wb\n",
    "import pandas as pd\n",
    "import numpy as np\n",
    "import datetime\n",
    "import matplotlib.pyplot as plt\n",
    "%matplotlib inline\n",
    "import seaborn as sns"
   ]
  },
  {
   "cell_type": "code",
   "execution_count": 2,
   "metadata": {},
   "outputs": [
    {
     "data": {
      "text/html": [
       "<div>\n",
       "<style scoped>\n",
       "    .dataframe tbody tr th:only-of-type {\n",
       "        vertical-align: middle;\n",
       "    }\n",
       "\n",
       "    .dataframe tbody tr th {\n",
       "        vertical-align: top;\n",
       "    }\n",
       "\n",
       "    .dataframe thead th {\n",
       "        text-align: right;\n",
       "    }\n",
       "</style>\n",
       "<table border=\"1\" class=\"dataframe\">\n",
       "  <thead>\n",
       "    <tr style=\"text-align: right;\">\n",
       "      <th></th>\n",
       "      <th>High</th>\n",
       "      <th>Low</th>\n",
       "      <th>Open</th>\n",
       "      <th>Close</th>\n",
       "      <th>Volume</th>\n",
       "      <th>Adj Close</th>\n",
       "    </tr>\n",
       "    <tr>\n",
       "      <th>Date</th>\n",
       "      <th></th>\n",
       "      <th></th>\n",
       "      <th></th>\n",
       "      <th></th>\n",
       "      <th></th>\n",
       "      <th></th>\n",
       "    </tr>\n",
       "  </thead>\n",
       "  <tbody>\n",
       "    <tr>\n",
       "      <th>1976-08-18</th>\n",
       "      <td>2.562200</td>\n",
       "      <td>2.562200</td>\n",
       "      <td>2.562200</td>\n",
       "      <td>2.562200</td>\n",
       "      <td>19500.0</td>\n",
       "      <td>1.510903</td>\n",
       "    </tr>\n",
       "    <tr>\n",
       "      <th>1976-08-19</th>\n",
       "      <td>2.549578</td>\n",
       "      <td>2.549578</td>\n",
       "      <td>2.549578</td>\n",
       "      <td>2.549578</td>\n",
       "      <td>500.0</td>\n",
       "      <td>1.503460</td>\n",
       "    </tr>\n",
       "    <tr>\n",
       "      <th>1976-08-20</th>\n",
       "      <td>2.536956</td>\n",
       "      <td>2.536956</td>\n",
       "      <td>2.536956</td>\n",
       "      <td>2.536956</td>\n",
       "      <td>8000.0</td>\n",
       "      <td>1.496017</td>\n",
       "    </tr>\n",
       "    <tr>\n",
       "      <th>1976-08-23</th>\n",
       "      <td>2.461226</td>\n",
       "      <td>2.461226</td>\n",
       "      <td>2.461226</td>\n",
       "      <td>2.461226</td>\n",
       "      <td>1000.0</td>\n",
       "      <td>1.451360</td>\n",
       "    </tr>\n",
       "    <tr>\n",
       "      <th>1976-08-24</th>\n",
       "      <td>2.435982</td>\n",
       "      <td>2.435982</td>\n",
       "      <td>2.435982</td>\n",
       "      <td>2.435982</td>\n",
       "      <td>7500.0</td>\n",
       "      <td>1.436473</td>\n",
       "    </tr>\n",
       "  </tbody>\n",
       "</table>\n",
       "</div>"
      ],
      "text/plain": [
       "                High       Low      Open     Close   Volume  Adj Close\n",
       "Date                                                                  \n",
       "1976-08-18  2.562200  2.562200  2.562200  2.562200  19500.0   1.510903\n",
       "1976-08-19  2.549578  2.549578  2.549578  2.549578    500.0   1.503460\n",
       "1976-08-20  2.536956  2.536956  2.536956  2.536956   8000.0   1.496017\n",
       "1976-08-23  2.461226  2.461226  2.461226  2.461226   1000.0   1.451360\n",
       "1976-08-24  2.435982  2.435982  2.435982  2.435982   7500.0   1.436473"
      ]
     },
     "execution_count": 2,
     "metadata": {},
     "output_type": "execute_result"
    }
   ],
   "source": [
    "Toyota = data.DataReader(\"TM\", data_source=\"yahoo\", start = \"1976-08-01\", end = \"2019-06-01\")\n",
    "Toyota.head()"
   ]
  },
  {
   "cell_type": "code",
   "execution_count": 3,
   "metadata": {},
   "outputs": [
    {
     "data": {
      "text/html": [
       "<div>\n",
       "<style scoped>\n",
       "    .dataframe tbody tr th:only-of-type {\n",
       "        vertical-align: middle;\n",
       "    }\n",
       "\n",
       "    .dataframe tbody tr th {\n",
       "        vertical-align: top;\n",
       "    }\n",
       "\n",
       "    .dataframe thead th {\n",
       "        text-align: right;\n",
       "    }\n",
       "</style>\n",
       "<table border=\"1\" class=\"dataframe\">\n",
       "  <thead>\n",
       "    <tr style=\"text-align: right;\">\n",
       "      <th></th>\n",
       "      <th>High</th>\n",
       "      <th>Low</th>\n",
       "      <th>Open</th>\n",
       "      <th>Close</th>\n",
       "      <th>Volume</th>\n",
       "      <th>Adj Close</th>\n",
       "    </tr>\n",
       "    <tr>\n",
       "      <th>Date</th>\n",
       "      <th></th>\n",
       "      <th></th>\n",
       "      <th></th>\n",
       "      <th></th>\n",
       "      <th></th>\n",
       "      <th></th>\n",
       "    </tr>\n",
       "  </thead>\n",
       "  <tbody>\n",
       "    <tr>\n",
       "      <th>2019-05-20</th>\n",
       "      <td>118.790001</td>\n",
       "      <td>117.879997</td>\n",
       "      <td>118.120003</td>\n",
       "      <td>118.110001</td>\n",
       "      <td>156300.0</td>\n",
       "      <td>118.110001</td>\n",
       "    </tr>\n",
       "    <tr>\n",
       "      <th>2019-05-21</th>\n",
       "      <td>118.389999</td>\n",
       "      <td>117.459999</td>\n",
       "      <td>117.849998</td>\n",
       "      <td>118.250000</td>\n",
       "      <td>124300.0</td>\n",
       "      <td>118.250000</td>\n",
       "    </tr>\n",
       "    <tr>\n",
       "      <th>2019-05-22</th>\n",
       "      <td>117.980003</td>\n",
       "      <td>117.269997</td>\n",
       "      <td>117.779999</td>\n",
       "      <td>117.320000</td>\n",
       "      <td>107600.0</td>\n",
       "      <td>117.320000</td>\n",
       "    </tr>\n",
       "    <tr>\n",
       "      <th>2019-05-23</th>\n",
       "      <td>117.860001</td>\n",
       "      <td>117.050003</td>\n",
       "      <td>117.379997</td>\n",
       "      <td>117.470001</td>\n",
       "      <td>116500.0</td>\n",
       "      <td>117.470001</td>\n",
       "    </tr>\n",
       "    <tr>\n",
       "      <th>2019-05-24</th>\n",
       "      <td>118.879997</td>\n",
       "      <td>118.040001</td>\n",
       "      <td>118.839996</td>\n",
       "      <td>118.550003</td>\n",
       "      <td>120743.0</td>\n",
       "      <td>118.550003</td>\n",
       "    </tr>\n",
       "  </tbody>\n",
       "</table>\n",
       "</div>"
      ],
      "text/plain": [
       "                  High         Low        Open       Close    Volume  \\\n",
       "Date                                                                   \n",
       "2019-05-20  118.790001  117.879997  118.120003  118.110001  156300.0   \n",
       "2019-05-21  118.389999  117.459999  117.849998  118.250000  124300.0   \n",
       "2019-05-22  117.980003  117.269997  117.779999  117.320000  107600.0   \n",
       "2019-05-23  117.860001  117.050003  117.379997  117.470001  116500.0   \n",
       "2019-05-24  118.879997  118.040001  118.839996  118.550003  120743.0   \n",
       "\n",
       "             Adj Close  \n",
       "Date                    \n",
       "2019-05-20  118.110001  \n",
       "2019-05-21  118.250000  \n",
       "2019-05-22  117.320000  \n",
       "2019-05-23  117.470001  \n",
       "2019-05-24  118.550003  "
      ]
     },
     "execution_count": 3,
     "metadata": {},
     "output_type": "execute_result"
    }
   ],
   "source": [
    "Toyota.tail()"
   ]
  },
  {
   "cell_type": "code",
   "execution_count": 4,
   "metadata": {},
   "outputs": [
    {
     "data": {
      "text/plain": [
       "(10786, 6)"
      ]
     },
     "execution_count": 4,
     "metadata": {},
     "output_type": "execute_result"
    }
   ],
   "source": [
    "Toyota.shape"
   ]
  },
  {
   "cell_type": "code",
   "execution_count": 5,
   "metadata": {},
   "outputs": [
    {
     "data": {
      "text/plain": [
       "(10600, 6)"
      ]
     },
     "execution_count": 5,
     "metadata": {},
     "output_type": "execute_result"
    }
   ],
   "source": [
    "Toyota_train = Toyota.iloc[:10600, :]\n",
    "Toyota_train.shape"
   ]
  },
  {
   "cell_type": "code",
   "execution_count": 6,
   "metadata": {},
   "outputs": [
    {
     "data": {
      "text/plain": [
       "(186, 6)"
      ]
     },
     "execution_count": 6,
     "metadata": {},
     "output_type": "execute_result"
    }
   ],
   "source": [
    "Toyota_test = Toyota.iloc[10600:, :]\n",
    "Toyota_test.shape"
   ]
  },
  {
   "cell_type": "code",
   "execution_count": 7,
   "metadata": {},
   "outputs": [
    {
     "data": {
      "text/plain": [
       "array([[  2.56220007],\n",
       "       [  2.54957819],\n",
       "       [  2.53695607],\n",
       "       ...,\n",
       "       [123.23999786],\n",
       "       [123.01999664],\n",
       "       [125.61000061]])"
      ]
     },
     "execution_count": 7,
     "metadata": {},
     "output_type": "execute_result"
    }
   ],
   "source": [
    "training_set = Toyota.iloc[:10600, 2:3].values\n",
    "training_set"
   ]
  },
  {
   "cell_type": "code",
   "execution_count": 8,
   "metadata": {},
   "outputs": [],
   "source": [
    "# Feature Scaling\n",
    "from sklearn.preprocessing import MinMaxScaler\n",
    "sc = MinMaxScaler(feature_range = (0, 1))\n",
    "training_set_scaled = sc.fit_transform(training_set)\n",
    "\n",
    "# Creating a data structure with 60 timesteps and 1 output\n",
    "X_train = []\n",
    "y_train = []\n",
    "for i in range(60, 9999):\n",
    "    X_train.append(training_set_scaled[i-60:i, 0])\n",
    "    y_train.append(training_set_scaled[i, 0])\n",
    "X_train, y_train = np.array(X_train), np.array(y_train)\n",
    "\n",
    "# Reshaping\n",
    "X_train = np.reshape(X_train, (X_train.shape[0], X_train.shape[1], 1))"
   ]
  },
  {
   "cell_type": "code",
   "execution_count": 9,
   "metadata": {},
   "outputs": [
    {
     "name": "stderr",
     "output_type": "stream",
     "text": [
      "Using TensorFlow backend.\n"
     ]
    },
    {
     "name": "stdout",
     "output_type": "stream",
     "text": [
      "WARNING:tensorflow:From C:\\Users\\Christy\\Anaconda3\\lib\\site-packages\\tensorflow\\python\\framework\\op_def_library.py:263: colocate_with (from tensorflow.python.framework.ops) is deprecated and will be removed in a future version.\n",
      "Instructions for updating:\n",
      "Colocations handled automatically by placer.\n",
      "WARNING:tensorflow:From C:\\Users\\Christy\\Anaconda3\\lib\\site-packages\\keras\\backend\\tensorflow_backend.py:3445: calling dropout (from tensorflow.python.ops.nn_ops) with keep_prob is deprecated and will be removed in a future version.\n",
      "Instructions for updating:\n",
      "Please use `rate` instead of `keep_prob`. Rate should be set to `rate = 1 - keep_prob`.\n"
     ]
    },
    {
     "name": "stderr",
     "output_type": "stream",
     "text": [
      "C:\\Users\\Christy\\Anaconda3\\lib\\site-packages\\dask\\config.py:168: YAMLLoadWarning: calling yaml.load() without Loader=... is deprecated, as the default Loader is unsafe. Please read https://msg.pyyaml.org/load for full details.\n",
      "  data = yaml.load(f.read()) or {}\n"
     ]
    },
    {
     "name": "stdout",
     "output_type": "stream",
     "text": [
      "WARNING:tensorflow:From C:\\Users\\Christy\\Anaconda3\\lib\\site-packages\\tensorflow\\python\\ops\\math_ops.py:3066: to_int32 (from tensorflow.python.ops.math_ops) is deprecated and will be removed in a future version.\n",
      "Instructions for updating:\n",
      "Use tf.cast instead.\n",
      "Epoch 1/50\n",
      "9939/9939 [==============================] - 34s 3ms/step - loss: 0.0165\n",
      "\n",
      "Epoch 00001: loss improved from inf to 0.01648, saving model to weights.h5\n",
      "Epoch 2/50\n",
      "9939/9939 [==============================] - 29s 3ms/step - loss: 0.0010\n",
      "\n",
      "Epoch 00002: loss improved from 0.01648 to 0.00103, saving model to weights.h5\n",
      "Epoch 3/50\n",
      "9939/9939 [==============================] - 29s 3ms/step - loss: 8.2470e-04\n",
      "\n",
      "Epoch 00003: loss improved from 0.00103 to 0.00082, saving model to weights.h5\n",
      "Epoch 4/50\n",
      "9939/9939 [==============================] - 29s 3ms/step - loss: 7.9555e-04\n",
      "\n",
      "Epoch 00004: loss improved from 0.00082 to 0.00080, saving model to weights.h5\n",
      "Epoch 5/50\n",
      "9939/9939 [==============================] - 29s 3ms/step - loss: 7.5468e-04\n",
      "\n",
      "Epoch 00005: loss improved from 0.00080 to 0.00075, saving model to weights.h5\n",
      "Epoch 6/50\n",
      "9939/9939 [==============================] - 29s 3ms/step - loss: 7.3237e-04\n",
      "\n",
      "Epoch 00006: loss improved from 0.00075 to 0.00073, saving model to weights.h5\n",
      "Epoch 7/50\n",
      "9939/9939 [==============================] - 29s 3ms/step - loss: 6.8261e-04\n",
      "\n",
      "Epoch 00007: loss improved from 0.00073 to 0.00068, saving model to weights.h5\n",
      "Epoch 8/50\n",
      "9939/9939 [==============================] - 29s 3ms/step - loss: 6.7152e-04\n",
      "\n",
      "Epoch 00008: loss improved from 0.00068 to 0.00067, saving model to weights.h5\n",
      "Epoch 9/50\n",
      "9939/9939 [==============================] - 29s 3ms/step - loss: 6.3614e-04\n",
      "\n",
      "Epoch 00009: loss improved from 0.00067 to 0.00064, saving model to weights.h5\n",
      "Epoch 10/50\n",
      "9939/9939 [==============================] - 29s 3ms/step - loss: 6.1641e-04\n",
      "\n",
      "Epoch 00010: loss improved from 0.00064 to 0.00062, saving model to weights.h5\n",
      "Epoch 11/50\n",
      "9939/9939 [==============================] - 29s 3ms/step - loss: 6.1267e-04\n",
      "\n",
      "Epoch 00011: loss improved from 0.00062 to 0.00061, saving model to weights.h5\n",
      "Epoch 12/50\n",
      "9939/9939 [==============================] - 29s 3ms/step - loss: 5.8819e-04\n",
      "\n",
      "Epoch 00012: ReduceLROnPlateau reducing learning rate to 0.0005000000237487257.\n",
      "\n",
      "Epoch 00012: loss improved from 0.00061 to 0.00059, saving model to weights.h5\n",
      "Epoch 13/50\n",
      "9939/9939 [==============================] - 29s 3ms/step - loss: 5.5811e-04\n",
      "\n",
      "Epoch 00013: loss improved from 0.00059 to 0.00056, saving model to weights.h5\n",
      "Epoch 14/50\n",
      "9939/9939 [==============================] - 29s 3ms/step - loss: 5.4973e-04\n",
      "\n",
      "Epoch 00014: loss improved from 0.00056 to 0.00055, saving model to weights.h5\n",
      "Epoch 15/50\n",
      "9939/9939 [==============================] - 28s 3ms/step - loss: 5.3812e-04\n",
      "\n",
      "Epoch 00015: loss improved from 0.00055 to 0.00054, saving model to weights.h5\n",
      "Epoch 16/50\n",
      "9939/9939 [==============================] - 28s 3ms/step - loss: 5.3245e-04\n",
      "\n",
      "Epoch 00016: loss improved from 0.00054 to 0.00053, saving model to weights.h5\n",
      "Epoch 17/50\n",
      "9939/9939 [==============================] - 28s 3ms/step - loss: 5.2683e-04\n",
      "\n",
      "Epoch 00017: loss improved from 0.00053 to 0.00053, saving model to weights.h5\n",
      "Epoch 18/50\n",
      "9939/9939 [==============================] - 28s 3ms/step - loss: 5.2318e-04\n",
      "\n",
      "Epoch 00018: ReduceLROnPlateau reducing learning rate to 0.0002500000118743628.\n",
      "\n",
      "Epoch 00018: loss improved from 0.00053 to 0.00052, saving model to weights.h5\n",
      "Epoch 19/50\n",
      "9939/9939 [==============================] - 28s 3ms/step - loss: 4.8867e-04\n",
      "\n",
      "Epoch 00019: loss improved from 0.00052 to 0.00049, saving model to weights.h5\n",
      "Epoch 20/50\n",
      "9939/9939 [==============================] - 28s 3ms/step - loss: 4.9322e-04\n",
      "\n",
      "Epoch 00020: loss did not improve from 0.00049\n",
      "Epoch 21/50\n",
      "9939/9939 [==============================] - 28s 3ms/step - loss: 4.9733e-04\n",
      "\n",
      "Epoch 00021: loss did not improve from 0.00049\n",
      "Epoch 22/50\n",
      "9939/9939 [==============================] - 28s 3ms/step - loss: 5.0371e-04\n",
      "\n",
      "Epoch 00022: loss did not improve from 0.00049\n",
      "Epoch 23/50\n",
      "9939/9939 [==============================] - 28s 3ms/step - loss: 4.9203e-04\n",
      "\n",
      "Epoch 00023: ReduceLROnPlateau reducing learning rate to 0.0001250000059371814.\n",
      "\n",
      "Epoch 00023: loss did not improve from 0.00049\n",
      "Epoch 24/50\n",
      "9939/9939 [==============================] - 28s 3ms/step - loss: 4.8268e-04\n",
      "\n",
      "Epoch 00024: loss improved from 0.00049 to 0.00048, saving model to weights.h5\n",
      "Epoch 25/50\n",
      "9939/9939 [==============================] - 28s 3ms/step - loss: 4.9468e-04\n",
      "\n",
      "Epoch 00025: loss did not improve from 0.00048\n",
      "Epoch 26/50\n",
      "9939/9939 [==============================] - 28s 3ms/step - loss: 4.7367e-04\n",
      "\n",
      "Epoch 00026: loss improved from 0.00048 to 0.00047, saving model to weights.h5\n",
      "Epoch 27/50\n",
      "9939/9939 [==============================] - 28s 3ms/step - loss: 4.8242e-04\n",
      "\n",
      "Epoch 00027: loss did not improve from 0.00047\n",
      "Epoch 28/50\n",
      "9939/9939 [==============================] - 28s 3ms/step - loss: 4.8999e-04\n",
      "\n",
      "Epoch 00028: ReduceLROnPlateau reducing learning rate to 6.25000029685907e-05.\n",
      "\n",
      "Epoch 00028: loss did not improve from 0.00047\n",
      "Epoch 29/50\n",
      "9939/9939 [==============================] - 28s 3ms/step - loss: 4.7223e-04\n",
      "\n",
      "Epoch 00029: loss improved from 0.00047 to 0.00047, saving model to weights.h5\n",
      "Epoch 30/50\n",
      "9939/9939 [==============================] - 28s 3ms/step - loss: 4.7107e-04\n",
      "\n",
      "Epoch 00030: loss improved from 0.00047 to 0.00047, saving model to weights.h5\n",
      "Epoch 31/50\n",
      "9939/9939 [==============================] - 28s 3ms/step - loss: 4.7319e-04\n",
      "\n",
      "Epoch 00031: loss did not improve from 0.00047\n",
      "Epoch 32/50\n",
      "9939/9939 [==============================] - 28s 3ms/step - loss: 4.7348e-04\n",
      "\n",
      "Epoch 00032: loss did not improve from 0.00047\n",
      "Epoch 33/50\n",
      "9939/9939 [==============================] - 28s 3ms/step - loss: 4.7342e-04\n",
      "\n",
      "Epoch 00033: ReduceLROnPlateau reducing learning rate to 3.125000148429535e-05.\n",
      "\n",
      "Epoch 00033: loss did not improve from 0.00047\n",
      "Epoch 34/50\n",
      "9939/9939 [==============================] - 28s 3ms/step - loss: 4.6405e-04\n",
      "\n",
      "Epoch 00034: loss improved from 0.00047 to 0.00046, saving model to weights.h5\n",
      "Epoch 35/50\n",
      "9939/9939 [==============================] - 28s 3ms/step - loss: 4.6931e-04\n",
      "\n",
      "Epoch 00035: loss did not improve from 0.00046\n",
      "Epoch 36/50\n",
      "9939/9939 [==============================] - 28s 3ms/step - loss: 4.6960e-04\n",
      "\n",
      "Epoch 00036: loss did not improve from 0.00046\n",
      "Epoch 37/50\n",
      "9939/9939 [==============================] - 28s 3ms/step - loss: 4.6114e-04\n",
      "\n",
      "Epoch 00037: loss improved from 0.00046 to 0.00046, saving model to weights.h5\n",
      "Epoch 38/50\n",
      "9939/9939 [==============================] - 28s 3ms/step - loss: 4.6499e-04\n",
      "\n",
      "Epoch 00038: ReduceLROnPlateau reducing learning rate to 1.5625000742147677e-05.\n",
      "\n",
      "Epoch 00038: loss did not improve from 0.00046\n",
      "Epoch 39/50\n",
      "9939/9939 [==============================] - 28s 3ms/step - loss: 4.6516e-04\n",
      "\n",
      "Epoch 00039: loss did not improve from 0.00046\n",
      "Epoch 40/50\n",
      "9939/9939 [==============================] - 28s 3ms/step - loss: 4.6942e-04\n",
      "\n",
      "Epoch 00040: loss did not improve from 0.00046\n",
      "Epoch 41/50\n",
      "9939/9939 [==============================] - 28s 3ms/step - loss: 4.6482e-04\n",
      "\n",
      "Epoch 00041: loss did not improve from 0.00046\n",
      "Epoch 42/50\n",
      "9939/9939 [==============================] - 28s 3ms/step - loss: 4.6116e-04\n",
      "\n",
      "Epoch 00042: loss did not improve from 0.00046\n",
      "Epoch 43/50\n",
      "9939/9939 [==============================] - 28s 3ms/step - loss: 4.6281e-04\n",
      "\n",
      "Epoch 00043: ReduceLROnPlateau reducing learning rate to 7.812500371073838e-06.\n",
      "\n",
      "Epoch 00043: loss did not improve from 0.00046\n",
      "Epoch 44/50\n",
      "9939/9939 [==============================] - 28s 3ms/step - loss: 4.4739e-04\n",
      "\n",
      "Epoch 00044: loss improved from 0.00046 to 0.00045, saving model to weights.h5\n",
      "Epoch 45/50\n",
      "9939/9939 [==============================] - 29s 3ms/step - loss: 4.6259e-04\n",
      "\n",
      "Epoch 00045: loss did not improve from 0.00045\n",
      "Epoch 46/50\n",
      "9939/9939 [==============================] - 28s 3ms/step - loss: 4.5611e-04\n",
      "\n",
      "Epoch 00046: loss did not improve from 0.00045\n",
      "Epoch 47/50\n",
      "9939/9939 [==============================] - 28s 3ms/step - loss: 4.5749e-04\n",
      "\n",
      "Epoch 00047: loss did not improve from 0.00045\n",
      "Epoch 48/50\n",
      "9939/9939 [==============================] - 28s 3ms/step - loss: 4.6014e-04\n",
      "\n",
      "Epoch 00048: loss did not improve from 0.00045\n",
      "Epoch 49/50\n"
     ]
    },
    {
     "name": "stdout",
     "output_type": "stream",
     "text": [
      "9939/9939 [==============================] - 29s 3ms/step - loss: 4.5460e-04\n",
      "\n",
      "Epoch 00049: ReduceLROnPlateau reducing learning rate to 3.906250185536919e-06.\n",
      "\n",
      "Epoch 00049: loss did not improve from 0.00045\n",
      "Epoch 50/50\n",
      "9939/9939 [==============================] - 29s 3ms/step - loss: 4.5874e-04\n",
      "\n",
      "Epoch 00050: loss did not improve from 0.00045\n"
     ]
    }
   ],
   "source": [
    "# Part 2 - Building the RNN\n",
    "\n",
    "# Importing the Keras libraries and packages\n",
    "from keras.models import Sequential\n",
    "from keras.layers import Dense\n",
    "from keras.layers import LSTM\n",
    "from keras.layers import Dropout\n",
    "from keras.callbacks import EarlyStopping, ReduceLROnPlateau, ModelCheckpoint, TensorBoard\n",
    "\n",
    "# Initialising the RNN\n",
    "regressor = Sequential()\n",
    "\n",
    "# Adding the first LSTM layer and some Dropout regularisation\n",
    "regressor.add(LSTM(units = 50, return_sequences = True, input_shape = (X_train.shape[1], 1)))\n",
    "regressor.add(Dropout(0.2))\n",
    "\n",
    "# Adding a second LSTM layer and some Dropout regularisation\n",
    "regressor.add(LSTM(units = 50, return_sequences = True))\n",
    "regressor.add(Dropout(0.2))\n",
    "\n",
    "# Adding a third LSTM layer and some Dropout regularisation\n",
    "regressor.add(LSTM(units = 50, return_sequences = True))\n",
    "regressor.add(Dropout(0.2))\n",
    "\n",
    "# Adding a fourth LSTM layer and some Dropout regularisation\n",
    "regressor.add(LSTM(units = 50))\n",
    "regressor.add(Dropout(0.2))\n",
    "\n",
    "# Adding the output layer\n",
    "regressor.add(Dense(units = 1, activation='sigmoid'))\n",
    "\n",
    "# Compiling the RNN\n",
    "regressor.compile(optimizer = 'adam', loss = 'mean_squared_error')\n",
    "\n",
    "\n",
    "# Fitting the RNN to the Training set using Keras Callbacks\n",
    "es = EarlyStopping(monitor='loss', mode='min', min_delta=1e-10, patience=5, verbose=1)\n",
    "rlr = ReduceLROnPlateau(monitor='loss', factor=0.5, patience=5, verbose=1)\n",
    "mcp = ModelCheckpoint(filepath='weights.h5', monitor='loss', verbose=1, save_best_only=True, save_weights_only=True)\n",
    "tb = TensorBoard('logs')\n",
    "history = regressor.fit(X_train, y_train, shuffle=True, epochs = 50, callbacks=[es, rlr,mcp, tb],batch_size = 128)"
   ]
  },
  {
   "cell_type": "code",
   "execution_count": 10,
   "metadata": {},
   "outputs": [],
   "source": [
    "# Part 3 - Making the predictions and visualising the results\n",
    "\n",
    "# Getting the real recent stock price until May 2019\n",
    "real_stock_price = Toyota_test.iloc[:, 2:3].values"
   ]
  },
  {
   "cell_type": "code",
   "execution_count": 11,
   "metadata": {},
   "outputs": [],
   "source": [
    "# Getting the predicted stock price until May 2019\n",
    "Toyota_total = pd.concat((Toyota_train['Close'], Toyota_test['Close']), axis = 0)\n",
    "inputs = Toyota_total[len(Toyota_total) - len(Toyota_test) - 60:].values\n",
    "inputs = inputs.reshape(-1,1)\n",
    "inputs = sc.transform(inputs)\n",
    "X_test = []\n",
    "for i in range(60, 246):\n",
    "    X_test.append(inputs[i-60:i, 0])\n",
    "X_test = np.array(X_test)\n",
    "X_test = np.reshape(X_test, (X_test.shape[0], X_test.shape[1], 1))\n",
    "predicted_stock_price = regressor.predict(X_test)\n",
    "predicted_stock_price = sc.inverse_transform(predicted_stock_price)"
   ]
  },
  {
   "cell_type": "code",
   "execution_count": 12,
   "metadata": {},
   "outputs": [
    {
     "data": {
      "image/png": "[encoded data removed]",
      "text/plain": [
       "<Figure size 432x288 with 1 Axes>"
      ]
     },
     "metadata": {
      "needs_background": "light"
     },
     "output_type": "display_data"
    }
   ],
   "source": [
    "# Visualising the results\n",
    "plt.plot(real_stock_price, color = 'red', label = 'Real Toyota Stock Price')\n",
    "plt.plot(predicted_stock_price, color = 'blue', label = 'Predicted Toyota Stock Price')\n",
    "plt.title('Toyota Stock Price prediction')\n",
    "plt.xlabel('Date')\n",
    "plt.ylabel('Toyota Stock Price')\n",
    "plt.legend()\n",
    "plt.show()"
   ]
  },
  {
   "cell_type": "code",
   "execution_count": 13,
   "metadata": {},
   "outputs": [
    {
     "data": {
      "text/plain": [
       "2.9797294162647763"
      ]
     },
     "execution_count": 13,
     "metadata": {},
     "output_type": "execute_result"
    }
   ],
   "source": [
    "#Evaluating the RNN\n",
    "import math\n",
    "from sklearn.metrics import mean_squared_error\n",
    "rmse = math.sqrt(mean_squared_error(real_stock_price, predicted_stock_price))\n",
    "rmse"
   ]
  },
  {
   "cell_type": "code",
   "execution_count": 14,
   "metadata": {},
   "outputs": [
    {
     "name": "stdout",
     "output_type": "stream",
     "text": [
      "relative error:  [0.20822711]\n"
     ]
    }
   ],
   "source": [
    "min_val=min(real_stock_price)\n",
    "max_val=max(real_stock_price)\n",
    "print (\"relative error: \", rmse/(max_val-min_val))"
   ]
  },
  {
   "cell_type": "code",
   "execution_count": 15,
   "metadata": {},
   "outputs": [
    {
     "data": {
      "image/png": "[encoded data removed]",
      "text/plain": [
       "<Figure size 432x288 with 1 Axes>"
      ]
     },
     "metadata": {
      "needs_background": "light"
     },
     "output_type": "display_data"
    }
   ],
   "source": [
    "# Visualising the results\n",
    " \n",
    "shift_pred= predicted_stock_price[:-1]\n",
    "shift_pred = np.append(0, np.reshape(shift_pred, len(shift_pred)))\n",
    "shift_real = real_stock_price[:-1]\n",
    "shift_real = np.append(0, np.reshape(shift_real, len(shift_real)))\n",
    " \n",
    "dif_pred = np.add(np.reshape(predicted_stock_price, len(predicted_stock_price)), - shift_pred)[1:]\n",
    "dif_real = np.add(np.reshape(real_stock_price, len(real_stock_price)), - shift_real)[1:]\n",
    " \n",
    "fig, ax = plt.subplots()\n",
    "ind = np.arange(dif_real.size)\n",
    "real_bar = ax.bar(ind-0.15, dif_real, width=0.3, color = 'red', label = 'Real Difference')\n",
    "pred_bar = ax.bar(ind+0.15, dif_pred, width=0.3, color = 'blue', label = 'Predicted Difference')\n",
    "ax.set_title('Toyota Stock Price Prediction')\n",
    "ax.set_xlabel('Date')\n",
    "ax.set_ylabel('Toyota Stock Price')\n",
    "ax.legend()\n",
    "plt.show()"
   ]
  }
 ],
 "metadata": {
  "kernelspec": {
   "display_name": "Python 3",
   "language": "python",
   "name": "python3"
  },
  "language_info": {
   "codemirror_mode": {
    "name": "ipython",
    "version": 3
   },
   "file_extension": ".py",
   "mimetype": "text/x-python",
   "name": "python",
   "nbconvert_exporter": "python",
   "pygments_lexer": "ipython3",
   "version": "3.7.3"
  }
 },
 "nbformat": 4,
 "nbformat_minor": 2
}
