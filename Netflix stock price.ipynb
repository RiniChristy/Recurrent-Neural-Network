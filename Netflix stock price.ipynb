{
 "cells": [
  {
   "cell_type": "code",
   "execution_count": 1,
   "metadata": {},
   "outputs": [],
   "source": [
    "from pandas_datareader import data, wb\n",
    "import pandas as pd\n",
    "import numpy as np\n",
    "import datetime\n",
    "import matplotlib.pyplot as plt\n",
    "%matplotlib inline\n",
    "import seaborn as sns"
   ]
  },
  {
   "cell_type": "code",
   "execution_count": 2,
   "metadata": {},
   "outputs": [
    {
     "data": {
      "text/html": [
       "<div>\n",
       "<style scoped>\n",
       "    .dataframe tbody tr th:only-of-type {\n",
       "        vertical-align: middle;\n",
       "    }\n",
       "\n",
       "    .dataframe tbody tr th {\n",
       "        vertical-align: top;\n",
       "    }\n",
       "\n",
       "    .dataframe thead th {\n",
       "        text-align: right;\n",
       "    }\n",
       "</style>\n",
       "<table border=\"1\" class=\"dataframe\">\n",
       "  <thead>\n",
       "    <tr style=\"text-align: right;\">\n",
       "      <th></th>\n",
       "      <th>High</th>\n",
       "      <th>Low</th>\n",
       "      <th>Open</th>\n",
       "      <th>Close</th>\n",
       "      <th>Volume</th>\n",
       "      <th>Adj Close</th>\n",
       "    </tr>\n",
       "    <tr>\n",
       "      <th>Date</th>\n",
       "      <th></th>\n",
       "      <th></th>\n",
       "      <th></th>\n",
       "      <th></th>\n",
       "      <th></th>\n",
       "      <th></th>\n",
       "    </tr>\n",
       "  </thead>\n",
       "  <tbody>\n",
       "    <tr>\n",
       "      <th>2002-05-23</th>\n",
       "      <td>1.242857</td>\n",
       "      <td>1.145714</td>\n",
       "      <td>1.156429</td>\n",
       "      <td>1.196429</td>\n",
       "      <td>104790000.0</td>\n",
       "      <td>1.196429</td>\n",
       "    </tr>\n",
       "    <tr>\n",
       "      <th>2002-05-24</th>\n",
       "      <td>1.225000</td>\n",
       "      <td>1.197143</td>\n",
       "      <td>1.214286</td>\n",
       "      <td>1.210000</td>\n",
       "      <td>11104800.0</td>\n",
       "      <td>1.210000</td>\n",
       "    </tr>\n",
       "    <tr>\n",
       "      <th>2002-05-28</th>\n",
       "      <td>1.232143</td>\n",
       "      <td>1.157143</td>\n",
       "      <td>1.213571</td>\n",
       "      <td>1.157143</td>\n",
       "      <td>6609400.0</td>\n",
       "      <td>1.157143</td>\n",
       "    </tr>\n",
       "    <tr>\n",
       "      <th>2002-05-29</th>\n",
       "      <td>1.164286</td>\n",
       "      <td>1.085714</td>\n",
       "      <td>1.164286</td>\n",
       "      <td>1.103571</td>\n",
       "      <td>6757800.0</td>\n",
       "      <td>1.103571</td>\n",
       "    </tr>\n",
       "    <tr>\n",
       "      <th>2002-05-30</th>\n",
       "      <td>1.107857</td>\n",
       "      <td>1.071429</td>\n",
       "      <td>1.107857</td>\n",
       "      <td>1.071429</td>\n",
       "      <td>10154200.0</td>\n",
       "      <td>1.071429</td>\n",
       "    </tr>\n",
       "  </tbody>\n",
       "</table>\n",
       "</div>"
      ],
      "text/plain": [
       "                High       Low      Open     Close       Volume  Adj Close\n",
       "Date                                                                      \n",
       "2002-05-23  1.242857  1.145714  1.156429  1.196429  104790000.0   1.196429\n",
       "2002-05-24  1.225000  1.197143  1.214286  1.210000   11104800.0   1.210000\n",
       "2002-05-28  1.232143  1.157143  1.213571  1.157143    6609400.0   1.157143\n",
       "2002-05-29  1.164286  1.085714  1.164286  1.103571    6757800.0   1.103571\n",
       "2002-05-30  1.107857  1.071429  1.107857  1.071429   10154200.0   1.071429"
      ]
     },
     "execution_count": 2,
     "metadata": {},
     "output_type": "execute_result"
    }
   ],
   "source": [
    "Netflix = data.DataReader(\"NFLX\", data_source=\"yahoo\", start = \"2002-05-01\", end = \"2019-06-01\")\n",
    "Netflix.head()"
   ]
  },
  {
   "cell_type": "code",
   "execution_count": 3,
   "metadata": {},
   "outputs": [
    {
     "data": {
      "text/html": [
       "<div>\n",
       "<style scoped>\n",
       "    .dataframe tbody tr th:only-of-type {\n",
       "        vertical-align: middle;\n",
       "    }\n",
       "\n",
       "    .dataframe tbody tr th {\n",
       "        vertical-align: top;\n",
       "    }\n",
       "\n",
       "    .dataframe thead th {\n",
       "        text-align: right;\n",
       "    }\n",
       "</style>\n",
       "<table border=\"1\" class=\"dataframe\">\n",
       "  <thead>\n",
       "    <tr style=\"text-align: right;\">\n",
       "      <th></th>\n",
       "      <th>High</th>\n",
       "      <th>Low</th>\n",
       "      <th>Open</th>\n",
       "      <th>Close</th>\n",
       "      <th>Volume</th>\n",
       "      <th>Adj Close</th>\n",
       "    </tr>\n",
       "    <tr>\n",
       "      <th>Date</th>\n",
       "      <th></th>\n",
       "      <th></th>\n",
       "      <th></th>\n",
       "      <th></th>\n",
       "      <th></th>\n",
       "      <th></th>\n",
       "    </tr>\n",
       "  </thead>\n",
       "  <tbody>\n",
       "    <tr>\n",
       "      <th>2019-05-20</th>\n",
       "      <td>352.420013</td>\n",
       "      <td>345.399994</td>\n",
       "      <td>351.230011</td>\n",
       "      <td>348.109985</td>\n",
       "      <td>4621500.0</td>\n",
       "      <td>348.109985</td>\n",
       "    </tr>\n",
       "    <tr>\n",
       "      <th>2019-05-21</th>\n",
       "      <td>356.429993</td>\n",
       "      <td>349.929993</td>\n",
       "      <td>350.950012</td>\n",
       "      <td>354.269989</td>\n",
       "      <td>4026400.0</td>\n",
       "      <td>354.269989</td>\n",
       "    </tr>\n",
       "    <tr>\n",
       "      <th>2019-05-22</th>\n",
       "      <td>370.459991</td>\n",
       "      <td>357.299988</td>\n",
       "      <td>358.010010</td>\n",
       "      <td>359.730011</td>\n",
       "      <td>6229400.0</td>\n",
       "      <td>359.730011</td>\n",
       "    </tr>\n",
       "    <tr>\n",
       "      <th>2019-05-23</th>\n",
       "      <td>357.420013</td>\n",
       "      <td>347.700012</td>\n",
       "      <td>355.500000</td>\n",
       "      <td>352.209991</td>\n",
       "      <td>5630400.0</td>\n",
       "      <td>352.209991</td>\n",
       "    </tr>\n",
       "    <tr>\n",
       "      <th>2019-05-24</th>\n",
       "      <td>359.440002</td>\n",
       "      <td>353.790009</td>\n",
       "      <td>355.410004</td>\n",
       "      <td>354.390015</td>\n",
       "      <td>3827400.0</td>\n",
       "      <td>354.390015</td>\n",
       "    </tr>\n",
       "  </tbody>\n",
       "</table>\n",
       "</div>"
      ],
      "text/plain": [
       "                  High         Low        Open       Close     Volume  \\\n",
       "Date                                                                    \n",
       "2019-05-20  352.420013  345.399994  351.230011  348.109985  4621500.0   \n",
       "2019-05-21  356.429993  349.929993  350.950012  354.269989  4026400.0   \n",
       "2019-05-22  370.459991  357.299988  358.010010  359.730011  6229400.0   \n",
       "2019-05-23  357.420013  347.700012  355.500000  352.209991  5630400.0   \n",
       "2019-05-24  359.440002  353.790009  355.410004  354.390015  3827400.0   \n",
       "\n",
       "             Adj Close  \n",
       "Date                    \n",
       "2019-05-20  348.109985  \n",
       "2019-05-21  354.269989  \n",
       "2019-05-22  359.730011  \n",
       "2019-05-23  352.209991  \n",
       "2019-05-24  354.390015  "
      ]
     },
     "execution_count": 3,
     "metadata": {},
     "output_type": "execute_result"
    }
   ],
   "source": [
    "Netflix.tail()"
   ]
  },
  {
   "cell_type": "code",
   "execution_count": 4,
   "metadata": {},
   "outputs": [
    {
     "data": {
      "text/plain": [
       "(4281, 6)"
      ]
     },
     "execution_count": 4,
     "metadata": {},
     "output_type": "execute_result"
    }
   ],
   "source": [
    "Netflix.shape"
   ]
  },
  {
   "cell_type": "code",
   "execution_count": 5,
   "metadata": {},
   "outputs": [
    {
     "data": {
      "text/plain": [
       "(4100, 6)"
      ]
     },
     "execution_count": 5,
     "metadata": {},
     "output_type": "execute_result"
    }
   ],
   "source": [
    "Netflix_train = Netflix.iloc[:4100, :]\n",
    "Netflix_train.shape"
   ]
  },
  {
   "cell_type": "code",
   "execution_count": 6,
   "metadata": {},
   "outputs": [
    {
     "data": {
      "text/plain": [
       "(181, 6)"
      ]
     },
     "execution_count": 6,
     "metadata": {},
     "output_type": "execute_result"
    }
   ],
   "source": [
    "Netflix_test = Netflix.iloc[4100:, :]\n",
    "Netflix_test.shape"
   ]
  },
  {
   "cell_type": "code",
   "execution_count": 7,
   "metadata": {},
   "outputs": [
    {
     "data": {
      "text/plain": [
       "array([[  1.15642858],\n",
       "       [  1.21428573],\n",
       "       [  1.21357143],\n",
       "       ...,\n",
       "       [365.        ],\n",
       "       [370.66000366],\n",
       "       [366.47000122]])"
      ]
     },
     "execution_count": 7,
     "metadata": {},
     "output_type": "execute_result"
    }
   ],
   "source": [
    "training_set = Netflix.iloc[:4100, 2:3].values\n",
    "training_set"
   ]
  },
  {
   "cell_type": "code",
   "execution_count": 8,
   "metadata": {},
   "outputs": [],
   "source": [
    "# Feature Scaling\n",
    "from sklearn.preprocessing import MinMaxScaler\n",
    "sc = MinMaxScaler(feature_range = (0, 1))\n",
    "training_set_scaled = sc.fit_transform(training_set)\n",
    "\n",
    "# Creating a data structure with 60 timesteps and 1 output\n",
    "X_train = []\n",
    "y_train = []\n",
    "for i in range(60, 4099):\n",
    "    X_train.append(training_set_scaled[i-60:i, 0])\n",
    "    y_train.append(training_set_scaled[i, 0])\n",
    "X_train, y_train = np.array(X_train), np.array(y_train)\n",
    "\n",
    "# Reshaping\n",
    "X_train = np.reshape(X_train, (X_train.shape[0], X_train.shape[1], 1))"
   ]
  },
  {
   "cell_type": "code",
   "execution_count": 9,
   "metadata": {},
   "outputs": [
    {
     "name": "stderr",
     "output_type": "stream",
     "text": [
      "Using TensorFlow backend.\n"
     ]
    },
    {
     "name": "stdout",
     "output_type": "stream",
     "text": [
      "WARNING:tensorflow:From C:\\Users\\Christy\\Anaconda3\\lib\\site-packages\\tensorflow\\python\\framework\\op_def_library.py:263: colocate_with (from tensorflow.python.framework.ops) is deprecated and will be removed in a future version.\n",
      "Instructions for updating:\n",
      "Colocations handled automatically by placer.\n",
      "WARNING:tensorflow:From C:\\Users\\Christy\\Anaconda3\\lib\\site-packages\\keras\\backend\\tensorflow_backend.py:3445: calling dropout (from tensorflow.python.ops.nn_ops) with keep_prob is deprecated and will be removed in a future version.\n",
      "Instructions for updating:\n",
      "Please use `rate` instead of `keep_prob`. Rate should be set to `rate = 1 - keep_prob`.\n"
     ]
    },
    {
     "name": "stderr",
     "output_type": "stream",
     "text": [
      "C:\\Users\\Christy\\Anaconda3\\lib\\site-packages\\dask\\config.py:168: YAMLLoadWarning: calling yaml.load() without Loader=... is deprecated, as the default Loader is unsafe. Please read https://msg.pyyaml.org/load for full details.\n",
      "  data = yaml.load(f.read()) or {}\n"
     ]
    },
    {
     "name": "stdout",
     "output_type": "stream",
     "text": [
      "WARNING:tensorflow:From C:\\Users\\Christy\\Anaconda3\\lib\\site-packages\\tensorflow\\python\\ops\\math_ops.py:3066: to_int32 (from tensorflow.python.ops.math_ops) is deprecated and will be removed in a future version.\n",
      "Instructions for updating:\n",
      "Use tf.cast instead.\n",
      "Epoch 1/50\n",
      "4039/4039 [==============================] - 44s 11ms/step - loss: 0.0039\n",
      "\n",
      "Epoch 00001: loss improved from inf to 0.00395, saving model to weights.h5\n",
      "Epoch 2/50\n",
      "4039/4039 [==============================] - 37s 9ms/step - loss: 9.9120e-04\n",
      "\n",
      "Epoch 00002: loss improved from 0.00395 to 0.00099, saving model to weights.h5\n",
      "Epoch 3/50\n",
      "4039/4039 [==============================] - 36s 9ms/step - loss: 9.3464e-04\n",
      "\n",
      "Epoch 00003: loss improved from 0.00099 to 0.00093, saving model to weights.h5\n",
      "Epoch 4/50\n",
      "4039/4039 [==============================] - 37s 9ms/step - loss: 6.7138e-04\n",
      "\n",
      "Epoch 00004: loss improved from 0.00093 to 0.00067, saving model to weights.h5\n",
      "Epoch 5/50\n",
      "4039/4039 [==============================] - 36s 9ms/step - loss: 7.4481e-04\n",
      "\n",
      "Epoch 00005: loss did not improve from 0.00067\n",
      "Epoch 6/50\n",
      "4039/4039 [==============================] - 36s 9ms/step - loss: 8.3207e-04\n",
      "\n",
      "Epoch 00006: loss did not improve from 0.00067\n",
      "Epoch 7/50\n",
      "4039/4039 [==============================] - 36s 9ms/step - loss: 7.5360e-04\n",
      "\n",
      "Epoch 00007: loss did not improve from 0.00067\n",
      "Epoch 8/50\n",
      "4039/4039 [==============================] - 36s 9ms/step - loss: 6.3007e-04\n",
      "\n",
      "Epoch 00008: loss improved from 0.00067 to 0.00063, saving model to weights.h5\n",
      "Epoch 9/50\n",
      "4039/4039 [==============================] - 36s 9ms/step - loss: 6.9626e-04\n",
      "\n",
      "Epoch 00009: ReduceLROnPlateau reducing learning rate to 0.0005000000237487257.\n",
      "\n",
      "Epoch 00009: loss did not improve from 0.00063\n",
      "Epoch 10/50\n",
      "4039/4039 [==============================] - 36s 9ms/step - loss: 4.9912e-04\n",
      "\n",
      "Epoch 00010: loss improved from 0.00063 to 0.00050, saving model to weights.h5\n",
      "Epoch 11/50\n",
      "4039/4039 [==============================] - 36s 9ms/step - loss: 5.8925e-04\n",
      "\n",
      "Epoch 00011: loss did not improve from 0.00050\n",
      "Epoch 12/50\n",
      "4039/4039 [==============================] - 36s 9ms/step - loss: 5.0637e-04\n",
      "\n",
      "Epoch 00012: loss did not improve from 0.00050\n",
      "Epoch 13/50\n",
      "4039/4039 [==============================] - 36s 9ms/step - loss: 5.5009e-04\n",
      "\n",
      "Epoch 00013: loss did not improve from 0.00050\n",
      "Epoch 14/50\n",
      "4039/4039 [==============================] - 36s 9ms/step - loss: 4.7064e-04\n",
      "\n",
      "Epoch 00014: loss improved from 0.00050 to 0.00047, saving model to weights.h5\n",
      "Epoch 15/50\n",
      "4039/4039 [==============================] - 36s 9ms/step - loss: 5.2552e-04\n",
      "\n",
      "Epoch 00015: ReduceLROnPlateau reducing learning rate to 0.0002500000118743628.\n",
      "\n",
      "Epoch 00015: loss did not improve from 0.00047\n",
      "Epoch 16/50\n",
      "4039/4039 [==============================] - 36s 9ms/step - loss: 4.4076e-04\n",
      "\n",
      "Epoch 00016: loss improved from 0.00047 to 0.00044, saving model to weights.h5\n",
      "Epoch 17/50\n",
      "4039/4039 [==============================] - 36s 9ms/step - loss: 4.7293e-04\n",
      "\n",
      "Epoch 00017: loss did not improve from 0.00044\n",
      "Epoch 18/50\n",
      "4039/4039 [==============================] - 36s 9ms/step - loss: 4.6060e-04\n",
      "\n",
      "Epoch 00018: loss did not improve from 0.00044\n",
      "Epoch 19/50\n",
      "4039/4039 [==============================] - 36s 9ms/step - loss: 4.7212e-04\n",
      "\n",
      "Epoch 00019: loss did not improve from 0.00044\n",
      "Epoch 20/50\n",
      "4039/4039 [==============================] - 36s 9ms/step - loss: 4.6173e-04\n",
      "\n",
      "Epoch 00020: ReduceLROnPlateau reducing learning rate to 0.0001250000059371814.\n",
      "\n",
      "Epoch 00020: loss did not improve from 0.00044\n",
      "Epoch 21/50\n",
      "4039/4039 [==============================] - 38s 9ms/step - loss: 4.0260e-04\n",
      "\n",
      "Epoch 00021: loss improved from 0.00044 to 0.00040, saving model to weights.h5\n",
      "Epoch 22/50\n",
      "4039/4039 [==============================] - 37s 9ms/step - loss: 4.0603e-04\n",
      "\n",
      "Epoch 00022: loss did not improve from 0.00040\n",
      "Epoch 23/50\n",
      "4039/4039 [==============================] - 36s 9ms/step - loss: 4.3686e-04\n",
      "\n",
      "Epoch 00023: loss did not improve from 0.00040\n",
      "Epoch 24/50\n",
      "4039/4039 [==============================] - 36s 9ms/step - loss: 4.3980e-04\n",
      "\n",
      "Epoch 00024: loss did not improve from 0.00040\n",
      "Epoch 25/50\n",
      "4039/4039 [==============================] - 36s 9ms/step - loss: 3.5404e-04\n",
      "\n",
      "Epoch 00025: loss improved from 0.00040 to 0.00035, saving model to weights.h5\n",
      "Epoch 26/50\n",
      "4039/4039 [==============================] - 36s 9ms/step - loss: 4.6619e-04\n",
      "\n",
      "Epoch 00026: loss did not improve from 0.00035\n",
      "Epoch 27/50\n",
      "4039/4039 [==============================] - 37s 9ms/step - loss: 3.7175e-04\n",
      "\n",
      "Epoch 00027: loss did not improve from 0.00035\n",
      "Epoch 28/50\n",
      "4039/4039 [==============================] - 36s 9ms/step - loss: 4.5004e-04\n",
      "\n",
      "Epoch 00028: loss did not improve from 0.00035\n",
      "Epoch 29/50\n",
      "4039/4039 [==============================] - 36s 9ms/step - loss: 3.7750e-04\n",
      "\n",
      "Epoch 00029: loss did not improve from 0.00035\n",
      "Epoch 30/50\n",
      "4039/4039 [==============================] - 36s 9ms/step - loss: 3.8223e-04\n",
      "\n",
      "Epoch 00030: ReduceLROnPlateau reducing learning rate to 6.25000029685907e-05.\n",
      "\n",
      "Epoch 00030: loss did not improve from 0.00035\n",
      "Epoch 00030: early stopping\n"
     ]
    }
   ],
   "source": [
    "# Part 2 - Building the RNN\n",
    "\n",
    "# Importing the Keras libraries and packages\n",
    "from keras.models import Sequential\n",
    "from keras.layers import Dense\n",
    "from keras.layers import LSTM\n",
    "from keras.layers import Dropout\n",
    "from keras.callbacks import EarlyStopping, ReduceLROnPlateau, ModelCheckpoint, TensorBoard\n",
    "\n",
    "# Initialising the RNN\n",
    "regressor = Sequential()\n",
    "\n",
    "# Adding the first LSTM layer and some Dropout regularisation\n",
    "regressor.add(LSTM(units = 50, return_sequences = True, input_shape = (X_train.shape[1], 1)))\n",
    "regressor.add(Dropout(0.2))\n",
    "\n",
    "# Adding a second LSTM layer and some Dropout regularisation\n",
    "regressor.add(LSTM(units = 50, return_sequences = True))\n",
    "regressor.add(Dropout(0.2))\n",
    "\n",
    "# Adding a third LSTM layer and some Dropout regularisation\n",
    "regressor.add(LSTM(units = 50, return_sequences = True))\n",
    "regressor.add(Dropout(0.2))\n",
    "\n",
    "# Adding a fourth LSTM layer and some Dropout regularisation\n",
    "regressor.add(LSTM(units = 50))\n",
    "regressor.add(Dropout(0.2))\n",
    "\n",
    "# Adding the output layer\n",
    "regressor.add(Dense(units = 1))\n",
    "\n",
    "# Compiling the RNN\n",
    "regressor.compile(optimizer = 'adam', loss = 'mean_squared_error')\n",
    "\n",
    "\n",
    "# Fitting the RNN to the Training set using Keras Callbacks\n",
    "es = EarlyStopping(monitor='loss', mode='min', min_delta=1e-10, patience=5, verbose=1)\n",
    "rlr = ReduceLROnPlateau(monitor='loss', factor=0.5, patience=5, verbose=1)\n",
    "mcp = ModelCheckpoint(filepath='weights.h5', monitor='loss', verbose=1, save_best_only=True, save_weights_only=True)\n",
    "tb = TensorBoard('logs')\n",
    "history = regressor.fit(X_train, y_train, shuffle=True, epochs = 50, callbacks=[es, rlr,mcp, tb],batch_size = 32)"
   ]
  },
  {
   "cell_type": "code",
   "execution_count": 10,
   "metadata": {},
   "outputs": [],
   "source": [
    "# Part 3 - Making the predictions and visualising the results\n",
    "\n",
    "# Getting the real recent stock price until May 2019\n",
    "real_stock_price = Netflix_test.iloc[:, 2:3].values"
   ]
  },
  {
   "cell_type": "code",
   "execution_count": 11,
   "metadata": {},
   "outputs": [],
   "source": [
    "# Getting the predicted stock price until May 2019\n",
    "Netflix_total = pd.concat((Netflix_train['Close'], Netflix_test['Close']), axis = 0)\n",
    "inputs = Netflix_total[len(Netflix_total) - len(Netflix_test) - 60:].values\n",
    "inputs = inputs.reshape(-1,1)\n",
    "inputs = sc.transform(inputs)\n",
    "X_test = []\n",
    "for i in range(60, 241):\n",
    "    X_test.append(inputs[i-60:i, 0])\n",
    "X_test = np.array(X_test)\n",
    "X_test = np.reshape(X_test, (X_test.shape[0], X_test.shape[1], 1))\n",
    "predicted_stock_price = regressor.predict(X_test)\n",
    "predicted_stock_price = sc.inverse_transform(predicted_stock_price)"
   ]
  },
  {
   "cell_type": "code",
   "execution_count": 12,
   "metadata": {},
   "outputs": [
    {
     "data": {
      "image/png": "[encoded data removed]",
      "text/plain": [
       "<Figure size 432x288 with 1 Axes>"
      ]
     },
     "metadata": {
      "needs_background": "light"
     },
     "output_type": "display_data"
    }
   ],
   "source": [
    "# Visualising the results\n",
    "plt.plot(real_stock_price, color = 'red', label = 'Real Netflix Stock Price')\n",
    "plt.plot(predicted_stock_price, color = 'blue', label = 'Predicted Netflix Stock Price')\n",
    "plt.title('Netflix Stock Price prediction')\n",
    "plt.xlabel('Days')\n",
    "plt.ylabel('Netflix Stock Price')\n",
    "plt.legend()\n",
    "plt.show()"
   ]
  },
  {
   "cell_type": "code",
   "execution_count": 13,
   "metadata": {},
   "outputs": [
    {
     "data": {
      "text/plain": [
       "18.07281415765894"
      ]
     },
     "execution_count": 13,
     "metadata": {},
     "output_type": "execute_result"
    }
   ],
   "source": [
    "#Evaluating the RNN\n",
    "import math\n",
    "from sklearn.metrics import mean_squared_error\n",
    "rmse = math.sqrt(mean_squared_error(real_stock_price, predicted_stock_price))\n",
    "rmse"
   ]
  },
  {
   "cell_type": "code",
   "execution_count": 14,
   "metadata": {},
   "outputs": [
    {
     "name": "stdout",
     "output_type": "stream",
     "text": [
      "relative error:  [0.12011706]\n"
     ]
    }
   ],
   "source": [
    "min_val=min(real_stock_price)\n",
    "max_val=max(real_stock_price)\n",
    "print (\"relative error: \", rmse/(max_val-min_val))"
   ]
  },
  {
   "cell_type": "code",
   "execution_count": 15,
   "metadata": {},
   "outputs": [
    {
     "data": {
      "image/png": "[encoded data removed]",
      "text/plain": [
       "<Figure size 432x288 with 1 Axes>"
      ]
     },
     "metadata": {
      "needs_background": "light"
     },
     "output_type": "display_data"
    }
   ],
   "source": [
    "# Visualising the results\n",
    " \n",
    "shift_pred= predicted_stock_price[:-1]\n",
    "shift_pred = np.append(0, np.reshape(shift_pred, len(shift_pred)))\n",
    "shift_real = real_stock_price[:-1]\n",
    "shift_real = np.append(0, np.reshape(shift_real, len(shift_real)))\n",
    " \n",
    "dif_pred = np.add(np.reshape(predicted_stock_price, len(predicted_stock_price)), - shift_pred)[1:]\n",
    "dif_real = np.add(np.reshape(real_stock_price, len(real_stock_price)), - shift_real)[1:]\n",
    " \n",
    "fig, ax = plt.subplots()\n",
    "ind = np.arange(dif_real.size)\n",
    "real_bar = ax.bar(ind-0.15, dif_real, width=0.3, color = 'red', label = 'Real Difference')\n",
    "pred_bar = ax.bar(ind+0.15, dif_pred, width=0.3, color = 'blue', label = 'Predicted Difference')\n",
    "ax.set_title('Netflix Stock Price Prediction')\n",
    "ax.set_xlabel('Days')\n",
    "ax.set_ylabel('Netflix Stock Price')\n",
    "ax.legend()\n",
    "plt.show()"
   ]
  }
 ],
 "metadata": {
  "kernelspec": {
   "display_name": "Python 3",
   "language": "python",
   "name": "python3"
  },
  "language_info": {
   "codemirror_mode": {
    "name": "ipython",
    "version": 3
   },
   "file_extension": ".py",
   "mimetype": "text/x-python",
   "name": "python",
   "nbconvert_exporter": "python",
   "pygments_lexer": "ipython3",
   "version": "3.7.3"
  }
 },
 "nbformat": 4,
 "nbformat_minor": 2
}
