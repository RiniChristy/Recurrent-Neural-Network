{
 "cells": [
  {
   "cell_type": "code",
   "execution_count": 1,
   "metadata": {},
   "outputs": [],
   "source": [
    "from pandas_datareader import data, wb\n",
    "import pandas as pd\n",
    "import numpy as np\n",
    "import datetime\n",
    "import matplotlib.pyplot as plt\n",
    "%matplotlib inline\n",
    "import seaborn as sns"
   ]
  },
  {
   "cell_type": "code",
   "execution_count": 2,
   "metadata": {},
   "outputs": [
    {
     "data": {
      "text/html": [
       "<div>\n",
       "<style scoped>\n",
       "    .dataframe tbody tr th:only-of-type {\n",
       "        vertical-align: middle;\n",
       "    }\n",
       "\n",
       "    .dataframe tbody tr th {\n",
       "        vertical-align: top;\n",
       "    }\n",
       "\n",
       "    .dataframe thead th {\n",
       "        text-align: right;\n",
       "    }\n",
       "</style>\n",
       "<table border=\"1\" class=\"dataframe\">\n",
       "  <thead>\n",
       "    <tr style=\"text-align: right;\">\n",
       "      <th></th>\n",
       "      <th>High</th>\n",
       "      <th>Low</th>\n",
       "      <th>Open</th>\n",
       "      <th>Close</th>\n",
       "      <th>Volume</th>\n",
       "      <th>Adj Close</th>\n",
       "    </tr>\n",
       "    <tr>\n",
       "      <th>Date</th>\n",
       "      <th></th>\n",
       "      <th></th>\n",
       "      <th></th>\n",
       "      <th></th>\n",
       "      <th></th>\n",
       "      <th></th>\n",
       "    </tr>\n",
       "  </thead>\n",
       "  <tbody>\n",
       "    <tr>\n",
       "      <th>2010-06-09</th>\n",
       "      <td>2.883816</td>\n",
       "      <td>2.883816</td>\n",
       "      <td>2.883816</td>\n",
       "      <td>2.883816</td>\n",
       "      <td>0.0</td>\n",
       "      <td>2.496576</td>\n",
       "    </tr>\n",
       "    <tr>\n",
       "      <th>2010-06-10</th>\n",
       "      <td>2.883816</td>\n",
       "      <td>2.883816</td>\n",
       "      <td>2.883816</td>\n",
       "      <td>2.883816</td>\n",
       "      <td>0.0</td>\n",
       "      <td>2.496576</td>\n",
       "    </tr>\n",
       "    <tr>\n",
       "      <th>2010-06-11</th>\n",
       "      <td>2.883816</td>\n",
       "      <td>2.883816</td>\n",
       "      <td>2.883816</td>\n",
       "      <td>2.883816</td>\n",
       "      <td>0.0</td>\n",
       "      <td>2.496576</td>\n",
       "    </tr>\n",
       "    <tr>\n",
       "      <th>2010-06-14</th>\n",
       "      <td>2.883816</td>\n",
       "      <td>2.883816</td>\n",
       "      <td>2.883816</td>\n",
       "      <td>2.883816</td>\n",
       "      <td>0.0</td>\n",
       "      <td>2.496576</td>\n",
       "    </tr>\n",
       "    <tr>\n",
       "      <th>2010-06-15</th>\n",
       "      <td>2.883816</td>\n",
       "      <td>2.883816</td>\n",
       "      <td>2.883816</td>\n",
       "      <td>2.883816</td>\n",
       "      <td>0.0</td>\n",
       "      <td>2.496576</td>\n",
       "    </tr>\n",
       "  </tbody>\n",
       "</table>\n",
       "</div>"
      ],
      "text/plain": [
       "                High       Low      Open     Close  Volume  Adj Close\n",
       "Date                                                                 \n",
       "2010-06-09  2.883816  2.883816  2.883816  2.883816     0.0   2.496576\n",
       "2010-06-10  2.883816  2.883816  2.883816  2.883816     0.0   2.496576\n",
       "2010-06-11  2.883816  2.883816  2.883816  2.883816     0.0   2.496576\n",
       "2010-06-14  2.883816  2.883816  2.883816  2.883816     0.0   2.496576\n",
       "2010-06-15  2.883816  2.883816  2.883816  2.883816     0.0   2.496576"
      ]
     },
     "execution_count": 2,
     "metadata": {},
     "output_type": "execute_result"
    }
   ],
   "source": [
    "Fiat = data.DataReader(\"FCAU\", data_source=\"yahoo\", start = \"2010-06-07\", end = \"2019-06-01\")\n",
    "Fiat.head()"
   ]
  },
  {
   "cell_type": "code",
   "execution_count": 3,
   "metadata": {},
   "outputs": [
    {
     "data": {
      "text/html": [
       "<div>\n",
       "<style scoped>\n",
       "    .dataframe tbody tr th:only-of-type {\n",
       "        vertical-align: middle;\n",
       "    }\n",
       "\n",
       "    .dataframe tbody tr th {\n",
       "        vertical-align: top;\n",
       "    }\n",
       "\n",
       "    .dataframe thead th {\n",
       "        text-align: right;\n",
       "    }\n",
       "</style>\n",
       "<table border=\"1\" class=\"dataframe\">\n",
       "  <thead>\n",
       "    <tr style=\"text-align: right;\">\n",
       "      <th></th>\n",
       "      <th>High</th>\n",
       "      <th>Low</th>\n",
       "      <th>Open</th>\n",
       "      <th>Close</th>\n",
       "      <th>Volume</th>\n",
       "      <th>Adj Close</th>\n",
       "    </tr>\n",
       "    <tr>\n",
       "      <th>Date</th>\n",
       "      <th></th>\n",
       "      <th></th>\n",
       "      <th></th>\n",
       "      <th></th>\n",
       "      <th></th>\n",
       "      <th></th>\n",
       "    </tr>\n",
       "  </thead>\n",
       "  <tbody>\n",
       "    <tr>\n",
       "      <th>2019-05-20</th>\n",
       "      <td>13.40</td>\n",
       "      <td>13.14</td>\n",
       "      <td>13.21</td>\n",
       "      <td>13.37</td>\n",
       "      <td>4897900.0</td>\n",
       "      <td>13.37</td>\n",
       "    </tr>\n",
       "    <tr>\n",
       "      <th>2019-05-21</th>\n",
       "      <td>13.34</td>\n",
       "      <td>13.18</td>\n",
       "      <td>13.27</td>\n",
       "      <td>13.26</td>\n",
       "      <td>3815100.0</td>\n",
       "      <td>13.26</td>\n",
       "    </tr>\n",
       "    <tr>\n",
       "      <th>2019-05-22</th>\n",
       "      <td>13.26</td>\n",
       "      <td>13.02</td>\n",
       "      <td>13.22</td>\n",
       "      <td>13.03</td>\n",
       "      <td>3364300.0</td>\n",
       "      <td>13.03</td>\n",
       "    </tr>\n",
       "    <tr>\n",
       "      <th>2019-05-23</th>\n",
       "      <td>12.81</td>\n",
       "      <td>12.61</td>\n",
       "      <td>12.75</td>\n",
       "      <td>12.73</td>\n",
       "      <td>5029000.0</td>\n",
       "      <td>12.73</td>\n",
       "    </tr>\n",
       "    <tr>\n",
       "      <th>2019-05-24</th>\n",
       "      <td>12.93</td>\n",
       "      <td>12.82</td>\n",
       "      <td>12.90</td>\n",
       "      <td>12.85</td>\n",
       "      <td>3965400.0</td>\n",
       "      <td>12.85</td>\n",
       "    </tr>\n",
       "  </tbody>\n",
       "</table>\n",
       "</div>"
      ],
      "text/plain": [
       "             High    Low   Open  Close     Volume  Adj Close\n",
       "Date                                                        \n",
       "2019-05-20  13.40  13.14  13.21  13.37  4897900.0      13.37\n",
       "2019-05-21  13.34  13.18  13.27  13.26  3815100.0      13.26\n",
       "2019-05-22  13.26  13.02  13.22  13.03  3364300.0      13.03\n",
       "2019-05-23  12.81  12.61  12.75  12.73  5029000.0      12.73\n",
       "2019-05-24  12.93  12.82  12.90  12.85  3965400.0      12.85"
      ]
     },
     "execution_count": 3,
     "metadata": {},
     "output_type": "execute_result"
    }
   ],
   "source": [
    "Fiat.tail()"
   ]
  },
  {
   "cell_type": "code",
   "execution_count": 4,
   "metadata": {},
   "outputs": [
    {
     "data": {
      "text/plain": [
       "(2256, 6)"
      ]
     },
     "execution_count": 4,
     "metadata": {},
     "output_type": "execute_result"
    }
   ],
   "source": [
    "Fiat.shape"
   ]
  },
  {
   "cell_type": "code",
   "execution_count": 5,
   "metadata": {},
   "outputs": [
    {
     "data": {
      "text/plain": [
       "(2200, 6)"
      ]
     },
     "execution_count": 5,
     "metadata": {},
     "output_type": "execute_result"
    }
   ],
   "source": [
    "Fiat_train = Fiat.iloc[:2200, :]\n",
    "Fiat_train.shape"
   ]
  },
  {
   "cell_type": "code",
   "execution_count": 6,
   "metadata": {},
   "outputs": [
    {
     "data": {
      "text/plain": [
       "(56, 6)"
      ]
     },
     "execution_count": 6,
     "metadata": {},
     "output_type": "execute_result"
    }
   ],
   "source": [
    "Fiat_test = Fiat.iloc[2200:, :]\n",
    "Fiat_test.shape"
   ]
  },
  {
   "cell_type": "code",
   "execution_count": 7,
   "metadata": {},
   "outputs": [
    {
     "data": {
      "text/plain": [
       "array([[ 2.88381577],\n",
       "       [ 2.88381577],\n",
       "       [ 2.88381577],\n",
       "       ...,\n",
       "       [14.61999989],\n",
       "       [14.64999962],\n",
       "       [15.17000008]])"
      ]
     },
     "execution_count": 7,
     "metadata": {},
     "output_type": "execute_result"
    }
   ],
   "source": [
    "training_set = Fiat.iloc[:2200, 2:3].values\n",
    "training_set"
   ]
  },
  {
   "cell_type": "code",
   "execution_count": 8,
   "metadata": {},
   "outputs": [],
   "source": [
    "# Feature Scaling\n",
    "from sklearn.preprocessing import MinMaxScaler\n",
    "sc = MinMaxScaler(feature_range = (0, 1))\n",
    "training_set_scaled = sc.fit_transform(training_set)\n",
    "\n",
    "# Creating a data structure with 60 timesteps and 1 output\n",
    "X_train = []\n",
    "y_train = []\n",
    "for i in range(60, 2199):\n",
    "    X_train.append(training_set_scaled[i-60:i, 0])\n",
    "    y_train.append(training_set_scaled[i, 0])\n",
    "X_train, y_train = np.array(X_train), np.array(y_train)\n",
    "\n",
    "# Reshaping\n",
    "X_train = np.reshape(X_train, (X_train.shape[0], X_train.shape[1], 1))"
   ]
  },
  {
   "cell_type": "code",
   "execution_count": 9,
   "metadata": {},
   "outputs": [
    {
     "name": "stderr",
     "output_type": "stream",
     "text": [
      "Using TensorFlow backend.\n"
     ]
    },
    {
     "name": "stdout",
     "output_type": "stream",
     "text": [
      "WARNING:tensorflow:From C:\\Users\\Christy\\Anaconda3\\lib\\site-packages\\tensorflow\\python\\framework\\op_def_library.py:263: colocate_with (from tensorflow.python.framework.ops) is deprecated and will be removed in a future version.\n",
      "Instructions for updating:\n",
      "Colocations handled automatically by placer.\n",
      "WARNING:tensorflow:From C:\\Users\\Christy\\Anaconda3\\lib\\site-packages\\keras\\backend\\tensorflow_backend.py:3445: calling dropout (from tensorflow.python.ops.nn_ops) with keep_prob is deprecated and will be removed in a future version.\n",
      "Instructions for updating:\n",
      "Please use `rate` instead of `keep_prob`. Rate should be set to `rate = 1 - keep_prob`.\n"
     ]
    },
    {
     "name": "stderr",
     "output_type": "stream",
     "text": [
      "C:\\Users\\Christy\\Anaconda3\\lib\\site-packages\\dask\\config.py:168: YAMLLoadWarning: calling yaml.load() without Loader=... is deprecated, as the default Loader is unsafe. Please read https://msg.pyyaml.org/load for full details.\n",
      "  data = yaml.load(f.read()) or {}\n"
     ]
    },
    {
     "name": "stdout",
     "output_type": "stream",
     "text": [
      "WARNING:tensorflow:From C:\\Users\\Christy\\Anaconda3\\lib\\site-packages\\tensorflow\\python\\ops\\math_ops.py:3066: to_int32 (from tensorflow.python.ops.math_ops) is deprecated and will be removed in a future version.\n",
      "Instructions for updating:\n",
      "Use tf.cast instead.\n",
      "Epoch 1/100\n",
      "2139/2139 [==============================] - 61s 29ms/step - loss: 0.0102\n",
      "\n",
      "Epoch 00001: loss improved from inf to 0.01018, saving model to weights.h5\n",
      "Epoch 2/100\n",
      "2139/2139 [==============================] - 49s 23ms/step - loss: 0.0029\n",
      "\n",
      "Epoch 00002: loss improved from 0.01018 to 0.00287, saving model to weights.h5\n",
      "Epoch 3/100\n",
      "2139/2139 [==============================] - 49s 23ms/step - loss: 0.0024\n",
      "\n",
      "Epoch 00003: loss improved from 0.00287 to 0.00242, saving model to weights.h5\n",
      "Epoch 4/100\n",
      "2139/2139 [==============================] - 49s 23ms/step - loss: 0.0023\n",
      "\n",
      "Epoch 00004: loss improved from 0.00242 to 0.00228, saving model to weights.h5\n",
      "Epoch 5/100\n",
      "2139/2139 [==============================] - 49s 23ms/step - loss: 0.0023\n",
      "\n",
      "Epoch 00005: loss did not improve from 0.00228\n",
      "Epoch 6/100\n",
      "2139/2139 [==============================] - 49s 23ms/step - loss: 0.0020\n",
      "\n",
      "Epoch 00006: loss improved from 0.00228 to 0.00199, saving model to weights.h5\n",
      "Epoch 7/100\n",
      "2139/2139 [==============================] - 49s 23ms/step - loss: 0.0022\n",
      "\n",
      "Epoch 00007: loss did not improve from 0.00199\n",
      "Epoch 8/100\n",
      "2139/2139 [==============================] - 48s 23ms/step - loss: 0.0022\n",
      "\n",
      "Epoch 00008: loss did not improve from 0.00199\n",
      "Epoch 9/100\n",
      "2139/2139 [==============================] - 49s 23ms/step - loss: 0.0018\n",
      "\n",
      "Epoch 00009: loss improved from 0.00199 to 0.00183, saving model to weights.h5\n",
      "Epoch 10/100\n",
      "2139/2139 [==============================] - 49s 23ms/step - loss: 0.0018\n",
      "\n",
      "Epoch 00010: loss improved from 0.00183 to 0.00182, saving model to weights.h5\n",
      "Epoch 11/100\n",
      "2139/2139 [==============================] - 49s 23ms/step - loss: 0.0016\n",
      "\n",
      "Epoch 00011: loss improved from 0.00182 to 0.00165, saving model to weights.h5\n",
      "Epoch 12/100\n",
      "2139/2139 [==============================] - 49s 23ms/step - loss: 0.0018\n",
      "\n",
      "Epoch 00012: loss did not improve from 0.00165\n",
      "Epoch 13/100\n",
      "2139/2139 [==============================] - 48s 23ms/step - loss: 0.0019\n",
      "\n",
      "Epoch 00013: loss did not improve from 0.00165\n",
      "Epoch 14/100\n",
      "2139/2139 [==============================] - 49s 23ms/step - loss: 0.0015\n",
      "\n",
      "Epoch 00014: loss improved from 0.00165 to 0.00151, saving model to weights.h5\n",
      "Epoch 15/100\n",
      "2139/2139 [==============================] - 49s 23ms/step - loss: 0.0017\n",
      "\n",
      "Epoch 00015: loss did not improve from 0.00151\n",
      "Epoch 16/100\n",
      "2139/2139 [==============================] - 39s 18ms/step - loss: 0.0016\n",
      "\n",
      "Epoch 00016: loss did not improve from 0.00151\n",
      "Epoch 17/100\n",
      "2139/2139 [==============================] - 32s 15ms/step - loss: 0.0015\n",
      "\n",
      "Epoch 00017: loss improved from 0.00151 to 0.00147, saving model to weights.h5\n",
      "Epoch 18/100\n",
      "2139/2139 [==============================] - 32s 15ms/step - loss: 0.0015\n",
      "\n",
      "Epoch 00018: loss did not improve from 0.00147\n",
      "Epoch 19/100\n",
      "2139/2139 [==============================] - 32s 15ms/step - loss: 0.0013\n",
      "\n",
      "Epoch 00019: loss improved from 0.00147 to 0.00132, saving model to weights.h5\n",
      "Epoch 20/100\n",
      "2139/2139 [==============================] - 32s 15ms/step - loss: 0.0012\n",
      "\n",
      "Epoch 00020: loss improved from 0.00132 to 0.00118, saving model to weights.h5\n",
      "Epoch 21/100\n",
      "2139/2139 [==============================] - 32s 15ms/step - loss: 0.0012\n",
      "\n",
      "Epoch 00021: loss improved from 0.00118 to 0.00117, saving model to weights.h5\n",
      "Epoch 22/100\n",
      "2139/2139 [==============================] - 32s 15ms/step - loss: 0.0013\n",
      "\n",
      "Epoch 00022: loss did not improve from 0.00117\n",
      "Epoch 23/100\n",
      "2139/2139 [==============================] - 32s 15ms/step - loss: 0.0014\n",
      "\n",
      "Epoch 00023: loss did not improve from 0.00117\n",
      "Epoch 24/100\n",
      "2139/2139 [==============================] - 32s 15ms/step - loss: 0.0012\n",
      "\n",
      "Epoch 00024: loss did not improve from 0.00117\n",
      "Epoch 25/100\n",
      "2139/2139 [==============================] - 32s 15ms/step - loss: 0.0012\n",
      "\n",
      "Epoch 00025: ReduceLROnPlateau reducing learning rate to 0.0005000000237487257.\n",
      "\n",
      "Epoch 00025: loss improved from 0.00117 to 0.00116, saving model to weights.h5\n",
      "Epoch 26/100\n",
      "2139/2139 [==============================] - 32s 15ms/step - loss: 0.0013\n",
      "\n",
      "Epoch 00026: loss did not improve from 0.00116\n",
      "Epoch 27/100\n",
      "2139/2139 [==============================] - 32s 15ms/step - loss: 0.0011\n",
      "\n",
      "Epoch 00027: loss improved from 0.00116 to 0.00112, saving model to weights.h5\n",
      "Epoch 28/100\n",
      "2139/2139 [==============================] - 32s 15ms/step - loss: 0.0011\n",
      "\n",
      "Epoch 00028: loss improved from 0.00112 to 0.00108, saving model to weights.h5\n",
      "Epoch 29/100\n",
      "2139/2139 [==============================] - 33s 15ms/step - loss: 0.0011\n",
      "\n",
      "Epoch 00029: loss did not improve from 0.00108\n",
      "Epoch 30/100\n",
      "2139/2139 [==============================] - 32s 15ms/step - loss: 0.0011\n",
      "\n",
      "Epoch 00030: loss improved from 0.00108 to 0.00106, saving model to weights.h5\n",
      "Epoch 31/100\n",
      "2139/2139 [==============================] - 32s 15ms/step - loss: 9.9056e-04\n",
      "\n",
      "Epoch 00031: loss improved from 0.00106 to 0.00099, saving model to weights.h5\n",
      "Epoch 32/100\n",
      "2139/2139 [==============================] - 34s 16ms/step - loss: 0.0011\n",
      "\n",
      "Epoch 00032: loss did not improve from 0.00099\n",
      "Epoch 33/100\n",
      "2139/2139 [==============================] - 32s 15ms/step - loss: 0.0011\n",
      "\n",
      "Epoch 00033: loss did not improve from 0.00099\n",
      "Epoch 34/100\n",
      "2139/2139 [==============================] - 32s 15ms/step - loss: 0.0011\n",
      "\n",
      "Epoch 00034: loss did not improve from 0.00099\n",
      "Epoch 35/100\n",
      "2139/2139 [==============================] - 32s 15ms/step - loss: 0.0011\n",
      "\n",
      "Epoch 00035: ReduceLROnPlateau reducing learning rate to 0.0002500000118743628.\n",
      "\n",
      "Epoch 00035: loss did not improve from 0.00099\n",
      "Epoch 36/100\n",
      "2139/2139 [==============================] - 32s 15ms/step - loss: 9.6771e-04\n",
      "\n",
      "Epoch 00036: loss improved from 0.00099 to 0.00097, saving model to weights.h5\n",
      "Epoch 37/100\n",
      "2139/2139 [==============================] - 32s 15ms/step - loss: 9.7114e-04\n",
      "\n",
      "Epoch 00037: loss did not improve from 0.00097\n",
      "Epoch 38/100\n",
      "2139/2139 [==============================] - 20s 9ms/step - loss: 9.9470e-04\n",
      "\n",
      "Epoch 00038: loss did not improve from 0.00097\n",
      "Epoch 39/100\n",
      "2139/2139 [==============================] - 19s 9ms/step - loss: 9.2798e-04\n",
      "\n",
      "Epoch 00039: loss improved from 0.00097 to 0.00093, saving model to weights.h5\n",
      "Epoch 40/100\n",
      "2139/2139 [==============================] - 19s 9ms/step - loss: 0.0010\n",
      "\n",
      "Epoch 00040: loss did not improve from 0.00093\n",
      "Epoch 41/100\n",
      "2139/2139 [==============================] - 19s 9ms/step - loss: 9.1838e-04\n",
      "\n",
      "Epoch 00041: loss improved from 0.00093 to 0.00092, saving model to weights.h5\n",
      "Epoch 42/100\n",
      "2139/2139 [==============================] - 19s 9ms/step - loss: 9.7767e-04\n",
      "\n",
      "Epoch 00042: loss did not improve from 0.00092\n",
      "Epoch 43/100\n",
      "2139/2139 [==============================] - 19s 9ms/step - loss: 8.9688e-04\n",
      "\n",
      "Epoch 00043: loss improved from 0.00092 to 0.00090, saving model to weights.h5\n",
      "Epoch 44/100\n",
      "2139/2139 [==============================] - 19s 9ms/step - loss: 8.5818e-04\n",
      "\n",
      "Epoch 00044: ReduceLROnPlateau reducing learning rate to 0.0001250000059371814.\n",
      "\n",
      "Epoch 00044: loss improved from 0.00090 to 0.00086, saving model to weights.h5\n",
      "Epoch 45/100\n",
      "2139/2139 [==============================] - 19s 9ms/step - loss: 9.8999e-04\n",
      "\n",
      "Epoch 00045: loss did not improve from 0.00086\n",
      "Epoch 46/100\n",
      "2139/2139 [==============================] - 19s 9ms/step - loss: 9.1646e-04\n",
      "\n",
      "Epoch 00046: loss did not improve from 0.00086\n",
      "Epoch 47/100\n",
      "2139/2139 [==============================] - 19s 9ms/step - loss: 9.3013e-04\n",
      "\n",
      "Epoch 00047: loss did not improve from 0.00086\n",
      "Epoch 48/100\n",
      "2139/2139 [==============================] - 19s 9ms/step - loss: 8.8742e-04\n",
      "\n",
      "Epoch 00048: loss did not improve from 0.00086\n",
      "Epoch 49/100\n",
      "2139/2139 [==============================] - 19s 9ms/step - loss: 8.7478e-04\n",
      "\n",
      "Epoch 00049: ReduceLROnPlateau reducing learning rate to 6.25000029685907e-05.\n",
      "\n",
      "Epoch 00049: loss did not improve from 0.00086\n",
      "Epoch 00049: early stopping\n"
     ]
    }
   ],
   "source": [
    "# Part 2 - Building the RNN\n",
    "\n",
    "# Importing the Keras libraries and packages\n",
    "from keras.models import Sequential\n",
    "from keras.layers import Dense\n",
    "from keras.layers import LSTM\n",
    "from keras.layers import Dropout\n",
    "from keras.callbacks import EarlyStopping, ReduceLROnPlateau, ModelCheckpoint, TensorBoard\n",
    "\n",
    "# Initialising the RNN\n",
    "regressor = Sequential()\n",
    "\n",
    "# Adding the first LSTM layer and some Dropout regularisation\n",
    "regressor.add(LSTM(units = 50, return_sequences = True, input_shape = (X_train.shape[1], 1)))\n",
    "regressor.add(Dropout(0.2))\n",
    "\n",
    "# Adding a second LSTM layer and some Dropout regularisation\n",
    "regressor.add(LSTM(units = 50, return_sequences = True))\n",
    "regressor.add(Dropout(0.2))\n",
    "\n",
    "# Adding a third LSTM layer and some Dropout regularisation\n",
    "regressor.add(LSTM(units = 50, return_sequences = True))\n",
    "regressor.add(Dropout(0.2))\n",
    "\n",
    "# Adding a fourth LSTM layer and some Dropout regularisation\n",
    "regressor.add(LSTM(units = 50))\n",
    "regressor.add(Dropout(0.2))\n",
    "\n",
    "# Adding the output layer\n",
    "regressor.add(Dense(units = 1))\n",
    "\n",
    "# Compiling the RNN\n",
    "regressor.compile(optimizer = 'adam', loss = 'mean_squared_error')\n",
    "\n",
    "\n",
    "# Fitting the RNN to the Training set using Keras Callbacks\n",
    "es = EarlyStopping(monitor='loss', mode='min', min_delta=1e-10, patience=5, verbose=1)\n",
    "rlr = ReduceLROnPlateau(monitor='loss', factor=0.5, patience=5, verbose=1)\n",
    "mcp = ModelCheckpoint(filepath='weights.h5', monitor='loss', verbose=1, save_best_only=True, save_weights_only=True)\n",
    "tb = TensorBoard('logs')\n",
    "history = regressor.fit(X_train, y_train, shuffle=True, epochs = 100, callbacks=[es, rlr,mcp, tb],batch_size = 32)"
   ]
  },
  {
   "cell_type": "code",
   "execution_count": 10,
   "metadata": {},
   "outputs": [],
   "source": [
    "# Part 3 - Making the predictions and visualising the results\n",
    "\n",
    "# Getting the real recent stock price until May 2019\n",
    "real_stock_price = Fiat_test.iloc[:, 2:3].values"
   ]
  },
  {
   "cell_type": "code",
   "execution_count": 11,
   "metadata": {},
   "outputs": [],
   "source": [
    "# Getting the predicted stock price until May 2019\n",
    "Fiat_total = pd.concat((Fiat_train['Close'], Fiat_test['Close']), axis = 0)\n",
    "inputs = Fiat_total[len(Fiat_total) - len(Fiat_test) - 60:].values\n",
    "inputs = inputs.reshape(-1,1)\n",
    "inputs = sc.transform(inputs)\n",
    "X_test = []\n",
    "for i in range(60, 116):\n",
    "    X_test.append(inputs[i-60:i, 0])\n",
    "X_test = np.array(X_test)\n",
    "X_test = np.reshape(X_test, (X_test.shape[0], X_test.shape[1], 1))\n",
    "predicted_stock_price = regressor.predict(X_test)\n",
    "predicted_stock_price = sc.inverse_transform(predicted_stock_price)"
   ]
  },
  {
   "cell_type": "code",
   "execution_count": 12,
   "metadata": {},
   "outputs": [
    {
     "data": {
      "image/png": "[encoded data removed]",
      "text/plain": [
       "<Figure size 432x288 with 1 Axes>"
      ]
     },
     "metadata": {
      "needs_background": "light"
     },
     "output_type": "display_data"
    }
   ],
   "source": [
    "# Visualising the results\n",
    "plt.plot(real_stock_price, color = 'red', label = 'Real Fiat Stock Price')\n",
    "plt.plot(predicted_stock_price, color = 'blue', label = 'Predicted Fiat Stock Price')\n",
    "plt.title('Fiat Stock Price prediction')\n",
    "plt.xlabel('Date')\n",
    "plt.ylabel('Fiat Stock Price')\n",
    "plt.legend()\n",
    "plt.show()"
   ]
  },
  {
   "cell_type": "code",
   "execution_count": 13,
   "metadata": {},
   "outputs": [
    {
     "data": {
      "text/plain": [
       "0.5593707640464152"
      ]
     },
     "execution_count": 13,
     "metadata": {},
     "output_type": "execute_result"
    }
   ],
   "source": [
    "#Evaluating the RNN\n",
    "import math\n",
    "from sklearn.metrics import mean_squared_error\n",
    "rmse = math.sqrt(mean_squared_error(real_stock_price, predicted_stock_price))\n",
    "rmse"
   ]
  },
  {
   "cell_type": "code",
   "execution_count": 14,
   "metadata": {},
   "outputs": [
    {
     "name": "stdout",
     "output_type": "stream",
     "text": [
      "relative error:  [0.14681649]\n"
     ]
    }
   ],
   "source": [
    "min_val=min(real_stock_price)\n",
    "max_val=max(real_stock_price)\n",
    "print (\"relative error: \", rmse/(max_val-min_val))"
   ]
  },
  {
   "cell_type": "code",
   "execution_count": 15,
   "metadata": {},
   "outputs": [
    {
     "data": {
      "image/png": "[encoded data removed]",
      "text/plain": [
       "<Figure size 432x288 with 1 Axes>"
      ]
     },
     "metadata": {
      "needs_background": "light"
     },
     "output_type": "display_data"
    }
   ],
   "source": [
    "# Visualising the results\n",
    " \n",
    "shift_pred= predicted_stock_price[:-1]\n",
    "shift_pred = np.append(0, np.reshape(shift_pred, len(shift_pred)))\n",
    "shift_real = real_stock_price[:-1]\n",
    "shift_real = np.append(0, np.reshape(shift_real, len(shift_real)))\n",
    " \n",
    "dif_pred = np.add(np.reshape(predicted_stock_price, len(predicted_stock_price)), - shift_pred)[1:]\n",
    "dif_real = np.add(np.reshape(real_stock_price, len(real_stock_price)), - shift_real)[1:]\n",
    " \n",
    "fig, ax = plt.subplots()\n",
    "ind = np.arange(dif_real.size)\n",
    "real_bar = ax.bar(ind-0.15, dif_real, width=0.3, color = 'red', label = 'Real Difference')\n",
    "pred_bar = ax.bar(ind+0.15, dif_pred, width=0.3, color = 'blue', label = 'Predicted Difference')\n",
    "ax.set_title('Fiat Stock Price Prediction')\n",
    "ax.set_xlabel('Date')\n",
    "ax.set_ylabel('Fiat Stock Price')\n",
    "ax.legend()\n",
    "plt.show()"
   ]
  }
 ],
 "metadata": {
  "kernelspec": {
   "display_name": "Python 3",
   "language": "python",
   "name": "python3"
  },
  "language_info": {
   "codemirror_mode": {
    "name": "ipython",
    "version": 3
   },
   "file_extension": ".py",
   "mimetype": "text/x-python",
   "name": "python",
   "nbconvert_exporter": "python",
   "pygments_lexer": "ipython3",
   "version": "3.7.3"
  }
 },
 "nbformat": 4,
 "nbformat_minor": 2
}
